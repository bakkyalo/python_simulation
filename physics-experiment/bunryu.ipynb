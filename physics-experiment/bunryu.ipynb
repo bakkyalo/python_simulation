{
 "cells": [
  {
   "cell_type": "code",
   "execution_count": 1,
   "metadata": {},
   "outputs": [
    {
     "name": "stdout",
     "output_type": "stream",
     "text": [
      "平均自由行程\n",
      "c2h2 = 0.0007918 m\n",
      "no2 = 0.001599 m\n"
     ]
    }
   ],
   "source": [
    "# 分留\n",
    "from math import pi, sqrt\n",
    "\n",
    "# 圧力 [mmHg] -> [Pa]\n",
    "P_c2h2 = 4 * 133\n",
    "P_no2 = 1 * 133\n",
    "P = 10\n",
    "\n",
    "# 分子直径 [m]\n",
    "d_c2h2 = 339.1e-12\n",
    "d_no2 = 238.6e-12\n",
    "\n",
    "kB = 1.38064852 * 10**(-23)    # ボルツマン定数\n",
    "T = 293    # 温度\n",
    "\n",
    "# mean free path [m]\n",
    "# lambda_c2h2 =  kB*T/(P_c2h2) * 1/(sqrt(2) * pi * d_c2h2**2)\n",
    "# lambda_no2 =  kB*T/(P_no2) * 1/(sqrt(2) * pi * d_no2**2)\n",
    "lambda_c2h2 =  kB*T/(P) * 1/(sqrt(2) * pi * d_c2h2**2)\n",
    "lambda_no2 =  kB*T/(P) * 1/(sqrt(2) * pi * d_no2**2)\n",
    "\n",
    "print('平均自由行程')\n",
    "print('c2h2 = {0:.4} m'. format(lambda_c2h2))\n",
    "print('no2 = {0:.4} m'. format(lambda_no2))"
   ]
  },
  {
   "cell_type": "code",
   "execution_count": 38,
   "metadata": {},
   "outputs": [
    {
     "name": "stdout",
     "output_type": "stream",
     "text": [
      "Cp = 8.563e-05 m^3/sec\n"
     ]
    }
   ],
   "source": [
    "# 粘性流のコンダクタンス\n",
    "D = 5e-3    # 円形導管直径  [m]\n",
    "L = 0.1     # 円形導管の長さ [m]\n",
    "p = 10      # 導管内平均圧力 [Pa]\n",
    "\n",
    "Cp = 1.37e3 * D**4 * p / L\n",
    "print('Cp = {0:.4} m^3/sec'. format(Cp))"
   ]
  },
  {
   "cell_type": "code",
   "execution_count": 39,
   "metadata": {},
   "outputs": [
    {
     "name": "stdout",
     "output_type": "stream",
     "text": [
      "Q = 0.9102 J/sec\n"
     ]
    }
   ],
   "source": [
    "Dp = 80*133 - 10\n",
    "Q = Cp * Dp\n",
    "print('Q = {0:.4} J/sec'. format(Q))"
   ]
  },
  {
   "cell_type": "code",
   "execution_count": null,
   "metadata": {},
   "outputs": [],
   "source": []
  }
 ],
 "metadata": {
  "kernelspec": {
   "display_name": "Python 3",
   "language": "python",
   "name": "python3"
  },
  "language_info": {
   "codemirror_mode": {
    "name": "ipython",
    "version": 3
   },
   "file_extension": ".py",
   "mimetype": "text/x-python",
   "name": "python",
   "nbconvert_exporter": "python",
   "pygments_lexer": "ipython3",
   "version": "3.6.4"
  }
 },
 "nbformat": 4,
 "nbformat_minor": 2
}
