{
 "cells": [
  {
   "cell_type": "code",
   "execution_count": 96,
   "metadata": {},
   "outputs": [
    {
     "name": "stdout",
     "output_type": "stream",
     "text": [
      "alpha線の空気中における飛程\n",
      "\n",
      "4.0 MeV --> 24.400 mm,     4.5 MeV --> 29.354 mm,     5.0 MeV --> 34.659 mm \n"
     ]
    }
   ],
   "source": [
    "# 霧箱の実験\n",
    "# alpha線の空気中における飛程\n",
    "\n",
    "# math.exp()をつかう\n",
    "import math\n",
    "\n",
    "# 運動エネルギー T [MeV],  飛程 R [mm]\n",
    "T = [4.0, 4.5, 5.0]\n",
    "R =[]\n",
    "\n",
    "# 空気中における運動エネルギーT [MeV]のalpha線の飛程\n",
    "def range_alpha_air(T):\n",
    "    if T < 4.0:\n",
    "        return math.exp(1.61 * math.sqrt(T))\n",
    "    else :\n",
    "        return (0.05*T + 2.85) * T**(1.5)\n",
    "\n",
    "# 飛程Rの更新\n",
    "for i in range(3):\n",
    "    R.append(range_alpha_air(T[i]))\n",
    "\n",
    "T_air = T[1]   # 4.5 MeV\n",
    "R_air = R[1]  # 空気での飛程\n",
    "\n",
    "print(\"alpha線の空気中における飛程\\n\")\n",
    "print(\"4.0 MeV --> {0:.3f} mm,     4.5 MeV --> {1:.3f} mm,     5.0 MeV --> {2:.3f} mm \".format(R[0], R[1], R[2]))"
   ]
  },
  {
   "cell_type": "code",
   "execution_count": 73,
   "metadata": {},
   "outputs": [
    {
     "name": "stdout",
     "output_type": "stream",
     "text": [
      "実効分子量\n",
      "空気: 14.74\n",
      "ポリエチレン: 6.565\n",
      "アルミ: 27.00\n"
     ]
    }
   ],
   "source": [
    "# 空気の実効分子量\n",
    "A_air = (0.229/math.sqrt(16) + 0.745/math.sqrt(14) + 0.026/math.sqrt(40))**-2\n",
    "\n",
    "# ポリエチレンの実効分子量\n",
    "A_poly = (1/7 + 6/(7*math.sqrt(12) ))**-2\n",
    "\n",
    "# アルミの原子量\n",
    "A_Al = 27\n",
    "\n",
    "# 空気の比重 [g / cm^3]\n",
    "rho_air = 1.2 * 10**-3\n",
    "\n",
    "# ポリエチレンの比重 [g / cm^3]\n",
    "rho_poly = 0.9\n",
    "\n",
    "# アルミの比重 [g / cm^3]\n",
    "rho_Al = 2.7\n",
    "\n",
    "print(\"実効分子量\")\n",
    "print(\"空気: {:.2f}\".format(A_air))\n",
    "print(\"ポリエチレン: {:.3f}\".format(A_poly))\n",
    "print(\"アルミ: {:.2f}\".format(A_Al))"
   ]
  },
  {
   "cell_type": "code",
   "execution_count": 68,
   "metadata": {},
   "outputs": [
    {
     "name": "stdout",
     "output_type": "stream",
     "text": [
      "ポリエチレンの飛程: 0.0261 mm     アルミの飛程: 0.0177 mm\n"
     ]
    }
   ],
   "source": [
    "# 物質中の飛程を空気のR_air, rho_air, A_air, および物質のrho, Aから求める\n",
    "def range_alpha_mat(rho, A):\n",
    "    return R_air * (rho_air / rho) * math.sqrt(A / A_air)\n",
    "\n",
    "R_poly = range_alpha_mat(rho_poly, A_poly)\n",
    "R_Al = range_alpha_mat(rho_Al, A_Al)\n",
    "\n",
    "print(\"ポリエチレンの飛程: {0:.4f} mm     アルミの飛程: {1:.4f} mm\".format(R_poly, R_Al))"
   ]
  },
  {
   "cell_type": "code",
   "execution_count": 84,
   "metadata": {},
   "outputs": [],
   "source": [
    "# 磁束密度 B[T]\n",
    "B = 0.37\n",
    "\n",
    "# 曲率半径 [cm]\n",
    "def radius_curvature(p, n):    # 運動量p [MeV/c],  素電荷の数n\n",
    "    return p / (3 * n * B)\n",
    "\n",
    "# 相対論的運動量 p [MeV/c]\n",
    "def p_relative(M, T):    # 静止質量M [MeV/c^2],  運動エネルギーT[MeV]\n",
    "    return math.sqrt(T * (T + 2*M))\n",
    "\n",
    "# 非相対論的運動量 p [MeV/c]\n",
    "def p_non_relative(M, T):    # 静止質量M [MeV/c^2],  運動エネルギーT[MeV]\n",
    "    return math.sqrt(2*M*T)\n",
    "\n",
    "# ずれx [cm]\n",
    "def gap(r, d):    # 曲率半径r [cm],  飛程d[cm]\n",
    "    theta = d / r\n",
    "    return r * (1 - math.cos(theta))"
   ]
  },
  {
   "cell_type": "code",
   "execution_count": 110,
   "metadata": {},
   "outputs": [
    {
     "name": "stdout",
     "output_type": "stream",
     "text": [
      "alpha線の\n",
      "（非相対論的）曲率半径: 91.206 cm      横ずれ: 0.089 cm\n",
      "beta線について\n",
      "運動エネルギー [0.30176818422422036, 0.44537683222732527] MeV -->  相対論的曲率半径:[0.30176818422422036, 0.44537683222732527] cm\n",
      "運動エネルギー [0.30176818422422036, 0.44537683222732527] MeV -->  相対論的曲率半径:[0.30176818422422036, 0.44537683222732527] cm\n"
     ]
    }
   ],
   "source": [
    "# 静止質量M [MeV/c^2]\n",
    "M_alpha = 3727\n",
    "M_beta = 0.511\n",
    "\n",
    "# 運動エネルギー  T[MeV]\n",
    "T_alpha = 5.5\n",
    "T_beta = [0.1, 0.2]\n",
    "\n",
    "# 電荷の数\n",
    "n_alpha = 2\n",
    "n_beta = 1\n",
    "\n",
    "\n",
    "# alpha線の（非相対論的）曲率半径 [cm]\n",
    "p_alpha = p_non_relative(M_alpha, T_alpha)\n",
    "r_alpha = radius_curvature(p_alpha, n_alpha)\n",
    "\n",
    "# 5.5MeVのalpha線の飛程 [cm]\n",
    "d_alpha = range_alpha_air(T_alpha) * 0.1\n",
    "\n",
    "# alpha線の横ずれ x [cm]\n",
    "x_alpha = gap(r_alpha, d_alpha)\n",
    "\n",
    "print(\"alpha線の\")\n",
    "print(\"（非相対論的）曲率半径: {0:.3f} cm      横ずれ: {1:.3f} cm\".format(r_alpha, x_alpha))\n",
    "\n",
    "\n",
    "# 回りくどいなぁおい！！！\n",
    "# beta線の（相対論的）曲率半径 [cm]\n",
    "p_beta_rel = []\n",
    "r_beta_rel = []\n",
    "for i in range(2):\n",
    "    p_beta_rel.append(p_relative(M_beta, T_beta[i]))\n",
    "    r_beta_rel.append(radius_curvature(p_beta[i], n_beta))\n",
    "    \n",
    "# beta線の（非相対論的）曲率半径 [cm]\n",
    "p_beta_non_rel = []\n",
    "r_beta_non_rel = []\n",
    "for i in range(2):\n",
    "    p_beta_non_rel.append(p_non_relative(M_beta, T_beta[i]))\n",
    "    r_beta_non_rel.append(radius_curvature(p_beta[i], n_beta))\n",
    "    \n",
    "# 疲れた\n",
    "# 表示\n",
    "print(\"beta線について\")\n",
    "for i in range(2):\n",
    "    print(\"運動エネルギー {0} MeV -->  相対論的曲率半径:{0} cm\".format(r_beta_rel))"
   ]
  },
  {
   "cell_type": "code",
   "execution_count": null,
   "metadata": {},
   "outputs": [],
   "source": []
  }
 ],
 "metadata": {
  "kernelspec": {
   "display_name": "Python 3",
   "language": "python",
   "name": "python3"
  },
  "language_info": {
   "codemirror_mode": {
    "name": "ipython",
    "version": 3
   },
   "file_extension": ".py",
   "mimetype": "text/x-python",
   "name": "python",
   "nbconvert_exporter": "python",
   "pygments_lexer": "ipython3",
   "version": "3.6.4"
  }
 },
 "nbformat": 4,
 "nbformat_minor": 2
}
