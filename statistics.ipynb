{
 "cells": [
  {
   "cell_type": "code",
   "execution_count": 17,
   "metadata": {
    "scrolled": true
   },
   "outputs": [
    {
     "name": "stdout",
     "output_type": "stream",
     "text": [
      "md_a = 2.760,  md_b = 3.760, md_c = 1.200\n",
      "\n",
      "gini_a = 0.276,  gini_b = 0.376, gini_c = 0.120\n"
     ]
    }
   ],
   "source": [
    "# 統計学入門 問題2.2  ジニ係数\n",
    "from statistics import mean\n",
    "\n",
    "a = [0, 3, 3, 5, 5, 5, 5, 7, 7, 10]\n",
    "b = [0, 1, 2, 3, 5, 5, 7, 8, 9, 10]\n",
    "c = [3, 4, 4, 5, 5, 5, 5, 6, 6, 7]\n",
    "\n",
    "mean_a = mean(a)\n",
    "mean_b = mean(b)\n",
    "mean_c = mean(c)\n",
    "\n",
    "wa_a = 0\n",
    "wa_b = 0\n",
    "wa_c = 0\n",
    "\n",
    "for i in range(10):\n",
    "    for j in range(10):\n",
    "        wa_a += abs(a[i] - a[j])\n",
    "        wa_b += abs(b[i] - b[j])\n",
    "        wa_c += abs(c[i] - c[j])\n",
    "\n",
    "# 平均差\n",
    "md_a = wa_a / 100\n",
    "md_b = wa_b / 100\n",
    "md_c = wa_c / 100\n",
    "\n",
    "# gini係数\n",
    "gini_a = md_a / (2*mean_a)\n",
    "gini_b = md_b / (2*mean_b)\n",
    "gini_c = md_c / (2*mean_c)\n",
    "\n",
    "print('md_a = {0:.3f},  md_b = {1:.3f}, md_c = {2:.3f}\\n'.format(md_a, md_b, md_c))\n",
    "print('gini_a = {0:.3f},  gini_b = {1:.3f}, gini_c = {2:.3f}'.format(gini_a, gini_b, gini_c))"
   ]
  },
  {
   "cell_type": "code",
   "execution_count": 44,
   "metadata": {},
   "outputs": [
    {
     "name": "stdout",
     "output_type": "stream",
     "text": [
      "S_now = 0.668,  S_ago = 0.670\n",
      "\n",
      "z_now =  ['1.42', '-0.118', '-1.18', '0.473', '-0.591']\n",
      "z_ago =  ['0.988', '-0.865', '-0.247', '1.11', '-0.988']\n",
      "T_now =  ['64.2', '48.8', '38.2', '54.7', '44.1']\n",
      "T_ago =  ['59.9', '41.4', '47.5', '61.1', '40.1']\n"
     ]
    }
   ],
   "source": [
    "# 問題2.3  エントロピー\n",
    "from math import log\n",
    "from math import log10\n",
    "\n",
    "\n",
    "now = [32, 19, 10, 24, 15]\n",
    "ago = [28, 13, 18, 29, 12]\n",
    "\n",
    "p_now = [i/100 for i in now]\n",
    "p_ago = [i/100 for i in ago]\n",
    "\n",
    "S_now = 0\n",
    "S_ago = 0\n",
    "\n",
    "for i in range(5):\n",
    "    S_now += -1 * p_now[i] * log10(p_now[i])\n",
    "    S_ago += -1 * p_ago[i] * log10(p_ago[i])\n",
    "\n",
    "print('S_now = {0:.3f},  S_ago = {1:.3f}\\n'.format(S_now, S_ago))\n",
    "\n",
    "\n",
    "# 問題2.4  諸得点\n",
    "from statistics import stdev, mean\n",
    "\n",
    "mean_now = mean(now)\n",
    "mean_ago = mean(ago)\n",
    "\n",
    "stdev_now = stdev(now)\n",
    "stdev_ago = stdev(ago)\n",
    "\n",
    "z_now = [(i - mean_now)/stdev_now for i in now]\n",
    "z_ago = [(i - mean_ago)/stdev_ago for i in ago]\n",
    "\n",
    "T_now = [10*i + 50 for i in z_now]\n",
    "T_ago = [10*i + 50 for i in z_ago]\n",
    "\n",
    "print('z_now = ', ['{0:.3}'.format(i) for i in z_now])\n",
    "print('z_ago = ', ['{0:.3}'.format(i) for i in z_ago])\n",
    "print('T_now = ', ['{0:.3}'.format(i) for i in T_now])\n",
    "print('T_ago = ', ['{0:.3}'.format(i) for i in T_ago])"
   ]
  },
  {
   "cell_type": "code",
   "execution_count": null,
   "metadata": {},
   "outputs": [],
   "source": []
  }
 ],
 "metadata": {
  "kernelspec": {
   "display_name": "Python 3",
   "language": "python",
   "name": "python3"
  },
  "language_info": {
   "codemirror_mode": {
    "name": "ipython",
    "version": 3
   },
   "file_extension": ".py",
   "mimetype": "text/x-python",
   "name": "python",
   "nbconvert_exporter": "python",
   "pygments_lexer": "ipython3",
   "version": "3.6.4"
  }
 },
 "nbformat": 4,
 "nbformat_minor": 2
}
