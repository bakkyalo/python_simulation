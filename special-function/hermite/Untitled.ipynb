{
 "cells": [
  {
   "cell_type": "code",
   "execution_count": null,
   "metadata": {},
   "outputs": [],
   "source": [
    "from matplotlib import pyplot\n",
    "\n",
    "\n",
    "from matplotlib import rc\n",
    "rc('text', usetex=True)\n",
    "sympy.init_printing()\n",
    "\n",
    "from sympy import hermite\n",
    "from sympy import Symbol\n",
    "from sympy.plotting import plot\n",
    "\n",
    "x = Symbol('x')\n",
    "\n",
    "p = plot(hermite(0, x), hermite(1, x), hermite(2, x), \n",
    "                hermite(3, x), hermite(4, x), (x, -3.5, 3.5), ylim = (-30, 50), \n",
    "                legend=True, show=False, xlabel = r'$x$', ylabel='')\n",
    "p[0].line_color = '#FF6860'\n",
    "p[0].label = r'$H_0 (x)$'\n",
    "p[1].line_color = '#4169E1'\n",
    "p[1].label = r'$H_1 (x)$'\n",
    "p[2].line_color = '#FDC44F'\n",
    "p[2].label = r'$H_2 (x)$'\n",
    "p[3].line_color = '#7CBE89'\n",
    "p[3].label = r'$H_3 (x)$'\n",
    "p[4].line_color = '#C088FF'\n",
    "p[4].label = r'$H_4 (x)$'\n",
    "p.show()\n",
    "# p.save('hermite.png')"
   ]
  }
 ],
 "metadata": {
  "kernelspec": {
   "display_name": "Python 3",
   "language": "python",
   "name": "python3"
  },
  "language_info": {
   "codemirror_mode": {
    "name": "ipython",
    "version": 3
   },
   "file_extension": ".py",
   "mimetype": "text/x-python",
   "name": "python",
   "nbconvert_exporter": "python",
   "pygments_lexer": "ipython3",
   "version": "3.6.4"
  }
 },
 "nbformat": 4,
 "nbformat_minor": 2
}
