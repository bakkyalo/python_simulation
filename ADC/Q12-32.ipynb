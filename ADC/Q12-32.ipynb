{
 "cells": [
  {
   "cell_type": "code",
   "execution_count": 12,
   "metadata": {
    "scrolled": false
   },
   "outputs": [
    {
     "name": "stdout",
     "output_type": "stream",
     "text": [
      "N_10 = 2\n",
      "N_20 = sqrt(2)/8\n",
      "N_21 = sqrt(6)/72\n",
      "N_30 = sqrt(3)/81\n",
      "N_31 = sqrt(6)/1296\n",
      "N_32 = sqrt(30)/32400\n",
      "N_40 = 1/384\n",
      "N_41 = sqrt(15)/28800\n",
      "N_42 = sqrt(5)/345600\n",
      "N_43 = sqrt(35)/16934400\n",
      "\n",
      "F_10 (x) = exp(-x/2)\n",
      "F_20 (x) = -2*(x - 2)*exp(-x/2)\n",
      "F_21 (x) = 6*x*exp(-x/2)\n",
      "F_30 (x) = 3*(x**2 - 6*x + 6)*exp(-x/2)\n",
      "F_31 (x) = -24*x*(x - 4)*exp(-x/2)\n",
      "F_32 (x) = 120*x**2*exp(-x/2)\n",
      "F_40 (x) = -4*(x**3 - 12*x**2 + 36*x - 24)*exp(-x/2)\n",
      "F_41 (x) = 60*x*(x**2 - 10*x + 20)*exp(-x/2)\n",
      "F_42 (x) = -720*x**2*(x - 6)*exp(-x/2)\n",
      "F_43 (x) = 5040*x**3*exp(-x/2)\n"
     ]
    }
   ],
   "source": [
    "import sympy as sym\n",
    "\n",
    "x = sym.Symbol('x')\n",
    "\n",
    "\n",
    "# Associated Laguerre polynomials\n",
    "def L(n, k):\n",
    "    f = (sym.exp(-x) * x**(n+k)) \n",
    "    \n",
    "    for i in range(n):\n",
    "        f = sym.diff(f)\n",
    "    \n",
    "    return sym.exp(x) / x**k * f * sym.Rational(sym.factorial(n+k) / sym.factorial(n))\n",
    "\n",
    "\n",
    "# F\n",
    "def F(n, l):\n",
    "    return x**l * sym.exp(-x/2) * L(n-l-1, 2*l+1)\n",
    "\n",
    "\n",
    "# Normalization constant\n",
    "def N(n, l):\n",
    "    return  sym.sqrt(sym.factorial(n-l-1)/sym.factorial(n+l)**3) * 2 / (n**2)\n",
    "\n",
    "\n",
    "# print\n",
    "for n in range(1, 5):\n",
    "    for l in range(n):\n",
    "        print('N_' + str(n) + str(l) + ' =', N(n, l))\n",
    "    \n",
    "print('')\n",
    "        \n",
    "for n in range(1, 5):\n",
    "    for l in range(n):\n",
    "        print('F_' + str(n) + str(l) + ' (x) =', sym.factor(sym.expand(F(n, l))))"
   ]
  },
  {
   "cell_type": "code",
   "execution_count": 3,
   "metadata": {},
   "outputs": [
    {
     "name": "stdout",
     "output_type": "stream",
     "text": [
      "N_1^0 =\n"
     ]
    },
    {
     "data": {
      "image/png": "[encoded data removed]",
      "text/latex": [
       "$$2$$"
      ],
      "text/plain": [
       "2"
      ]
     },
     "metadata": {},
     "output_type": "display_data"
    },
    {
     "name": "stdout",
     "output_type": "stream",
     "text": [
      "N_2^0 =\n"
     ]
    },
    {
     "data": {
      "image/png": "[encoded data removed]",
      "text/latex": [
       "$$\\frac{\\sqrt{2}}{8}$$"
      ],
      "text/plain": [
       "√2\n",
       "──\n",
       "8 "
      ]
     },
     "metadata": {},
     "output_type": "display_data"
    },
    {
     "name": "stdout",
     "output_type": "stream",
     "text": [
      "N_2^1 =\n"
     ]
    },
    {
     "data": {
      "image/png": "[encoded data removed]",
      "text/latex": [
       "$$\\frac{\\sqrt{6}}{72}$$"
      ],
      "text/plain": [
       "√6\n",
       "──\n",
       "72"
      ]
     },
     "metadata": {},
     "output_type": "display_data"
    },
    {
     "name": "stdout",
     "output_type": "stream",
     "text": [
      "N_3^0 =\n"
     ]
    },
    {
     "data": {
      "image/png": "[encoded data removed]",
      "text/latex": [
       "$$\\frac{\\sqrt{3}}{81}$$"
      ],
      "text/plain": [
       "√3\n",
       "──\n",
       "81"
      ]
     },
     "metadata": {},
     "output_type": "display_data"
    },
    {
     "name": "stdout",
     "output_type": "stream",
     "text": [
      "N_3^1 =\n"
     ]
    },
    {
     "data": {
      "image/png": "[encoded data removed]",
      "text/latex": [
       "$$\\frac{\\sqrt{6}}{1296}$$"
      ],
      "text/plain": [
       " √6 \n",
       "────\n",
       "1296"
      ]
     },
     "metadata": {},
     "output_type": "display_data"
    },
    {
     "name": "stdout",
     "output_type": "stream",
     "text": [
      "N_3^2 =\n"
     ]
    },
    {
     "data": {
      "image/png": "[encoded data removed]",
      "text/latex": [
       "$$\\frac{\\sqrt{30}}{32400}$$"
      ],
      "text/plain": [
       " √30 \n",
       "─────\n",
       "32400"
      ]
     },
     "metadata": {},
     "output_type": "display_data"
    },
    {
     "name": "stdout",
     "output_type": "stream",
     "text": [
      "N_4^0 =\n"
     ]
    },
    {
     "data": {
      "image/png": "[encoded data removed]",
      "text/latex": [
       "$$\\frac{1}{384}$$"
      ],
      "text/plain": [
       "1/384"
      ]
     },
     "metadata": {},
     "output_type": "display_data"
    },
    {
     "name": "stdout",
     "output_type": "stream",
     "text": [
      "N_4^1 =\n"
     ]
    },
    {
     "data": {
      "image/png": "[encoded data removed]",
      "text/latex": [
       "$$\\frac{\\sqrt{15}}{28800}$$"
      ],
      "text/plain": [
       " √15 \n",
       "─────\n",
       "28800"
      ]
     },
     "metadata": {},
     "output_type": "display_data"
    },
    {
     "name": "stdout",
     "output_type": "stream",
     "text": [
      "N_4^2 =\n"
     ]
    },
    {
     "data": {
      "image/png": "[encoded data removed]",
      "text/latex": [
       "$$\\frac{\\sqrt{5}}{345600}$$"
      ],
      "text/plain": [
       "  √5  \n",
       "──────\n",
       "345600"
      ]
     },
     "metadata": {},
     "output_type": "display_data"
    },
    {
     "name": "stdout",
     "output_type": "stream",
     "text": [
      "N_4^3 =\n"
     ]
    },
    {
     "data": {
      "image/png": "[encoded data removed]",
      "text/latex": [
       "$$\\frac{\\sqrt{35}}{16934400}$$"
      ],
      "text/plain": [
       "  √35   \n",
       "────────\n",
       "16934400"
      ]
     },
     "metadata": {},
     "output_type": "display_data"
    },
    {
     "name": "stdout",
     "output_type": "stream",
     "text": [
      "\n",
      "F_1^0 (z) =\n"
     ]
    },
    {
     "data": {
      "image/png": "[encoded data removed]",
      "text/latex": [
       "$$e^{- \\frac{z}{2}}$$"
      ],
      "text/plain": [
       " -z \n",
       " ───\n",
       "  2 \n",
       "ℯ   "
      ]
     },
     "metadata": {},
     "output_type": "display_data"
    },
    {
     "name": "stdout",
     "output_type": "stream",
     "text": [
      "F_2^0 (z) =\n"
     ]
    },
    {
     "data": {
      "image/png": "[encoded data removed]",
      "text/latex": [
       "$$- 2 \\left(z - 2\\right) e^{- \\frac{z}{2}}$$"
      ],
      "text/plain": [
       "            -z \n",
       "            ───\n",
       "             2 \n",
       "-2⋅(z - 2)⋅ℯ   "
      ]
     },
     "metadata": {},
     "output_type": "display_data"
    },
    {
     "name": "stdout",
     "output_type": "stream",
     "text": [
      "F_2^1 (z) =\n"
     ]
    },
    {
     "data": {
      "image/png": "[encoded data removed]",
      "text/latex": [
       "$$6 z e^{- \\frac{z}{2}}$$"
      ],
      "text/plain": [
       "     -z \n",
       "     ───\n",
       "      2 \n",
       "6⋅z⋅ℯ   "
      ]
     },
     "metadata": {},
     "output_type": "display_data"
    },
    {
     "name": "stdout",
     "output_type": "stream",
     "text": [
      "F_3^0 (z) =\n"
     ]
    },
    {
     "data": {
      "image/png": "[encoded data removed]",
      "text/latex": [
       "$$3 \\left(z^{2} - 6 z + 6\\right) e^{- \\frac{z}{2}}$$"
      ],
      "text/plain": [
       "                  -z \n",
       "                  ───\n",
       "  ⎛ 2          ⎞   2 \n",
       "3⋅⎝z  - 6⋅z + 6⎠⋅ℯ   "
      ]
     },
     "metadata": {},
     "output_type": "display_data"
    },
    {
     "name": "stdout",
     "output_type": "stream",
     "text": [
      "F_3^1 (z) =\n"
     ]
    },
    {
     "data": {
      "image/png": "[encoded data removed]",
      "text/latex": [
       "$$- 24 z \\left(z - 4\\right) e^{- \\frac{z}{2}}$$"
      ],
      "text/plain": [
       "               -z \n",
       "               ───\n",
       "                2 \n",
       "-24⋅z⋅(z - 4)⋅ℯ   "
      ]
     },
     "metadata": {},
     "output_type": "display_data"
    },
    {
     "name": "stdout",
     "output_type": "stream",
     "text": [
      "F_3^2 (z) =\n"
     ]
    },
    {
     "data": {
      "image/png": "[encoded data removed]",
      "text/latex": [
       "$$120 z^{2} e^{- \\frac{z}{2}}$$"
      ],
      "text/plain": [
       "        -z \n",
       "        ───\n",
       "     2   2 \n",
       "120⋅z ⋅ℯ   "
      ]
     },
     "metadata": {},
     "output_type": "display_data"
    },
    {
     "name": "stdout",
     "output_type": "stream",
     "text": [
      "F_4^0 (z) =\n"
     ]
    },
    {
     "data": {
      "image/png": "[encoded data removed]",
      "text/latex": [
       "$$- 4 \\left(z^{3} - 12 z^{2} + 36 z - 24\\right) e^{- \\frac{z}{2}}$$"
      ],
      "text/plain": [
       "                             -z \n",
       "                             ───\n",
       "   ⎛ 3       2            ⎞   2 \n",
       "-4⋅⎝z  - 12⋅z  + 36⋅z - 24⎠⋅ℯ   "
      ]
     },
     "metadata": {},
     "output_type": "display_data"
    },
    {
     "name": "stdout",
     "output_type": "stream",
     "text": [
      "F_4^1 (z) =\n"
     ]
    },
    {
     "data": {
      "image/png": "[encoded data removed]",
      "text/latex": [
       "$$60 z \\left(z^{2} - 10 z + 20\\right) e^{- \\frac{z}{2}}$$"
      ],
      "text/plain": [
       "                       -z \n",
       "                       ───\n",
       "     ⎛ 2            ⎞   2 \n",
       "60⋅z⋅⎝z  - 10⋅z + 20⎠⋅ℯ   "
      ]
     },
     "metadata": {},
     "output_type": "display_data"
    },
    {
     "name": "stdout",
     "output_type": "stream",
     "text": [
      "F_4^2 (z) =\n"
     ]
    },
    {
     "data": {
      "image/png": "[encoded data removed]",
      "text/latex": [
       "$$- 720 z^{2} \\left(z - 6\\right) e^{- \\frac{z}{2}}$$"
      ],
      "text/plain": [
       "                 -z \n",
       "                 ───\n",
       "      2           2 \n",
       "-720⋅z ⋅(z - 6)⋅ℯ   "
      ]
     },
     "metadata": {},
     "output_type": "display_data"
    },
    {
     "name": "stdout",
     "output_type": "stream",
     "text": [
      "F_4^3 (z) =\n"
     ]
    },
    {
     "data": {
      "image/png": "[encoded data removed]",
      "text/latex": [
       "$$5040 z^{3} e^{- \\frac{z}{2}}$$"
      ],
      "text/plain": [
       "         -z \n",
       "         ───\n",
       "      3   2 \n",
       "5040⋅z ⋅ℯ   "
      ]
     },
     "metadata": {},
     "output_type": "display_data"
    }
   ],
   "source": [
    "# display\n",
    "sym.init_printing()\n",
    "\n",
    "for n in range(1, 5, 1):\n",
    "    for l in range(n):\n",
    "        print('N_' + str(n) + '^' + str(l) + ' =')\n",
    "        display(N(n, l))\n",
    "    \n",
    "print('')\n",
    "        \n",
    "for i in range(1, 5, 1):\n",
    "    for j in range(i):\n",
    "        print('F_' + str(i) + '^' + str(j) + ' (z) =')\n",
    "        display(sym.factor(sym.expand(F(i, j))))"
   ]
  },
  {
   "cell_type": "code",
   "execution_count": null,
   "metadata": {},
   "outputs": [],
   "source": []
  }
 ],
 "metadata": {
  "kernelspec": {
   "display_name": "Python 3",
   "language": "python",
   "name": "python3"
  },
  "language_info": {
   "codemirror_mode": {
    "name": "ipython",
    "version": 3
   },
   "file_extension": ".py",
   "mimetype": "text/x-python",
   "name": "python",
   "nbconvert_exporter": "python",
   "pygments_lexer": "ipython3",
   "version": "3.6.4"
  }
 },
 "nbformat": 4,
 "nbformat_minor": 2
}
