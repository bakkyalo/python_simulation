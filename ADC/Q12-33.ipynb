{
 "cells": [
  {
   "cell_type": "code",
   "execution_count": 1,
   "metadata": {},
   "outputs": [
    {
     "name": "stdout",
     "output_type": "stream",
     "text": [
      "ψ_100 (r, θ, φ) =\n"
     ]
    },
    {
     "data": {
      "image/png": "[encoded data removed]",
      "text/latex": [
       "$$\\frac{e^{- \\frac{r}{a}}}{\\sqrt{\\pi} a^{\\frac{3}{2}}}$$"
      ],
      "text/plain": [
       "   -r  \n",
       "   ─── \n",
       "    a  \n",
       "  ℯ    \n",
       "───────\n",
       "    3/2\n",
       "√π⋅a   "
      ]
     },
     "metadata": {},
     "output_type": "display_data"
    },
    {
     "name": "stdout",
     "output_type": "stream",
     "text": [
      "\n",
      "ψ_200 (r, θ, φ) =\n"
     ]
    },
    {
     "data": {
      "image/png": "[encoded data removed]",
      "text/latex": [
       "$$\\frac{\\sqrt{2} e^{- \\frac{r}{2 a}}}{8 \\sqrt{\\pi} a^{\\frac{5}{2}}} \\left(2 a - r\\right)$$"
      ],
      "text/plain": [
       "              -r \n",
       "              ───\n",
       "              2⋅a\n",
       "√2⋅(2⋅a - r)⋅ℯ   \n",
       "─────────────────\n",
       "          5/2    \n",
       "    8⋅√π⋅a       "
      ]
     },
     "metadata": {},
     "output_type": "display_data"
    },
    {
     "name": "stdout",
     "output_type": "stream",
     "text": [
      "\n",
      "ψ_21-1 (r, θ, φ) =\n"
     ]
    },
    {
     "data": {
      "image/png": "[encoded data removed]",
      "text/latex": [
       "$$\\frac{r \\sqrt{\\sin^{2}{\\left (\\theta \\right )}}}{8 \\sqrt{\\pi} a^{\\frac{5}{2}}} e^{- i \\phi - \\frac{r}{2 a}}$$"
      ],
      "text/plain": [
       "                        r \n",
       "     _________  -ⅈ⋅φ - ───\n",
       "    ╱    2             2⋅a\n",
       "r⋅╲╱  sin (θ) ⋅ℯ          \n",
       "──────────────────────────\n",
       "              5/2         \n",
       "        8⋅√π⋅a            "
      ]
     },
     "metadata": {},
     "output_type": "display_data"
    },
    {
     "name": "stdout",
     "output_type": "stream",
     "text": [
      "ψ_210 (r, θ, φ) =\n"
     ]
    },
    {
     "data": {
      "image/png": "[encoded data removed]",
      "text/latex": [
       "$$\\frac{\\sqrt{2} r \\cos{\\left (\\theta \\right )}}{8 \\sqrt{\\pi} a^{\\frac{5}{2}}} e^{- \\frac{r}{2 a}}$$"
      ],
      "text/plain": [
       "      -r        \n",
       "      ───       \n",
       "      2⋅a       \n",
       "√2⋅r⋅ℯ   ⋅cos(θ)\n",
       "────────────────\n",
       "         5/2    \n",
       "   8⋅√π⋅a       "
      ]
     },
     "metadata": {},
     "output_type": "display_data"
    },
    {
     "name": "stdout",
     "output_type": "stream",
     "text": [
      "ψ_211 (r, θ, φ) =\n"
     ]
    },
    {
     "data": {
      "image/png": "[encoded data removed]",
      "text/latex": [
       "$$- \\frac{r \\sqrt{\\sin^{2}{\\left (\\theta \\right )}}}{8 \\sqrt{\\pi} a^{\\frac{5}{2}}} e^{i \\phi - \\frac{r}{2 a}}$$"
      ],
      "text/plain": [
       "                        r  \n",
       "      _________  ⅈ⋅φ - ─── \n",
       "     ╱    2            2⋅a \n",
       "-r⋅╲╱  sin (θ) ⋅ℯ          \n",
       "───────────────────────────\n",
       "               5/2         \n",
       "         8⋅√π⋅a            "
      ]
     },
     "metadata": {},
     "output_type": "display_data"
    },
    {
     "name": "stdout",
     "output_type": "stream",
     "text": [
      "\n",
      "ψ_300 (r, θ, φ) =\n"
     ]
    },
    {
     "data": {
      "image/png": "[encoded data removed]",
      "text/latex": [
       "$$\\frac{\\sqrt{3} e^{- \\frac{r}{3 a}}}{243 \\sqrt{\\pi} a^{\\frac{7}{2}}} \\left(27 a^{2} - 18 a r + 2 r^{2}\\right)$$"
      ],
      "text/plain": [
       "                            -r \n",
       "                            ───\n",
       "   ⎛    2               2⎞  3⋅a\n",
       "√3⋅⎝27⋅a  - 18⋅a⋅r + 2⋅r ⎠⋅ℯ   \n",
       "───────────────────────────────\n",
       "                  7/2          \n",
       "          243⋅√π⋅a             "
      ]
     },
     "metadata": {},
     "output_type": "display_data"
    },
    {
     "name": "stdout",
     "output_type": "stream",
     "text": [
      "\n",
      "ψ_31-1 (r, θ, φ) =\n"
     ]
    },
    {
     "data": {
      "image/png": "[encoded data removed]",
      "text/latex": [
       "$$\\frac{r \\sqrt{\\sin^{2}{\\left (\\theta \\right )}}}{81 \\sqrt{\\pi} a^{\\frac{7}{2}}} \\left(6 a - r\\right) e^{- i \\phi - \\frac{r}{3 a}}$$"
      ],
      "text/plain": [
       "                                  r \n",
       "               _________  -ⅈ⋅φ - ───\n",
       "              ╱    2             3⋅a\n",
       "r⋅(6⋅a - r)⋅╲╱  sin (θ) ⋅ℯ          \n",
       "────────────────────────────────────\n",
       "                    7/2             \n",
       "             81⋅√π⋅a                "
      ]
     },
     "metadata": {},
     "output_type": "display_data"
    },
    {
     "name": "stdout",
     "output_type": "stream",
     "text": [
      "ψ_310 (r, θ, φ) =\n"
     ]
    },
    {
     "data": {
      "image/png": "[encoded data removed]",
      "text/latex": [
       "$$\\frac{\\sqrt{2} r \\cos{\\left (\\theta \\right )}}{81 \\sqrt{\\pi} a^{\\frac{7}{2}}} \\left(6 a - r\\right) e^{- \\frac{r}{3 a}}$$"
      ],
      "text/plain": [
       "                -r        \n",
       "                ───       \n",
       "                3⋅a       \n",
       "√2⋅r⋅(6⋅a - r)⋅ℯ   ⋅cos(θ)\n",
       "──────────────────────────\n",
       "               7/2        \n",
       "        81⋅√π⋅a           "
      ]
     },
     "metadata": {},
     "output_type": "display_data"
    },
    {
     "name": "stdout",
     "output_type": "stream",
     "text": [
      "ψ_311 (r, θ, φ) =\n"
     ]
    },
    {
     "data": {
      "image/png": "[encoded data removed]",
      "text/latex": [
       "$$\\frac{r \\sqrt{\\sin^{2}{\\left (\\theta \\right )}}}{81 \\sqrt{\\pi} a^{\\frac{7}{2}}} \\left(- 6 a + r\\right) e^{i \\phi - \\frac{r}{3 a}}$$"
      ],
      "text/plain": [
       "                                  r \n",
       "                _________  ⅈ⋅φ - ───\n",
       "               ╱    2            3⋅a\n",
       "r⋅(-6⋅a + r)⋅╲╱  sin (θ) ⋅ℯ         \n",
       "────────────────────────────────────\n",
       "                    7/2             \n",
       "             81⋅√π⋅a                "
      ]
     },
     "metadata": {},
     "output_type": "display_data"
    },
    {
     "name": "stdout",
     "output_type": "stream",
     "text": [
      "\n",
      "ψ_32-2 (r, θ, φ) =\n"
     ]
    },
    {
     "data": {
      "image/png": "[encoded data removed]",
      "text/latex": [
       "$$\\frac{r^{2} \\sin^{2}{\\left (\\theta \\right )}}{162 \\sqrt{\\pi} a^{\\frac{7}{2}}} e^{- 2 i \\phi - \\frac{r}{3 a}}$$"
      ],
      "text/plain": [
       "              r         \n",
       "    -2⋅ⅈ⋅φ - ───        \n",
       " 2           3⋅a    2   \n",
       "r ⋅ℯ            ⋅sin (θ)\n",
       "────────────────────────\n",
       "              7/2       \n",
       "      162⋅√π⋅a          "
      ]
     },
     "metadata": {},
     "output_type": "display_data"
    },
    {
     "name": "stdout",
     "output_type": "stream",
     "text": [
      "ψ_32-1 (r, θ, φ) =\n"
     ]
    },
    {
     "data": {
      "image/png": "[encoded data removed]",
      "text/latex": [
       "$$\\frac{r^{2} \\sqrt{\\sin^{2}{\\left (\\theta \\right )}}}{81 \\sqrt{\\pi} a^{\\frac{7}{2}}} e^{- i \\phi - \\frac{r}{3 a}} \\cos{\\left (\\theta \\right )}$$"
      ],
      "text/plain": [
       "                         r        \n",
       "      _________  -ⅈ⋅φ - ───       \n",
       " 2   ╱    2             3⋅a       \n",
       "r ⋅╲╱  sin (θ) ⋅ℯ          ⋅cos(θ)\n",
       "──────────────────────────────────\n",
       "                   7/2            \n",
       "            81⋅√π⋅a               "
      ]
     },
     "metadata": {},
     "output_type": "display_data"
    },
    {
     "name": "stdout",
     "output_type": "stream",
     "text": [
      "ψ_320 (r, θ, φ) =\n"
     ]
    },
    {
     "data": {
      "image/png": "[encoded data removed]",
      "text/latex": [
       "$$\\frac{\\sqrt{6} r^{2} e^{- \\frac{r}{3 a}}}{486 \\sqrt{\\pi} a^{\\frac{7}{2}}} \\left(3 \\cos^{2}{\\left (\\theta \\right )} - 1\\right)$$"
      ],
      "text/plain": [
       "                       -r \n",
       "                       ───\n",
       "    2 ⎛     2       ⎞  3⋅a\n",
       "√6⋅r ⋅⎝3⋅cos (θ) - 1⎠⋅ℯ   \n",
       "──────────────────────────\n",
       "               7/2        \n",
       "       486⋅√π⋅a           "
      ]
     },
     "metadata": {},
     "output_type": "display_data"
    },
    {
     "name": "stdout",
     "output_type": "stream",
     "text": [
      "ψ_321 (r, θ, φ) =\n"
     ]
    },
    {
     "data": {
      "image/png": "[encoded data removed]",
      "text/latex": [
       "$$- \\frac{r^{2} \\sqrt{\\sin^{2}{\\left (\\theta \\right )}}}{81 \\sqrt{\\pi} a^{\\frac{7}{2}}} e^{i \\phi - \\frac{r}{3 a}} \\cos{\\left (\\theta \\right )}$$"
      ],
      "text/plain": [
       "                         r         \n",
       "       _________  ⅈ⋅φ - ───        \n",
       "  2   ╱    2            3⋅a        \n",
       "-r ⋅╲╱  sin (θ) ⋅ℯ         ⋅cos(θ) \n",
       "───────────────────────────────────\n",
       "                    7/2            \n",
       "             81⋅√π⋅a               "
      ]
     },
     "metadata": {},
     "output_type": "display_data"
    },
    {
     "name": "stdout",
     "output_type": "stream",
     "text": [
      "ψ_322 (r, θ, φ) =\n"
     ]
    },
    {
     "data": {
      "image/png": "[encoded data removed]",
      "text/latex": [
       "$$\\frac{r^{2} \\sin^{2}{\\left (\\theta \\right )}}{162 \\sqrt{\\pi} a^{\\frac{7}{2}}} e^{2 i \\phi - \\frac{r}{3 a}}$$"
      ],
      "text/plain": [
       "             r         \n",
       "    2⋅ⅈ⋅φ - ───        \n",
       " 2          3⋅a    2   \n",
       "r ⋅ℯ           ⋅sin (θ)\n",
       "───────────────────────\n",
       "              7/2      \n",
       "      162⋅√π⋅a         "
      ]
     },
     "metadata": {},
     "output_type": "display_data"
    },
    {
     "name": "stdout",
     "output_type": "stream",
     "text": [
      "\n"
     ]
    }
   ],
   "source": [
    "import sympy as sym\n",
    "sym.init_printing()\n",
    "\n",
    "z = sym.Symbol('z')\n",
    "r = sym.Symbol('r')\n",
    "theta = sym.Symbol('theta')\n",
    "phi = sym.Symbol('phi')\n",
    "a = sym.Symbol('a')\n",
    "pi = sym.pi\n",
    "\n",
    "\n",
    "\n",
    "# Associated Laguerre polynomials\n",
    "def L(n, k):\n",
    "    f = (sym.exp(-z) * z**(n+k)) \n",
    "    \n",
    "    for i in range(n):\n",
    "        f = sym.diff(f)\n",
    "    \n",
    "    return sym.exp(z) / z**k * f * sym.Rational(sym.factorial(n+k) / sym.factorial(n))\n",
    "\n",
    "\n",
    "# F\n",
    "def F(n, l):\n",
    "    return z**l * sym.exp(-z/2) * L(n-l-1, 2*l+1)\n",
    "\n",
    "    \n",
    "# Associated Legendre polynomials\n",
    "def P(l, m):\n",
    "    f = (z**2 - 1) ** l\n",
    "    \n",
    "    for i in range(l+m):\n",
    "        f = sym.diff(f)\n",
    "    \n",
    "    return (1-z**2)**sym.Rational(m/2) * f / (2**l * sym.factorial(l))\n",
    "\n",
    "\n",
    "# Spherical harmonics\n",
    "def Y(l, m):\n",
    "    return sym.exp(sym.I*m*phi) * P(l, m).subs([(z, sym.cos(theta))]) \\\n",
    "                * (-1)**abs(m) * sym.sqrt((2*l+1)/(4*pi) * (sym.factorial(l-m))/(sym.factorial(l+m)))\n",
    "\n",
    "\n",
    "# Normalization constant\n",
    "def N(n, l):\n",
    "    return  sym.sqrt(sym.factorial(n-l-1)/(sym.factorial(n+l)**3)) * 2 / (n**2)\n",
    "\n",
    "\n",
    "# wave function\n",
    "def psi(n, l, m):\n",
    "    return sym.simplify( N(n, l) * F(n, l).subs([(z,  r/a * 2/n)]) * Y(l, m) * a**sym.Rational(-3/2))\n",
    "\n",
    "\n",
    "# display\n",
    "for n in range(1, 4):\n",
    "    for l in range(n):\n",
    "        for m in range(-l, l+1):\n",
    "            print('ψ_' + str(n) + str(l) + str(m) + ' (r, θ, φ) =' )\n",
    "            display(psi(n, l, m))\n",
    "        print('')"
   ]
  },
  {
   "cell_type": "code",
   "execution_count": null,
   "metadata": {},
   "outputs": [],
   "source": []
  }
 ],
 "metadata": {
  "kernelspec": {
   "display_name": "Python 3",
   "language": "python",
   "name": "python3"
  },
  "language_info": {
   "codemirror_mode": {
    "name": "ipython",
    "version": 3
   },
   "file_extension": ".py",
   "mimetype": "text/x-python",
   "name": "python",
   "nbconvert_exporter": "python",
   "pygments_lexer": "ipython3",
   "version": "3.6.4"
  }
 },
 "nbformat": 4,
 "nbformat_minor": 2
}
