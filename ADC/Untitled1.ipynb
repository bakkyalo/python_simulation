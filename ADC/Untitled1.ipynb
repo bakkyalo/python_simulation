{
 "cells": [
  {
   "cell_type": "code",
   "execution_count": 2,
   "metadata": {},
   "outputs": [],
   "source": [
    "def min(a, b):\n",
    "    if a < b:\n",
    "        return a\n",
    "    else:\n",
    "        return b"
   ]
  },
  {
   "cell_type": "code",
   "execution_count": 13,
   "metadata": {},
   "outputs": [],
   "source": [
    "j0 = 1\n",
    "j1 = 4"
   ]
  },
  {
   "cell_type": "code",
   "execution_count": 8,
   "metadata": {},
   "outputs": [],
   "source": [
    "def n(m):\n",
    "    if j0 + j1 < abs(m):\n",
    "        return 0\n",
    "    elif abs(j0-j1) <= abs(m) & abs(m) <= j0+j1:\n",
    "        return j0+j1+1-abs(m)\n",
    "    else:\n",
    "        return 2*min(j0, j1)+1"
   ]
  },
  {
   "cell_type": "code",
   "execution_count": 10,
   "metadata": {},
   "outputs": [],
   "source": [
    "def N(j):\n",
    "    return n(j)-n(j+1)"
   ]
  },
  {
   "cell_type": "code",
   "execution_count": 20,
   "metadata": {
    "scrolled": true
   },
   "outputs": [
    {
     "name": "stdout",
     "output_type": "stream",
     "text": [
      "j=-8\tn(j)=0\t   n(j+1)=0\tN(j)=0\n",
      "j=-7\tn(j)=0\t   n(j+1)=0\tN(j)=0\n",
      "j=-6\tn(j)=0\t   n(j+1)=1\tN(j)=-1\n",
      "j=-5\tn(j)=1\t   n(j+1)=2\tN(j)=-1\n",
      "j=-4\tn(j)=2\t   n(j+1)=3\tN(j)=-1\n",
      "j=-3\tn(j)=3\t   n(j+1)=3\tN(j)=0\n",
      "j=-2\tn(j)=3\t   n(j+1)=3\tN(j)=0\n",
      "j=-1\tn(j)=3\t   n(j+1)=3\tN(j)=0\n",
      "j=0\tn(j)=3\t   n(j+1)=3\tN(j)=0\n",
      "j=1\tn(j)=3\t   n(j+1)=3\tN(j)=0\n",
      "j=2\tn(j)=3\t   n(j+1)=3\tN(j)=0\n",
      "j=3\tn(j)=3\t   n(j+1)=2\tN(j)=1\n",
      "j=4\tn(j)=2\t   n(j+1)=1\tN(j)=1\n",
      "j=5\tn(j)=1\t   n(j+1)=0\tN(j)=1\n",
      "j=6\tn(j)=0\t   n(j+1)=0\tN(j)=0\n",
      "j=7\tn(j)=0\t   n(j+1)=0\tN(j)=0\n"
     ]
    }
   ],
   "source": [
    "for j in range(-j0-j1-3, j0+j1+3):\n",
    "    print(\"j=\" + str(j) + \"\\tn(j)=\" + str(n(j)) + \"\\t   n(j+1)=\" + str(n(j+1)) + \"\\tN(j)=\" + str(N(j)))"
   ]
  },
  {
   "cell_type": "code",
   "execution_count": null,
   "metadata": {},
   "outputs": [],
   "source": []
  }
 ],
 "metadata": {
  "kernelspec": {
   "display_name": "Python 3",
   "language": "python",
   "name": "python3"
  },
  "language_info": {
   "codemirror_mode": {
    "name": "ipython",
    "version": 3
   },
   "file_extension": ".py",
   "mimetype": "text/x-python",
   "name": "python",
   "nbconvert_exporter": "python",
   "pygments_lexer": "ipython3",
   "version": "3.6.4"
  }
 },
 "nbformat": 4,
 "nbformat_minor": 2
}
