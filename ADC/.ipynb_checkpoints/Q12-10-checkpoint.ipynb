{
 "cells": [
  {
   "cell_type": "code",
   "execution_count": 7,
   "metadata": {},
   "outputs": [
    {
     "name": "stdout",
     "output_type": "stream",
     "text": [
      "L_0^0 (z) = 1\n",
      "L_1^0 (z) = -z + 1\n",
      "L_2^0 (z) = z**2 - 4*z + 2\n",
      "L_3^0 (z) = -z**3 + 9*z**2 - 18*z + 6\n",
      "L_4^0 (z) = z**4 - 16*z**3 + 72*z**2 - 96*z + 24\n",
      "L_5^0 (z) = -z**5 + 25*z**4 - 200*z**3 + 600*z**2 - 600*z + 120\n",
      "\n",
      "L_0^1 (z) = 1\n",
      "L_1^1 (z) = -2*z + 4\n",
      "L_2^1 (z) = 3*z**2 - 18*z + 18\n",
      "L_3^1 (z) = -4*z**3 + 48*z**2 - 144*z + 96\n",
      "L_4^1 (z) = 5*z**4 - 100*z**3 + 600*z**2 - 1200*z + 600\n",
      "L_5^1 (z) = -6*z**5 + 180*z**4 - 1800*z**3 + 7200*z**2 - 10800*z + 4320\n",
      "\n",
      "L_0^2 (z) = 2\n",
      "L_1^2 (z) = -6*z + 18\n",
      "L_2^2 (z) = 12*z**2 - 96*z + 144\n",
      "L_3^2 (z) = -20*z**3 + 300*z**2 - 1200*z + 1200\n",
      "L_4^2 (z) = 30*z**4 - 720*z**3 + 5400*z**2 - 14400*z + 10800\n",
      "L_5^2 (z) = -42*z**5 + 1470*z**4 - 17640*z**3 + 88200*z**2 - 176400*z + 105840\n",
      "\n",
      "L_0^3 (z) = 6\n",
      "L_1^3 (z) = -24*z + 96\n",
      "L_2^3 (z) = 60*z**2 - 600*z + 1200\n",
      "L_3^3 (z) = -120*z**3 + 2160*z**2 - 10800*z + 14400\n",
      "L_4^3 (z) = 210*z**4 - 5880*z**3 + 52920*z**2 - 176400*z + 176400\n",
      "L_5^3 (z) = -336*z**5 + 13440*z**4 - 188160*z**3 + 1128960*z**2 - 2822400*z + 2257920\n",
      "\n",
      "L_0^4 (z) = 24\n",
      "L_1^4 (z) = -120*z + 600\n",
      "L_2^4 (z) = 360*z**2 - 4320*z + 10800\n",
      "L_3^4 (z) = -840*z**3 + 17640*z**2 - 105840*z + 176400\n",
      "L_4^4 (z) = 1680*z**4 - 53760*z**3 + 564480*z**2 - 2257920*z + 2822400\n",
      "L_5^4 (z) = -3024*z**5 + 136080*z**4 - 2177280*z**3 + 15240960*z**2 - 45722880*z + 45722880\n",
      "\n",
      "L_0^5 (z) = 120\n",
      "L_1^5 (z) = -720*z + 4320\n",
      "L_2^5 (z) = 2520*z**2 - 35280*z + 105840\n",
      "L_3^5 (z) = -6720*z**3 + 161280*z**2 - 1128960*z + 2257920\n",
      "L_4^5 (z) = 15120*z**4 - 544320*z**3 + 6531840*z**2 - 30481920*z + 45722880\n",
      "L_5^5 (z) = -30240*z**5 + 1512000*z**4 - 27216000*z**3 + 217728000*z**2 - 762048000*z + 914457600\n",
      "\n"
     ]
    }
   ],
   "source": [
    "import sympy as sym\n",
    "z = sym.Symbol('z')\n",
    "\n",
    "\n",
    "# Associated Laguerre polynomials\n",
    "def L(n, k):\n",
    "    f = (sym.exp(-z) * z**(n+k)) \n",
    "    \n",
    "    for i in range(n):\n",
    "        f = sym.diff(f)\n",
    "    \n",
    "    return sym.exp(z) / z**k * f * sym.Rational(sym.factorial(n+k) / sym.factorial(n))\n",
    "\n",
    "\n",
    "# print\n",
    "for k in range(6):\n",
    "    for n in range(6):\n",
    "        print('L_' + str(n) + '^' + str(k) + ' (z) =', sym.expand(L(n, k)))\n",
    "    print('')"
   ]
  },
  {
   "cell_type": "code",
   "execution_count": 6,
   "metadata": {},
   "outputs": [
    {
     "name": "stdout",
     "output_type": "stream",
     "text": [
      "L_0^0 (z) =\n"
     ]
    },
    {
     "data": {
      "image/png": "[encoded data removed]",
      "text/latex": [
       "$$1$$"
      ],
      "text/plain": [
       "1"
      ]
     },
     "metadata": {},
     "output_type": "display_data"
    },
    {
     "name": "stdout",
     "output_type": "stream",
     "text": [
      "L_1^0 (z) =\n"
     ]
    },
    {
     "data": {
      "image/png": "[encoded data removed]",
      "text/latex": [
       "$$- z + 1$$"
      ],
      "text/plain": [
       "-z + 1"
      ]
     },
     "metadata": {},
     "output_type": "display_data"
    },
    {
     "name": "stdout",
     "output_type": "stream",
     "text": [
      "L_2^0 (z) =\n"
     ]
    },
    {
     "data": {
      "image/png": "[encoded data removed]",
      "text/latex": [
       "$$z^{2} - 4 z + 2$$"
      ],
      "text/plain": [
       " 2          \n",
       "z  - 4⋅z + 2"
      ]
     },
     "metadata": {},
     "output_type": "display_data"
    },
    {
     "name": "stdout",
     "output_type": "stream",
     "text": [
      "L_3^0 (z) =\n"
     ]
    },
    {
     "data": {
      "image/png": "[encoded data removed]",
      "text/latex": [
       "$$- z^{3} + 9 z^{2} - 18 z + 6$$"
      ],
      "text/plain": [
       "   3      2           \n",
       "- z  + 9⋅z  - 18⋅z + 6"
      ]
     },
     "metadata": {},
     "output_type": "display_data"
    },
    {
     "name": "stdout",
     "output_type": "stream",
     "text": [
      "L_4^0 (z) =\n"
     ]
    },
    {
     "data": {
      "image/png": "[encoded data removed]",
      "text/latex": [
       "$$z^{4} - 16 z^{3} + 72 z^{2} - 96 z + 24$$"
      ],
      "text/plain": [
       " 4       3       2            \n",
       "z  - 16⋅z  + 72⋅z  - 96⋅z + 24"
      ]
     },
     "metadata": {},
     "output_type": "display_data"
    },
    {
     "name": "stdout",
     "output_type": "stream",
     "text": [
      "L_5^0 (z) =\n"
     ]
    },
    {
     "data": {
      "image/png": "[encoded data removed]",
      "text/latex": [
       "$$- z^{5} + 25 z^{4} - 200 z^{3} + 600 z^{2} - 600 z + 120$$"
      ],
      "text/plain": [
       "   5       4        3        2              \n",
       "- z  + 25⋅z  - 200⋅z  + 600⋅z  - 600⋅z + 120"
      ]
     },
     "metadata": {},
     "output_type": "display_data"
    },
    {
     "name": "stdout",
     "output_type": "stream",
     "text": [
      "\n",
      "L_0^1 (z) =\n"
     ]
    },
    {
     "data": {
      "image/png": "[encoded data removed]",
      "text/latex": [
       "$$1$$"
      ],
      "text/plain": [
       "1"
      ]
     },
     "metadata": {},
     "output_type": "display_data"
    },
    {
     "name": "stdout",
     "output_type": "stream",
     "text": [
      "L_1^1 (z) =\n"
     ]
    },
    {
     "data": {
      "image/png": "[encoded data removed]",
      "text/latex": [
       "$$- 2 z + 4$$"
      ],
      "text/plain": [
       "-2⋅z + 4"
      ]
     },
     "metadata": {},
     "output_type": "display_data"
    },
    {
     "name": "stdout",
     "output_type": "stream",
     "text": [
      "L_2^1 (z) =\n"
     ]
    },
    {
     "data": {
      "image/png": "[encoded data removed]",
      "text/latex": [
       "$$3 z^{2} - 18 z + 18$$"
      ],
      "text/plain": [
       "   2            \n",
       "3⋅z  - 18⋅z + 18"
      ]
     },
     "metadata": {},
     "output_type": "display_data"
    },
    {
     "name": "stdout",
     "output_type": "stream",
     "text": [
      "L_3^1 (z) =\n"
     ]
    },
    {
     "data": {
      "image/png": "[encoded data removed]",
      "text/latex": [
       "$$- 4 z^{3} + 48 z^{2} - 144 z + 96$$"
      ],
      "text/plain": [
       "     3       2             \n",
       "- 4⋅z  + 48⋅z  - 144⋅z + 96"
      ]
     },
     "metadata": {},
     "output_type": "display_data"
    },
    {
     "name": "stdout",
     "output_type": "stream",
     "text": [
      "L_4^1 (z) =\n"
     ]
    },
    {
     "data": {
      "image/png": "[encoded data removed]",
      "text/latex": [
       "$$5 z^{4} - 100 z^{3} + 600 z^{2} - 1200 z + 600$$"
      ],
      "text/plain": [
       "   4        3        2               \n",
       "5⋅z  - 100⋅z  + 600⋅z  - 1200⋅z + 600"
      ]
     },
     "metadata": {},
     "output_type": "display_data"
    },
    {
     "name": "stdout",
     "output_type": "stream",
     "text": [
      "L_5^1 (z) =\n"
     ]
    },
    {
     "data": {
      "image/png": "[encoded data removed]",
      "text/latex": [
       "$$- 6 z^{5} + 180 z^{4} - 1800 z^{3} + 7200 z^{2} - 10800 z + 4320$$"
      ],
      "text/plain": [
       "     5        4         3         2                 \n",
       "- 6⋅z  + 180⋅z  - 1800⋅z  + 7200⋅z  - 10800⋅z + 4320"
      ]
     },
     "metadata": {},
     "output_type": "display_data"
    },
    {
     "name": "stdout",
     "output_type": "stream",
     "text": [
      "\n",
      "L_0^2 (z) =\n"
     ]
    },
    {
     "data": {
      "image/png": "[encoded data removed]",
      "text/latex": [
       "$$2$$"
      ],
      "text/plain": [
       "2"
      ]
     },
     "metadata": {},
     "output_type": "display_data"
    },
    {
     "name": "stdout",
     "output_type": "stream",
     "text": [
      "L_1^2 (z) =\n"
     ]
    },
    {
     "data": {
      "image/png": "[encoded data removed]",
      "text/latex": [
       "$$- 6 z + 18$$"
      ],
      "text/plain": [
       "-6⋅z + 18"
      ]
     },
     "metadata": {},
     "output_type": "display_data"
    },
    {
     "name": "stdout",
     "output_type": "stream",
     "text": [
      "L_2^2 (z) =\n"
     ]
    },
    {
     "data": {
      "image/png": "[encoded data removed]",
      "text/latex": [
       "$$12 z^{2} - 96 z + 144$$"
      ],
      "text/plain": [
       "    2             \n",
       "12⋅z  - 96⋅z + 144"
      ]
     },
     "metadata": {},
     "output_type": "display_data"
    },
    {
     "name": "stdout",
     "output_type": "stream",
     "text": [
      "L_3^2 (z) =\n"
     ]
    },
    {
     "data": {
      "image/png": "[encoded data removed]",
      "text/latex": [
       "$$- 20 z^{3} + 300 z^{2} - 1200 z + 1200$$"
      ],
      "text/plain": [
       "      3        2                \n",
       "- 20⋅z  + 300⋅z  - 1200⋅z + 1200"
      ]
     },
     "metadata": {},
     "output_type": "display_data"
    },
    {
     "name": "stdout",
     "output_type": "stream",
     "text": [
      "L_4^2 (z) =\n"
     ]
    },
    {
     "data": {
      "image/png": "[encoded data removed]",
      "text/latex": [
       "$$30 z^{4} - 720 z^{3} + 5400 z^{2} - 14400 z + 10800$$"
      ],
      "text/plain": [
       "    4        3         2                  \n",
       "30⋅z  - 720⋅z  + 5400⋅z  - 14400⋅z + 10800"
      ]
     },
     "metadata": {},
     "output_type": "display_data"
    },
    {
     "name": "stdout",
     "output_type": "stream",
     "text": [
      "L_5^2 (z) =\n"
     ]
    },
    {
     "data": {
      "image/png": "[encoded data removed]",
      "text/latex": [
       "$$- 42 z^{5} + 1470 z^{4} - 17640 z^{3} + 88200 z^{2} - 176400 z + 105840$$"
      ],
      "text/plain": [
       "      5         4          3          2                    \n",
       "- 42⋅z  + 1470⋅z  - 17640⋅z  + 88200⋅z  - 176400⋅z + 105840"
      ]
     },
     "metadata": {},
     "output_type": "display_data"
    },
    {
     "name": "stdout",
     "output_type": "stream",
     "text": [
      "\n",
      "L_0^3 (z) =\n"
     ]
    },
    {
     "data": {
      "image/png": "[encoded data removed]",
      "text/latex": [
       "$$6$$"
      ],
      "text/plain": [
       "6"
      ]
     },
     "metadata": {},
     "output_type": "display_data"
    },
    {
     "name": "stdout",
     "output_type": "stream",
     "text": [
      "L_1^3 (z) =\n"
     ]
    },
    {
     "data": {
      "image/png": "[encoded data removed]",
      "text/latex": [
       "$$- 24 z + 96$$"
      ],
      "text/plain": [
       "-24⋅z + 96"
      ]
     },
     "metadata": {},
     "output_type": "display_data"
    },
    {
     "name": "stdout",
     "output_type": "stream",
     "text": [
      "L_2^3 (z) =\n"
     ]
    },
    {
     "data": {
      "image/png": "[encoded data removed]",
      "text/latex": [
       "$$60 z^{2} - 600 z + 1200$$"
      ],
      "text/plain": [
       "    2               \n",
       "60⋅z  - 600⋅z + 1200"
      ]
     },
     "metadata": {},
     "output_type": "display_data"
    },
    {
     "name": "stdout",
     "output_type": "stream",
     "text": [
      "L_3^3 (z) =\n"
     ]
    },
    {
     "data": {
      "image/png": "[encoded data removed]",
      "text/latex": [
       "$$- 120 z^{3} + 2160 z^{2} - 10800 z + 14400$$"
      ],
      "text/plain": [
       "       3         2                  \n",
       "- 120⋅z  + 2160⋅z  - 10800⋅z + 14400"
      ]
     },
     "metadata": {},
     "output_type": "display_data"
    },
    {
     "name": "stdout",
     "output_type": "stream",
     "text": [
      "L_4^3 (z) =\n"
     ]
    },
    {
     "data": {
      "image/png": "[encoded data removed]",
      "text/latex": [
       "$$210 z^{4} - 5880 z^{3} + 52920 z^{2} - 176400 z + 176400$$"
      ],
      "text/plain": [
       "     4         3          2                    \n",
       "210⋅z  - 5880⋅z  + 52920⋅z  - 176400⋅z + 176400"
      ]
     },
     "metadata": {},
     "output_type": "display_data"
    },
    {
     "name": "stdout",
     "output_type": "stream",
     "text": [
      "L_5^3 (z) =\n"
     ]
    },
    {
     "data": {
      "image/png": "[encoded data removed]",
      "text/latex": [
       "$$- 336 z^{5} + 13440 z^{4} - 188160 z^{3} + 1128960 z^{2} - 2822400 z + 2257920$$"
      ],
      "text/plain": [
       "       5          4           3            2                      \n",
       "- 336⋅z  + 13440⋅z  - 188160⋅z  + 1128960⋅z  - 2822400⋅z + 2257920"
      ]
     },
     "metadata": {},
     "output_type": "display_data"
    },
    {
     "name": "stdout",
     "output_type": "stream",
     "text": [
      "\n",
      "L_0^4 (z) =\n"
     ]
    },
    {
     "data": {
      "image/png": "[encoded data removed]",
      "text/latex": [
       "$$24$$"
      ],
      "text/plain": [
       "24"
      ]
     },
     "metadata": {},
     "output_type": "display_data"
    },
    {
     "name": "stdout",
     "output_type": "stream",
     "text": [
      "L_1^4 (z) =\n"
     ]
    },
    {
     "data": {
      "image/png": "[encoded data removed]",
      "text/latex": [
       "$$- 120 z + 600$$"
      ],
      "text/plain": [
       "-120⋅z + 600"
      ]
     },
     "metadata": {},
     "output_type": "display_data"
    },
    {
     "name": "stdout",
     "output_type": "stream",
     "text": [
      "L_2^4 (z) =\n"
     ]
    },
    {
     "data": {
      "image/png": "[encoded data removed]",
      "text/latex": [
       "$$360 z^{2} - 4320 z + 10800$$"
      ],
      "text/plain": [
       "     2                 \n",
       "360⋅z  - 4320⋅z + 10800"
      ]
     },
     "metadata": {},
     "output_type": "display_data"
    },
    {
     "name": "stdout",
     "output_type": "stream",
     "text": [
      "L_3^4 (z) =\n"
     ]
    },
    {
     "data": {
      "image/png": "[encoded data removed]",
      "text/latex": [
       "$$- 840 z^{3} + 17640 z^{2} - 105840 z + 176400$$"
      ],
      "text/plain": [
       "       3          2                    \n",
       "- 840⋅z  + 17640⋅z  - 105840⋅z + 176400"
      ]
     },
     "metadata": {},
     "output_type": "display_data"
    },
    {
     "name": "stdout",
     "output_type": "stream",
     "text": [
      "L_4^4 (z) =\n"
     ]
    },
    {
     "data": {
      "image/png": "[encoded data removed]",
      "text/latex": [
       "$$1680 z^{4} - 53760 z^{3} + 564480 z^{2} - 2257920 z + 2822400$$"
      ],
      "text/plain": [
       "      4          3           2                      \n",
       "1680⋅z  - 53760⋅z  + 564480⋅z  - 2257920⋅z + 2822400"
      ]
     },
     "metadata": {},
     "output_type": "display_data"
    },
    {
     "name": "stdout",
     "output_type": "stream",
     "text": [
      "L_5^4 (z) =\n"
     ]
    },
    {
     "data": {
      "image/png": "[encoded data removed]",
      "text/latex": [
       "$$- 3024 z^{5} + 136080 z^{4} - 2177280 z^{3} + 15240960 z^{2} - 45722880 z + 45722880$$"
      ],
      "text/plain": [
       "        5           4            3             2                        \n",
       "- 3024⋅z  + 136080⋅z  - 2177280⋅z  + 15240960⋅z  - 45722880⋅z + 45722880"
      ]
     },
     "metadata": {},
     "output_type": "display_data"
    },
    {
     "name": "stdout",
     "output_type": "stream",
     "text": [
      "\n",
      "L_0^5 (z) =\n"
     ]
    },
    {
     "data": {
      "image/png": "[encoded data removed]",
      "text/latex": [
       "$$120$$"
      ],
      "text/plain": [
       "120"
      ]
     },
     "metadata": {},
     "output_type": "display_data"
    },
    {
     "name": "stdout",
     "output_type": "stream",
     "text": [
      "L_1^5 (z) =\n"
     ]
    },
    {
     "data": {
      "image/png": "[encoded data removed]",
      "text/latex": [
       "$$- 720 z + 4320$$"
      ],
      "text/plain": [
       "-720⋅z + 4320"
      ]
     },
     "metadata": {},
     "output_type": "display_data"
    },
    {
     "name": "stdout",
     "output_type": "stream",
     "text": [
      "L_2^5 (z) =\n"
     ]
    },
    {
     "data": {
      "image/png": "[encoded data removed]",
      "text/latex": [
       "$$2520 z^{2} - 35280 z + 105840$$"
      ],
      "text/plain": [
       "      2                   \n",
       "2520⋅z  - 35280⋅z + 105840"
      ]
     },
     "metadata": {},
     "output_type": "display_data"
    },
    {
     "name": "stdout",
     "output_type": "stream",
     "text": [
      "L_3^5 (z) =\n"
     ]
    },
    {
     "data": {
      "image/png": "[encoded data removed]",
      "text/latex": [
       "$$- 6720 z^{3} + 161280 z^{2} - 1128960 z + 2257920$$"
      ],
      "text/plain": [
       "        3           2                      \n",
       "- 6720⋅z  + 161280⋅z  - 1128960⋅z + 2257920"
      ]
     },
     "metadata": {},
     "output_type": "display_data"
    },
    {
     "name": "stdout",
     "output_type": "stream",
     "text": [
      "L_4^5 (z) =\n"
     ]
    },
    {
     "data": {
      "image/png": "[encoded data removed]",
      "text/latex": [
       "$$15120 z^{4} - 544320 z^{3} + 6531840 z^{2} - 30481920 z + 45722880$$"
      ],
      "text/plain": [
       "       4           3            2                        \n",
       "15120⋅z  - 544320⋅z  + 6531840⋅z  - 30481920⋅z + 45722880"
      ]
     },
     "metadata": {},
     "output_type": "display_data"
    },
    {
     "name": "stdout",
     "output_type": "stream",
     "text": [
      "L_5^5 (z) =\n"
     ]
    },
    {
     "data": {
      "image/png": "[encoded data removed]",
      "text/latex": [
       "$$- 30240 z^{5} + 1512000 z^{4} - 27216000 z^{3} + 217728000 z^{2} - 762048000 z + 914457600$$"
      ],
      "text/plain": [
       "         5            4             3              2                          \n",
       "- 30240⋅z  + 1512000⋅z  - 27216000⋅z  + 217728000⋅z  - 762048000⋅z + 914457600"
      ]
     },
     "metadata": {},
     "output_type": "display_data"
    },
    {
     "name": "stdout",
     "output_type": "stream",
     "text": [
      "\n"
     ]
    }
   ],
   "source": [
    "# display\n",
    "sym.init_printing()\n",
    "\n",
    "for k in range(6):\n",
    "    for n in range(6):\n",
    "        print('L_' + str(n) + '^' + str(k) + ' (z) =')\n",
    "        display(sym.expand(L(n, k)))\n",
    "    print('')"
   ]
  },
  {
   "cell_type": "code",
   "execution_count": null,
   "metadata": {},
   "outputs": [],
   "source": []
  }
 ],
 "metadata": {
  "kernelspec": {
   "display_name": "Python 3",
   "language": "python",
   "name": "python3"
  },
  "language_info": {
   "codemirror_mode": {
    "name": "ipython",
    "version": 3
   },
   "file_extension": ".py",
   "mimetype": "text/x-python",
   "name": "python",
   "nbconvert_exporter": "python",
   "pygments_lexer": "ipython3",
   "version": "3.6.4"
  }
 },
 "nbformat": 4,
 "nbformat_minor": 2
}
