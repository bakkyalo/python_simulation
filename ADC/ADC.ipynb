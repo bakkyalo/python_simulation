{
 "cells": [
  {
   "cell_type": "code",
   "execution_count": 1,
   "metadata": {
    "scrolled": false
   },
   "outputs": [
    {
     "name": "stdout",
     "output_type": "stream",
     "text": [
      "L_0^0 (z) = 1\n",
      "L_1^0 (z) = -z + 1\n",
      "L_2^0 (z) = z**2 - 4*z + 2\n",
      "L_3^0 (z) = -z**3 + 9*z**2 - 18*z + 6\n",
      "L_4^0 (z) = z**4 - 16*z**3 + 72*z**2 - 96*z + 24\n",
      "L_5^0 (z) = -z**5 + 25*z**4 - 200*z**3 + 600*z**2 - 600*z + 120\n",
      "\n",
      "L_0^1 (z) = 1\n",
      "L_1^1 (z) = -2*z + 4\n",
      "L_2^1 (z) = 3*z**2 - 18*z + 18\n",
      "L_3^1 (z) = -4*z**3 + 48*z**2 - 144*z + 96\n",
      "L_4^1 (z) = 5*z**4 - 100*z**3 + 600*z**2 - 1200*z + 600\n",
      "L_5^1 (z) = -6*z**5 + 180*z**4 - 1800*z**3 + 7200*z**2 - 10800*z + 4320\n",
      "\n",
      "L_0^2 (z) = 2\n",
      "L_1^2 (z) = -6*z + 18\n",
      "L_2^2 (z) = 12*z**2 - 96*z + 144\n",
      "L_3^2 (z) = -20*z**3 + 300*z**2 - 1200*z + 1200\n",
      "L_4^2 (z) = 30*z**4 - 720*z**3 + 5400*z**2 - 14400*z + 10800\n",
      "L_5^2 (z) = -42*z**5 + 1470*z**4 - 17640*z**3 + 88200*z**2 - 176400*z + 105840\n",
      "\n",
      "L_0^3 (z) = 6\n",
      "L_1^3 (z) = -24*z + 96\n",
      "L_2^3 (z) = 60*z**2 - 600*z + 1200\n",
      "L_3^3 (z) = -120*z**3 + 2160*z**2 - 10800*z + 14400\n",
      "L_4^3 (z) = 210*z**4 - 5880*z**3 + 52920*z**2 - 176400*z + 176400\n",
      "L_5^3 (z) = -336*z**5 + 13440*z**4 - 188160*z**3 + 1128960*z**2 - 2822400*z + 2257920\n",
      "\n",
      "L_0^4 (z) = 24\n",
      "L_1^4 (z) = -120*z + 600\n",
      "L_2^4 (z) = 360*z**2 - 4320*z + 10800\n",
      "L_3^4 (z) = -840*z**3 + 17640*z**2 - 105840*z + 176400\n",
      "L_4^4 (z) = 1680*z**4 - 53760*z**3 + 564480*z**2 - 2257920*z + 2822400\n",
      "L_5^4 (z) = -3024*z**5 + 136080*z**4 - 2177280*z**3 + 15240960*z**2 - 45722880*z + 45722880\n",
      "\n",
      "L_0^5 (z) = 120\n",
      "L_1^5 (z) = -720*z + 4320\n",
      "L_2^5 (z) = 2520*z**2 - 35280*z + 105840\n",
      "L_3^5 (z) = -6720*z**3 + 161280*z**2 - 1128960*z + 2257920\n",
      "L_4^5 (z) = 15120*z**4 - 544320*z**3 + 6531840*z**2 - 30481920*z + 45722880\n",
      "L_5^5 (z) = -30240*z**5 + 1512000*z**4 - 27216000*z**3 + 217728000*z**2 - 762048000*z + 914457600\n",
      "\n"
     ]
    }
   ],
   "source": [
    "import sympy as sym\n",
    "\n",
    "z = sym.Symbol('z')\n",
    "\n",
    "def L(n, k):  # Laguerre陪多項式\n",
    "    if n == 0:\n",
    "        return sym.factorial(k)\n",
    "    elif n == 1:\n",
    "        return -sym.factorial(k+1)*z + sym.factorial(k+1)*(k+1)\n",
    "    else :\n",
    "        return  ((-z+2*n+k-1)*L(n-1,k) - (n+k-1)**2 * L(n-2,k)) * (n+k)/n\n",
    "\n",
    "for k in range(6):\n",
    "    for n in range(6):\n",
    "        print('L_' + str(n) + '^' + str(k) + ' (z) =', sym.expand(L(n, k)))\n",
    "    print('')"
   ]
  },
  {
   "cell_type": "code",
   "execution_count": 71,
   "metadata": {},
   "outputs": [
    {
     "name": "stdout",
     "output_type": "stream",
     "text": [
      "L_0^0 (z) = 1\n",
      "L_1^0 (z) = -z + 1\n",
      "L_2^0 (z) = z**2 - 4*z + 2\n",
      "L_3^0 (z) = -z**3 + 9*z**2 - 18*z + 6\n",
      "L_4^0 (z) = z**4 - 16*z**3 + 72*z**2 - 96*z + 24\n",
      "L_5^0 (z) = -z**5 + 25*z**4 - 200*z**3 + 600*z**2 - 600*z + 120\n",
      "\n",
      "L_0^1 (z) = 1\n",
      "L_1^1 (z) = -2*z + 4\n",
      "L_2^1 (z) = 3*z**2 - 18*z + 18\n",
      "L_3^1 (z) = -4*z**3 + 48*z**2 - 144*z + 96\n",
      "L_4^1 (z) = 5*z**4 - 100*z**3 + 600*z**2 - 1200*z + 600\n",
      "L_5^1 (z) = -6*z**5 + 180*z**4 - 1800*z**3 + 7200*z**2 - 10800*z + 4320\n",
      "\n",
      "L_0^2 (z) = 2\n",
      "L_1^2 (z) = -6*z + 18\n",
      "L_2^2 (z) = 12*z**2 - 96*z + 144\n",
      "L_3^2 (z) = -20*z**3 + 300*z**2 - 1200*z + 1200\n",
      "L_4^2 (z) = 30*z**4 - 720*z**3 + 5400*z**2 - 14400*z + 10800\n",
      "L_5^2 (z) = -42*z**5 + 1470*z**4 - 17640*z**3 + 88200*z**2 - 176400*z + 105840\n",
      "\n",
      "L_0^3 (z) = 6\n",
      "L_1^3 (z) = -24*z + 96\n",
      "L_2^3 (z) = 60*z**2 - 600*z + 1200\n",
      "L_3^3 (z) = -120*z**3 + 2160*z**2 - 10800*z + 14400\n",
      "L_4^3 (z) = 210*z**4 - 5880*z**3 + 52920*z**2 - 176400*z + 176400\n",
      "L_5^3 (z) = -336*z**5 + 13440*z**4 - 188160*z**3 + 1128960*z**2 - 2822400*z + 2257920\n",
      "\n",
      "L_0^4 (z) = 24\n",
      "L_1^4 (z) = -120*z + 600\n",
      "L_2^4 (z) = 360*z**2 - 4320*z + 10800\n",
      "L_3^4 (z) = -840*z**3 + 17640*z**2 - 105840*z + 176400\n",
      "L_4^4 (z) = 1680*z**4 - 53760*z**3 + 564480*z**2 - 2257920*z + 2822400\n",
      "L_5^4 (z) = -3024*z**5 + 136080*z**4 - 2177280*z**3 + 15240960*z**2 - 45722880*z + 45722880\n",
      "\n",
      "L_0^5 (z) = 120\n",
      "L_1^5 (z) = -720*z + 4320\n",
      "L_2^5 (z) = 2520*z**2 - 35280*z + 105840\n",
      "L_3^5 (z) = -6720*z**3 + 161280*z**2 - 1128960*z + 2257920\n",
      "L_4^5 (z) = 15120*z**4 - 544320*z**3 + 6531840*z**2 - 30481920*z + 45722880\n",
      "L_5^5 (z) = -30240*z**5 + 1512000*z**4 - 27216000*z**3 + 217728000*z**2 - 762048000*z + 914457600\n",
      "\n"
     ]
    }
   ],
   "source": [
    "# Associated Laguerre polynomials\n",
    "def L(n, k):\n",
    "    f = (sym.exp(-z) * z**(n+k)) \n",
    "    \n",
    "    for i in range(n):\n",
    "        f = sym.diff(f)\n",
    "    \n",
    "    return sym.exp(z) / z**k * f * sym.Rational(sym.factorial(n+k) / sym.factorial(n))\n",
    "\n",
    "for k in range(6):\n",
    "    for n in range(6):\n",
    "        print('L_' + str(n) + '^' + str(k) + ' (z) =', sym.expand(L(n, k)))\n",
    "    print('')"
   ]
  },
  {
   "cell_type": "code",
   "execution_count": 2,
   "metadata": {},
   "outputs": [
    {
     "name": "stdout",
     "output_type": "stream",
     "text": [
      "F_1^0 (z) = exp(-z/2)\n",
      "F_2^0 (z) = -2*(z - 2)*exp(-z/2)\n",
      "F_2^1 (z) = 6*z*exp(-z/2)\n",
      "F_3^0 (z) = 3*(z**2 - 6*z + 6)*exp(-z/2)\n",
      "F_3^1 (z) = -24*z*(z - 4)*exp(-z/2)\n",
      "F_3^2 (z) = 120*z**2*exp(-z/2)\n",
      "F_4^0 (z) = -4*(z**3 - 12*z**2 + 36*z - 24)*exp(-z/2)\n",
      "F_4^1 (z) = 60*z*(z**2 - 10*z + 20)*exp(-z/2)\n",
      "F_4^2 (z) = -720*z**2*(z - 6)*exp(-z/2)\n",
      "F_4^3 (z) = 5040*z**3*exp(-z/2)\n"
     ]
    }
   ],
   "source": [
    "import sympy as sym\n",
    "\n",
    "def F(n, l):\n",
    "    return z**l * sym.exp(-z/2) * L(n-l-1, 2*l+1)\n",
    "\n",
    "for i in range(1, 5, 1):\n",
    "    for j in range(i):\n",
    "        print('F_' + str(i) + '^' + str(j) + ' (z) =', sym.factor(sym.expand(F(i, j))))\n",
    "        "
   ]
  },
  {
   "cell_type": "code",
   "execution_count": 3,
   "metadata": {},
   "outputs": [
    {
     "data": {
      "text/latex": [
       "$$\\frac{660}{e^{\\frac{1}{2}}}$$"
      ],
      "text/plain": [
       "     -1/2\n",
       "660⋅ℯ    "
      ]
     },
     "execution_count": 3,
     "metadata": {},
     "output_type": "execute_result"
    }
   ],
   "source": [
    "# 代入計算\n",
    "sym.init_printing(use_latex='mathjax')\n",
    "F(4, 1).subs([(z, 1)])"
   ]
  },
  {
   "cell_type": "code",
   "execution_count": 56,
   "metadata": {},
   "outputs": [],
   "source": [
    "r = sym.Symbol('r')\n",
    "theta = sym.Symbol('theta')\n",
    "phi = sym.Symbol('phi')\n",
    "\n",
    "a = sym.Symbol('a')\n",
    "\n",
    "pi = sym.Symbol('pi')"
   ]
  },
  {
   "cell_type": "code",
   "execution_count": 5,
   "metadata": {},
   "outputs": [
    {
     "data": {
      "text/latex": [
       "$$- \\frac{17280 r}{a} \\left(\\sqrt{3} \\sqrt{\\frac{r}{a}} - 3\\right) e^{- \\sqrt{3} \\sqrt{\\frac{r}{a}}}$$"
      ],
      "text/plain": [
       "                                   ___ \n",
       "                                  ╱ r  \n",
       "         ⎛       ___    ⎞  -√3⋅  ╱  ─  \n",
       "         ⎜      ╱ r     ⎟      ╲╱   a  \n",
       "-17280⋅r⋅⎜√3⋅  ╱  ─  - 3⎟⋅ℯ            \n",
       "         ⎝   ╲╱   a     ⎠              \n",
       "───────────────────────────────────────\n",
       "                   a                   "
      ]
     },
     "execution_count": 5,
     "metadata": {},
     "output_type": "execute_result"
    }
   ],
   "source": [
    "sym.factor(F(4, 2).subs([(z, 2*sym.sqrt(3*r/a))]))"
   ]
  },
  {
   "cell_type": "code",
   "execution_count": 6,
   "metadata": {},
   "outputs": [],
   "source": [
    "import sympy as sym\n",
    "\n",
    "\n",
    "# Associated Legendre polynomials\n",
    "def P(l, m):\n",
    "    f = (z**2 - 1) ** l\n",
    "    \n",
    "    for i in range(l+m):\n",
    "        f = sym.diff(f)\n",
    "    \n",
    "    return (1-z**2)**sym.Rational(m/2) * f / (2**l * sym.factorial(l))"
   ]
  },
  {
   "cell_type": "code",
   "execution_count": 7,
   "metadata": {},
   "outputs": [],
   "source": [
    "# 球面調和関数\n",
    "def Y(l, m):\n",
    "    return sym.exp(sym.I*m*phi) * P(l, m).subs([(z, sym.cos(theta))]) * (-1)**abs(m) * sym.sqrt((2*l+1)/(4*pi) * (sym.factorial(l-m))/(sym.factorial(l+m)))"
   ]
  },
  {
   "cell_type": "code",
   "execution_count": 183,
   "metadata": {},
   "outputs": [
    {
     "name": "stdout",
     "output_type": "stream",
     "text": [
      "P_0^0 = 1\n",
      "P_1^0 = z\n",
      "P_1^1 = sqrt(-z**2 + 1)\n",
      "P_2^0 = 3*z**2/2 - 1/2\n",
      "P_2^1 = 3*z*sqrt(-z**2 + 1)\n",
      "P_2^2 = -3*z**2 + 3\n",
      "P_3^0 = z**3 + 3*z*(z**2 - 1)/2\n",
      "P_3^1 = sqrt(-z**2 + 1)*(360*z**2 - 72)/48\n",
      "P_3^2 = 15*z*(-z**2 + 1)\n",
      "P_3^3 = 15*(-z**2 + 1)**(3/2)\n",
      "\n",
      "Y_0^0 = sqrt(1/pi)/2\n",
      "\n",
      "Y_1^-1 = -sqrt(6)*(cos(theta)**2 - 1)*sqrt(1/pi)*exp(-I*phi)/(4*sqrt(-cos(theta)**2 + 1))\n",
      "Y_1^0 = sqrt(3)*sqrt(1/pi)*cos(theta)/2\n",
      "Y_1^1 = -sqrt(6)*sqrt(-cos(theta)**2 + 1)*sqrt(1/pi)*exp(I*phi)/4\n",
      "\n",
      "Y_2^-2 = sqrt(30)*(cos(theta)**2 - 1)**2*sqrt(1/pi)*exp(-2*I*phi)/(8*(-cos(theta)**2 + 1))\n",
      "Y_2^-1 = -sqrt(30)*(cos(theta)**2 - 1)*sqrt(1/pi)*exp(-I*phi)*cos(theta)/(4*sqrt(-cos(theta)**2 + 1))\n",
      "Y_2^0 = sqrt(5)*(3*cos(theta)**2/2 - 1/2)*sqrt(1/pi)/2\n",
      "Y_2^1 = -sqrt(30)*sqrt(-cos(theta)**2 + 1)*sqrt(1/pi)*exp(I*phi)*cos(theta)/4\n",
      "Y_2^2 = sqrt(30)*(-3*cos(theta)**2 + 3)*sqrt(1/pi)*exp(2*I*phi)/24\n",
      "\n",
      "Y_3^-3 = -sqrt(35)*(cos(theta)**2 - 1)**3*sqrt(1/pi)*exp(-3*I*phi)/(8*(-cos(theta)**2 + 1)**(3/2))\n",
      "Y_3^-2 = sqrt(210)*(cos(theta)**2 - 1)**2*sqrt(1/pi)*exp(-2*I*phi)*cos(theta)/(8*(-cos(theta)**2 + 1))\n",
      "Y_3^-1 = -sqrt(21)*(6*(cos(theta)**2 - 1)**2 + 24*(cos(theta)**2 - 1)*cos(theta)**2)*sqrt(1/pi)*exp(-I*phi)/(48*sqrt(-cos(theta)**2 + 1))\n",
      "Y_3^0 = sqrt(7)*(3*(cos(theta)**2 - 1)*cos(theta)/2 + cos(theta)**3)*sqrt(1/pi)/2\n",
      "Y_3^1 = -sqrt(21)*sqrt(-cos(theta)**2 + 1)*(360*cos(theta)**2 - 72)*sqrt(1/pi)*exp(I*phi)/576\n",
      "Y_3^2 = sqrt(210)*(-cos(theta)**2 + 1)*sqrt(1/pi)*exp(2*I*phi)*cos(theta)/8\n",
      "Y_3^3 = -sqrt(35)*(-cos(theta)**2 + 1)**(3/2)*sqrt(1/pi)*exp(3*I*phi)/8\n",
      "\n",
      "\n",
      "F_1^0 (z) = exp(-r/a)\n",
      "F_2^0 (z) = (4 - 2*r/a)*exp(-r/(2*a))\n",
      "F_2^1 (z) = 6*r*exp(-r/(2*a))/a\n",
      "F_3^0 (z) = (3*(4 - 4*r/(3*a))*(4 - 2*r/(3*a))/2 - 6)*exp(-r/(3*a))\n",
      "F_3^1 (z) = 2*r*(96 - 16*r/a)*exp(-r/(3*a))/(3*a)\n",
      "F_3^2 (z) = 160*r**2*exp(-r/(3*a))/(3*a**2)\n",
      "F_4^0 (z) = (4*(6 - r/(2*a))*(3*(4 - r/a)*(4 - r/(2*a))/2 - 6)/3 - 48 + 12*r/a)*exp(-r/(4*a))\n",
      "F_4^1 (z) = r*(5*(6 - r/(2*a))*(96 - 12*r/a)/2 - 240)*exp(-r/(4*a))/(2*a)\n",
      "F_4^2 (z) = r**2*(4320 - 360*r/a)*exp(-r/(4*a))/(4*a**2)\n",
      "F_4^3 (z) = 630*r**3*exp(-r/(4*a))/a**3\n"
     ]
    }
   ],
   "source": [
    "for i in range(4):\n",
    "    for j in range(i+1):\n",
    "        print('P_' + str(i) + '^' + str(j) + ' =', P(i, j))\n",
    "    \n",
    "print('')\n",
    "\n",
    "for i in range(4):\n",
    "    for j in range(-i, i+1):\n",
    "        print('Y_' + str(i) + '^' + str(j) + ' =', Y(i, j))\n",
    "    print('')\n",
    "    \n",
    "print('')\n",
    "\n",
    "\n",
    "for n in range(1, 5, 1):\n",
    "    for l in range(n):\n",
    "        print('F_' + str(n) + '^' + str(l) + ' (z) =', (F(n, l).subs([(z, (r)/(a) * 2/n)])))"
   ]
  },
  {
   "cell_type": "code",
   "execution_count": 8,
   "metadata": {},
   "outputs": [
    {
     "name": "stdout",
     "output_type": "stream",
     "text": [
      "N_1^0 = 2\n",
      "N_2^0 = sqrt(2)/8\n",
      "N_2^1 = sqrt(6)/72\n",
      "N_3^0 = sqrt(3)/81\n",
      "N_3^1 = sqrt(6)/1296\n",
      "N_3^2 = sqrt(30)/32400\n",
      "N_4^0 = 1/384\n",
      "N_4^1 = sqrt(15)/28800\n",
      "N_4^2 = sqrt(5)/345600\n",
      "N_4^3 = sqrt(35)/16934400\n"
     ]
    }
   ],
   "source": [
    "# 規格化定数\n",
    "def N(n, l):\n",
    "    return  sym.sqrt(sym.factorial(n-l-1)/(sym.factorial(n+l)**3)) * 2 / (n**2)\n",
    "\n",
    "for i in range(1, 5, 1):\n",
    "    for j in range(i):\n",
    "        print('N_' + str(i) + '^' + str(j) + ' =', N(i, j))"
   ]
  },
  {
   "cell_type": "code",
   "execution_count": 9,
   "metadata": {},
   "outputs": [
    {
     "name": "stdout",
     "output_type": "stream",
     "text": [
      "F_1^0 (z) = exp(-r/a)\n",
      "F_2^0 (z) = (4 - 2*r/a)*exp(-r/(2*a))\n",
      "F_2^1 (z) = 6*r*exp(-r/(2*a))/a\n",
      "F_3^0 (z) = (3*(4 - 4*r/(3*a))*(4 - 2*r/(3*a))/2 - 6)*exp(-r/(3*a))\n",
      "F_3^1 (z) = 2*r*(96 - 16*r/a)*exp(-r/(3*a))/(3*a)\n",
      "F_3^2 (z) = 160*r**2*exp(-r/(3*a))/(3*a**2)\n",
      "F_4^0 (z) = (4*(6 - r/(2*a))*(3*(4 - r/a)*(4 - r/(2*a))/2 - 6)/3 - 48 + 12*r/a)*exp(-r/(4*a))\n",
      "F_4^1 (z) = r*(5*(6 - r/(2*a))*(96 - 12*r/a)/2 - 240)*exp(-r/(4*a))/(2*a)\n",
      "F_4^2 (z) = r**2*(4320 - 360*r/a)*exp(-r/(4*a))/(4*a**2)\n",
      "F_4^3 (z) = 630*r**3*exp(-r/(4*a))/a**3\n"
     ]
    }
   ],
   "source": [
    "from fractions import Fraction\n",
    "from decimal import Decimal\n",
    "\n",
    "for n in range(1, 5, 1):\n",
    "    for l in range(n):\n",
    "        print('F_' + str(n) + '^' + str(l) + ' (z) =', (F(n, l).subs([(z, (r/a) * Fraction(2,n))])))"
   ]
  },
  {
   "cell_type": "code",
   "execution_count": 10,
   "metadata": {},
   "outputs": [
    {
     "name": "stdout",
     "output_type": "stream",
     "text": [
      "1/3\n",
      "1/3\n",
      "3\n"
     ]
    }
   ],
   "source": [
    "from fractions import Fraction\n",
    "\n",
    "print(Fraction(1, 3))\n",
    "# 1/3\n",
    "\n",
    "print(Fraction(2, 6))\n",
    "# 1/3\n",
    "\n",
    "print(Fraction(3))\n",
    "# 3"
   ]
  },
  {
   "cell_type": "code",
   "execution_count": 11,
   "metadata": {},
   "outputs": [],
   "source": [
    "# 波動関数\n",
    "def psi(n, l, m):\n",
    "    return sym.simplify( N(n, l) * F(n, l).subs([(z,  r/a * 2/n)]) * Y(l, m) * a**sym.Rational(-3/2))"
   ]
  },
  {
   "cell_type": "code",
   "execution_count": 12,
   "metadata": {},
   "outputs": [
    {
     "data": {
      "text/latex": [
       "$$\\frac{r^{2} \\sqrt{\\frac{1}{\\pi}}}{162 a^{\\frac{7}{2}}} e^{- 2 i \\phi - \\frac{r}{3 a}} \\sin^{2}{\\left (\\theta \\right )}$$"
      ],
      "text/plain": [
       "                      r         \n",
       "       ___  -2⋅ⅈ⋅φ - ───        \n",
       " 2    ╱ 1            3⋅a    2   \n",
       "r ⋅  ╱  ─ ⋅ℯ            ⋅sin (θ)\n",
       "   ╲╱   π                       \n",
       "────────────────────────────────\n",
       "                 7/2            \n",
       "            162⋅a               "
      ]
     },
     "execution_count": 12,
     "metadata": {},
     "output_type": "execute_result"
    }
   ],
   "source": [
    "#sym.init_printing()\n",
    "\n",
    "psi(3, 2, -2)"
   ]
  },
  {
   "cell_type": "code",
   "execution_count": 69,
   "metadata": {},
   "outputs": [
    {
     "name": "stdout",
     "output_type": "stream",
     "text": [
      "ψ_100 (r, θ, ϕ) =\n"
     ]
    },
    {
     "data": {
      "image/png": "[encoded data removed]",
      "text/latex": [
       "$$\\frac{\\sqrt{\\frac{1}{\\pi}}}{a^{\\frac{3}{2}}} e^{- \\frac{r}{a}}$$"
      ],
      "text/plain": [
       "         -r \n",
       "    ___  ───\n",
       "   ╱ 1    a \n",
       "  ╱  ─ ⋅ℯ   \n",
       "╲╱   π      \n",
       "────────────\n",
       "     3/2    \n",
       "    a       "
      ]
     },
     "metadata": {},
     "output_type": "display_data"
    },
    {
     "name": "stdout",
     "output_type": "stream",
     "text": [
      "\n",
      "ψ_200 (r, θ, ϕ) =\n"
     ]
    },
    {
     "data": {
      "image/png": "[encoded data removed]",
      "text/latex": [
       "$$\\frac{\\sqrt{2} \\sqrt{\\frac{1}{\\pi}}}{8 a^{\\frac{5}{2}}} \\left(2 a - r\\right) e^{- \\frac{r}{2 a}}$$"
      ],
      "text/plain": [
       "                      -r \n",
       "                 ___  ───\n",
       "                ╱ 1   2⋅a\n",
       "√2⋅(2⋅a - r)⋅  ╱  ─ ⋅ℯ   \n",
       "             ╲╱   π      \n",
       "─────────────────────────\n",
       "             5/2         \n",
       "          8⋅a            "
      ]
     },
     "metadata": {},
     "output_type": "display_data"
    },
    {
     "name": "stdout",
     "output_type": "stream",
     "text": [
      "\n",
      "ψ_21-1 (r, θ, ϕ) =\n"
     ]
    },
    {
     "data": {
      "image/png": "[encoded data removed]",
      "text/latex": [
       "$$\\frac{r \\sqrt{\\frac{1}{\\pi}}}{8 a^{\\frac{5}{2}}} \\sqrt{\\sin^{2}{\\left (\\theta \\right )}} e^{- i \\phi - \\frac{r}{2 a}}$$"
      ],
      "text/plain": [
       "                                r \n",
       "      ___    _________  -ⅈ⋅φ - ───\n",
       "     ╱ 1    ╱    2             2⋅a\n",
       "r⋅  ╱  ─ ⋅╲╱  sin (θ) ⋅ℯ          \n",
       "  ╲╱   π                          \n",
       "──────────────────────────────────\n",
       "                 5/2              \n",
       "              8⋅a                 "
      ]
     },
     "metadata": {},
     "output_type": "display_data"
    },
    {
     "name": "stdout",
     "output_type": "stream",
     "text": [
      "ψ_210 (r, θ, ϕ) =\n"
     ]
    },
    {
     "data": {
      "image/png": "[encoded data removed]",
      "text/latex": [
       "$$\\frac{\\sqrt{2} r \\sqrt{\\frac{1}{\\pi}}}{8 a^{\\frac{5}{2}}} e^{- \\frac{r}{2 a}} \\cos{\\left (\\theta \\right )}$$"
      ],
      "text/plain": [
       "              -r        \n",
       "         ___  ───       \n",
       "        ╱ 1   2⋅a       \n",
       "√2⋅r⋅  ╱  ─ ⋅ℯ   ⋅cos(θ)\n",
       "     ╲╱   π             \n",
       "────────────────────────\n",
       "            5/2         \n",
       "         8⋅a            "
      ]
     },
     "metadata": {},
     "output_type": "display_data"
    },
    {
     "name": "stdout",
     "output_type": "stream",
     "text": [
      "ψ_211 (r, θ, ϕ) =\n"
     ]
    },
    {
     "data": {
      "image/png": "[encoded data removed]",
      "text/latex": [
       "$$- \\frac{r \\sqrt{\\frac{1}{\\pi}}}{8 a^{\\frac{5}{2}}} \\sqrt{\\sin^{2}{\\left (\\theta \\right )}} e^{i \\phi - \\frac{r}{2 a}}$$"
      ],
      "text/plain": [
       "                                r  \n",
       "       ___    _________  ⅈ⋅φ - ─── \n",
       "      ╱ 1    ╱    2            2⋅a \n",
       "-r⋅  ╱  ─ ⋅╲╱  sin (θ) ⋅ℯ          \n",
       "   ╲╱   π                          \n",
       "───────────────────────────────────\n",
       "                  5/2              \n",
       "               8⋅a                 "
      ]
     },
     "metadata": {},
     "output_type": "display_data"
    },
    {
     "name": "stdout",
     "output_type": "stream",
     "text": [
      "\n",
      "ψ_300 (r, θ, ϕ) =\n"
     ]
    },
    {
     "data": {
      "image/png": "[encoded data removed]",
      "text/latex": [
       "$$\\frac{\\sqrt{3} \\sqrt{\\frac{1}{\\pi}}}{243 a^{\\frac{7}{2}}} \\left(27 a^{2} - 18 a r + 2 r^{2}\\right) e^{- \\frac{r}{3 a}}$$"
      ],
      "text/plain": [
       "                                    -r \n",
       "                               ___  ───\n",
       "   ⎛    2               2⎞    ╱ 1   3⋅a\n",
       "√3⋅⎝27⋅a  - 18⋅a⋅r + 2⋅r ⎠⋅  ╱  ─ ⋅ℯ   \n",
       "                           ╲╱   π      \n",
       "───────────────────────────────────────\n",
       "                     7/2               \n",
       "                243⋅a                  "
      ]
     },
     "metadata": {},
     "output_type": "display_data"
    },
    {
     "name": "stdout",
     "output_type": "stream",
     "text": [
      "\n",
      "ψ_31-1 (r, θ, ϕ) =\n"
     ]
    },
    {
     "data": {
      "image/png": "[encoded data removed]",
      "text/latex": [
       "$$\\frac{r \\sqrt{\\frac{1}{\\pi}}}{81 a^{\\frac{7}{2}}} \\left(6 a - r\\right) \\sqrt{\\sin^{2}{\\left (\\theta \\right )}} e^{- i \\phi - \\frac{r}{3 a}}$$"
      ],
      "text/plain": [
       "                                          r \n",
       "                ___    _________  -ⅈ⋅φ - ───\n",
       "               ╱ 1    ╱    2             3⋅a\n",
       "r⋅(6⋅a - r)⋅  ╱  ─ ⋅╲╱  sin (θ) ⋅ℯ          \n",
       "            ╲╱   π                          \n",
       "────────────────────────────────────────────\n",
       "                      7/2                   \n",
       "                  81⋅a                      "
      ]
     },
     "metadata": {},
     "output_type": "display_data"
    },
    {
     "name": "stdout",
     "output_type": "stream",
     "text": [
      "ψ_310 (r, θ, ϕ) =\n"
     ]
    },
    {
     "data": {
      "image/png": "[encoded data removed]",
      "text/latex": [
       "$$\\frac{\\sqrt{2} r \\sqrt{\\frac{1}{\\pi}}}{81 a^{\\frac{7}{2}}} \\left(6 a - r\\right) e^{- \\frac{r}{3 a}} \\cos{\\left (\\theta \\right )}$$"
      ],
      "text/plain": [
       "                        -r        \n",
       "                   ___  ───       \n",
       "                  ╱ 1   3⋅a       \n",
       "√2⋅r⋅(6⋅a - r)⋅  ╱  ─ ⋅ℯ   ⋅cos(θ)\n",
       "               ╲╱   π             \n",
       "──────────────────────────────────\n",
       "                 7/2              \n",
       "             81⋅a                 "
      ]
     },
     "metadata": {},
     "output_type": "display_data"
    },
    {
     "name": "stdout",
     "output_type": "stream",
     "text": [
      "ψ_311 (r, θ, ϕ) =\n"
     ]
    },
    {
     "data": {
      "image/png": "[encoded data removed]",
      "text/latex": [
       "$$\\frac{r \\sqrt{\\frac{1}{\\pi}}}{81 a^{\\frac{7}{2}}} \\left(- 6 a + r\\right) \\sqrt{\\sin^{2}{\\left (\\theta \\right )}} e^{i \\phi - \\frac{r}{3 a}}$$"
      ],
      "text/plain": [
       "                                          r \n",
       "                 ___    _________  ⅈ⋅φ - ───\n",
       "                ╱ 1    ╱    2            3⋅a\n",
       "r⋅(-6⋅a + r)⋅  ╱  ─ ⋅╲╱  sin (θ) ⋅ℯ         \n",
       "             ╲╱   π                         \n",
       "────────────────────────────────────────────\n",
       "                      7/2                   \n",
       "                  81⋅a                      "
      ]
     },
     "metadata": {},
     "output_type": "display_data"
    },
    {
     "name": "stdout",
     "output_type": "stream",
     "text": [
      "\n",
      "ψ_32-2 (r, θ, ϕ) =\n"
     ]
    },
    {
     "data": {
      "image/png": "[encoded data removed]",
      "text/latex": [
       "$$\\frac{r^{2} \\sqrt{\\frac{1}{\\pi}}}{162 a^{\\frac{7}{2}}} e^{- 2 i \\phi - \\frac{r}{3 a}} \\sin^{2}{\\left (\\theta \\right )}$$"
      ],
      "text/plain": [
       "                      r         \n",
       "       ___  -2⋅ⅈ⋅φ - ───        \n",
       " 2    ╱ 1            3⋅a    2   \n",
       "r ⋅  ╱  ─ ⋅ℯ            ⋅sin (θ)\n",
       "   ╲╱   π                       \n",
       "────────────────────────────────\n",
       "                 7/2            \n",
       "            162⋅a               "
      ]
     },
     "metadata": {},
     "output_type": "display_data"
    },
    {
     "name": "stdout",
     "output_type": "stream",
     "text": [
      "ψ_32-1 (r, θ, ϕ) =\n"
     ]
    },
    {
     "data": {
      "image/png": "[encoded data removed]",
      "text/latex": [
       "$$\\frac{r^{2} \\sqrt{\\frac{1}{\\pi}}}{81 a^{\\frac{7}{2}}} \\sqrt{\\sin^{2}{\\left (\\theta \\right )}} e^{- i \\phi - \\frac{r}{3 a}} \\cos{\\left (\\theta \\right )}$$"
      ],
      "text/plain": [
       "                                 r        \n",
       "       ___    _________  -ⅈ⋅φ - ───       \n",
       " 2    ╱ 1    ╱    2             3⋅a       \n",
       "r ⋅  ╱  ─ ⋅╲╱  sin (θ) ⋅ℯ          ⋅cos(θ)\n",
       "   ╲╱   π                                 \n",
       "──────────────────────────────────────────\n",
       "                     7/2                  \n",
       "                 81⋅a                     "
      ]
     },
     "metadata": {},
     "output_type": "display_data"
    },
    {
     "name": "stdout",
     "output_type": "stream",
     "text": [
      "ψ_320 (r, θ, ϕ) =\n"
     ]
    },
    {
     "data": {
      "image/png": "[encoded data removed]",
      "text/latex": [
       "$$\\frac{\\sqrt{6} r^{2} \\sqrt{\\frac{1}{\\pi}}}{486 a^{\\frac{7}{2}}} \\left(3 \\cos^{2}{\\left (\\theta \\right )} - 1\\right) e^{- \\frac{r}{3 a}}$$"
      ],
      "text/plain": [
       "                               -r \n",
       "                          ___  ───\n",
       "    2 ⎛     2       ⎞    ╱ 1   3⋅a\n",
       "√6⋅r ⋅⎝3⋅cos (θ) - 1⎠⋅  ╱  ─ ⋅ℯ   \n",
       "                      ╲╱   π      \n",
       "──────────────────────────────────\n",
       "                  7/2             \n",
       "             486⋅a                "
      ]
     },
     "metadata": {},
     "output_type": "display_data"
    },
    {
     "name": "stdout",
     "output_type": "stream",
     "text": [
      "ψ_321 (r, θ, ϕ) =\n"
     ]
    },
    {
     "data": {
      "image/png": "[encoded data removed]",
      "text/latex": [
       "$$- \\frac{r^{2} \\sqrt{\\frac{1}{\\pi}}}{81 a^{\\frac{7}{2}}} \\sqrt{\\sin^{2}{\\left (\\theta \\right )}} e^{i \\phi - \\frac{r}{3 a}} \\cos{\\left (\\theta \\right )}$$"
      ],
      "text/plain": [
       "                                 r         \n",
       "        ___    _________  ⅈ⋅φ - ───        \n",
       "  2    ╱ 1    ╱    2            3⋅a        \n",
       "-r ⋅  ╱  ─ ⋅╲╱  sin (θ) ⋅ℯ         ⋅cos(θ) \n",
       "    ╲╱   π                                 \n",
       "───────────────────────────────────────────\n",
       "                      7/2                  \n",
       "                  81⋅a                     "
      ]
     },
     "metadata": {},
     "output_type": "display_data"
    },
    {
     "name": "stdout",
     "output_type": "stream",
     "text": [
      "ψ_322 (r, θ, ϕ) =\n"
     ]
    },
    {
     "data": {
      "image/png": "[encoded data removed]",
      "text/latex": [
       "$$\\frac{r^{2} \\sqrt{\\frac{1}{\\pi}}}{162 a^{\\frac{7}{2}}} e^{2 i \\phi - \\frac{r}{3 a}} \\sin^{2}{\\left (\\theta \\right )}$$"
      ],
      "text/plain": [
       "                     r         \n",
       "       ___  2⋅ⅈ⋅φ - ───        \n",
       " 2    ╱ 1           3⋅a    2   \n",
       "r ⋅  ╱  ─ ⋅ℯ           ⋅sin (θ)\n",
       "   ╲╱   π                      \n",
       "───────────────────────────────\n",
       "                 7/2           \n",
       "            162⋅a              "
      ]
     },
     "metadata": {},
     "output_type": "display_data"
    },
    {
     "name": "stdout",
     "output_type": "stream",
     "text": [
      "\n"
     ]
    }
   ],
   "source": [
    "sym.init_printing()\n",
    "\n",
    "for n in range(1, 4):\n",
    "    for l in range(n):\n",
    "        for m in range(-l, l+1):\n",
    "            print('ψ_' + str(n) + str(l) + str(m) + ' (r, θ, ϕ) =' )\n",
    "            display(psi(n, l, m))\n",
    "        print('')"
   ]
  },
  {
   "cell_type": "code",
   "execution_count": 43,
   "metadata": {},
   "outputs": [
    {
     "name": "stdout",
     "output_type": "stream",
     "text": [
      "100\n",
      "200\n",
      "21-1\n",
      "210\n",
      "211\n",
      "300\n",
      "31-1\n",
      "310\n",
      "311\n",
      "32-2\n",
      "32-1\n",
      "320\n",
      "321\n",
      "322\n"
     ]
    }
   ],
   "source": [
    "for n in range(1, 4):\n",
    "    for l in range(n):\n",
    "        for m in range(-l, l+1):\n",
    "            print(str(n)+str(l)+str(m))"
   ]
  },
  {
   "cell_type": "code",
   "execution_count": 14,
   "metadata": {},
   "outputs": [
    {
     "name": "stdout",
     "output_type": "stream",
     "text": [
      "0.8999999999999999\n"
     ]
    },
    {
     "data": {
      "image/png": "[encoded data removed]",
      "text/latex": [
       "$$\\pi$$"
      ],
      "text/plain": [
       "π"
      ]
     },
     "execution_count": 14,
     "metadata": {},
     "output_type": "execute_result"
    }
   ],
   "source": [
    "f = 0\n",
    "for i in range(9):\n",
    "    f += 0.1\n",
    "print(f)\n",
    "\n",
    "sym.pi"
   ]
  },
  {
   "cell_type": "code",
   "execution_count": 15,
   "metadata": {},
   "outputs": [
    {
     "name": "stdout",
     "output_type": "stream",
     "text": [
      "T_0^0 = 1\n",
      "\n",
      "T_1^-1 = -sqrt(6)\n",
      "T_1^0 = sqrt(3)\n",
      "T_1^1 = -sqrt(6)/2\n",
      "\n",
      "T_2^-2 = 2*sqrt(30)\n",
      "T_2^-1 = -sqrt(30)\n",
      "T_2^0 = sqrt(5)\n",
      "T_2^1 = -sqrt(30)/6\n",
      "T_2^2 = sqrt(30)/12\n",
      "\n",
      "T_3^-3 = -12*sqrt(35)\n",
      "T_3^-2 = 2*sqrt(210)\n",
      "T_3^-1 = -2*sqrt(21)\n",
      "T_3^0 = sqrt(7)\n",
      "T_3^1 = -sqrt(21)/6\n",
      "T_3^2 = sqrt(210)/60\n",
      "T_3^3 = -sqrt(35)/60\n",
      "\n",
      "\n",
      "T_0^0 = 1\n",
      "\n",
      "T_1^-1 = sqrt(6)\n",
      "T_1^0 = sqrt(3)\n",
      "T_1^1 = sqrt(6)/2\n",
      "\n",
      "T_2^-2 = 2*sqrt(30)\n",
      "T_2^-1 = sqrt(30)\n",
      "T_2^0 = sqrt(5)\n",
      "T_2^1 = sqrt(30)/6\n",
      "T_2^2 = sqrt(30)/12\n",
      "\n",
      "T_3^-3 = 12*sqrt(35)\n",
      "T_3^-2 = 2*sqrt(210)\n",
      "T_3^-1 = 2*sqrt(21)\n",
      "T_3^0 = sqrt(7)\n",
      "T_3^1 = sqrt(21)/6\n",
      "T_3^2 = sqrt(210)/60\n",
      "T_3^3 = sqrt(35)/60\n",
      "\n",
      "\n"
     ]
    }
   ],
   "source": [
    "def T(l, m):\n",
    "    return (-1)**abs(m) * sym.sqrt((2*l+1) * (sym.factorial(l-m))/(sym.factorial(l+m)))\n",
    "\n",
    "for i in range(4):\n",
    "    for j in range(-i, i+1):\n",
    "        print('T_' + str(i) + '^' + str(j) + ' =', T(i, j))\n",
    "    print('')\n",
    "    \n",
    "print('')\n",
    "\n",
    "\n",
    "def fa(l, m):\n",
    "    return sym.sqrt( (2*l+1) * (sym.factorial(l-m))/(sym.factorial(l+m)) ) \n",
    "\n",
    "for i in range(4):\n",
    "    for j in range(-i, i+1):\n",
    "        print('T_' + str(i) + '^' + str(j) + ' =', fa(i, j))\n",
    "    print('')\n",
    "    \n",
    "print('')"
   ]
  },
  {
   "cell_type": "code",
   "execution_count": 16,
   "metadata": {},
   "outputs": [
    {
     "name": "stdout",
     "output_type": "stream",
     "text": [
      "1\n",
      "-2*z + 4\n",
      "6\n",
      "3*(-2*z + 4)*(-z + 4)/2 - 6\n",
      "-24*z + 96\n",
      "120\n",
      "24*z + 4*(-z + 6)*(3*(-2*z + 4)*(-z + 4)/2 - 6)/3 - 48\n",
      "5*(-24*z + 96)*(-z + 6)/2 - 240\n",
      "-720*z + 4320\n",
      "5040\n"
     ]
    }
   ],
   "source": [
    "sym.init_printing(use_latex='mathjax')\n",
    "\n",
    "\n",
    "for i in range(1, 5, 1):\n",
    "    for j in range(i):\n",
    "        print(L(i-j-1, 2*j+1))\n",
    "\n"
   ]
  },
  {
   "cell_type": "code",
   "execution_count": 17,
   "metadata": {},
   "outputs": [
    {
     "name": "stdout",
     "output_type": "stream",
     "text": [
      "5.0\n",
      "-5.0\n",
      "5.0\n",
      "-5.0\n",
      "5.0\n",
      "-5.0\n",
      "5.0\n",
      "-5.0\n",
      "5.0\n",
      "-5.0\n",
      "5\n",
      "-5\n",
      "5\n",
      "-5\n",
      "5\n",
      "-5\n",
      "5\n",
      "-5\n",
      "5\n",
      "-5\n",
      "5\n"
     ]
    }
   ],
   "source": [
    "for i in range(-10, 11):\n",
    "    print((-1)**i * 5)\n"
   ]
  },
  {
   "cell_type": "code",
   "execution_count": 57,
   "metadata": {},
   "outputs": [
    {
     "data": {
      "image/png": "[encoded data removed]",
      "text/latex": [
       "$$\\frac{\\sqrt{\\frac{1}{\\pi}}}{a^{\\frac{3}{2}}} e^{- \\frac{r}{a}}$$"
      ],
      "text/plain": [
       "         -r \n",
       "    ___  ───\n",
       "   ╱ 1    a \n",
       "  ╱  ─ ⋅ℯ   \n",
       "╲╱   π      \n",
       "────────────\n",
       "     3/2    \n",
       "    a       "
      ]
     },
     "metadata": {},
     "output_type": "display_data"
    },
    {
     "name": "stdout",
     "output_type": "stream",
     "text": [
      "\\psi100(r, theta, phi) = \n",
      " None\n",
      "\n"
     ]
    },
    {
     "data": {
      "image/png": "[encoded data removed]",
      "text/latex": [
       "$$\\frac{\\sqrt{2} \\sqrt{\\frac{1}{\\pi}}}{8 a^{\\frac{5}{2}}} \\left(2 a - r\\right) e^{- \\frac{r}{2 a}}$$"
      ],
      "text/plain": [
       "                      -r \n",
       "                 ___  ───\n",
       "                ╱ 1   2⋅a\n",
       "√2⋅(2⋅a - r)⋅  ╱  ─ ⋅ℯ   \n",
       "             ╲╱   π      \n",
       "─────────────────────────\n",
       "             5/2         \n",
       "          8⋅a            "
      ]
     },
     "metadata": {},
     "output_type": "display_data"
    },
    {
     "name": "stdout",
     "output_type": "stream",
     "text": [
      "\\psi200(r, theta, phi) = \n",
      " None\n",
      "\n"
     ]
    },
    {
     "data": {
      "image/png": "[encoded data removed]",
      "text/latex": [
       "$$\\frac{r \\sqrt{\\frac{1}{\\pi}}}{8 a^{\\frac{5}{2}}} \\sqrt{\\sin^{2}{\\left (\\theta \\right )}} e^{- i \\phi - \\frac{r}{2 a}}$$"
      ],
      "text/plain": [
       "                                r \n",
       "      ___    _________  -ⅈ⋅φ - ───\n",
       "     ╱ 1    ╱    2             2⋅a\n",
       "r⋅  ╱  ─ ⋅╲╱  sin (θ) ⋅ℯ          \n",
       "  ╲╱   π                          \n",
       "──────────────────────────────────\n",
       "                 5/2              \n",
       "              8⋅a                 "
      ]
     },
     "metadata": {},
     "output_type": "display_data"
    },
    {
     "name": "stdout",
     "output_type": "stream",
     "text": [
      "\\psi21-1(r, theta, phi) = \n",
      " None\n"
     ]
    },
    {
     "data": {
      "image/png": "[encoded data removed]",
      "text/latex": [
       "$$\\frac{\\sqrt{2} r \\sqrt{\\frac{1}{\\pi}}}{8 a^{\\frac{5}{2}}} e^{- \\frac{r}{2 a}} \\cos{\\left (\\theta \\right )}$$"
      ],
      "text/plain": [
       "              -r        \n",
       "         ___  ───       \n",
       "        ╱ 1   2⋅a       \n",
       "√2⋅r⋅  ╱  ─ ⋅ℯ   ⋅cos(θ)\n",
       "     ╲╱   π             \n",
       "────────────────────────\n",
       "            5/2         \n",
       "         8⋅a            "
      ]
     },
     "metadata": {},
     "output_type": "display_data"
    },
    {
     "name": "stdout",
     "output_type": "stream",
     "text": [
      "\\psi210(r, theta, phi) = \n",
      " None\n"
     ]
    },
    {
     "data": {
      "image/png": "[encoded data removed]",
      "text/latex": [
       "$$- \\frac{r \\sqrt{\\frac{1}{\\pi}}}{8 a^{\\frac{5}{2}}} \\sqrt{\\sin^{2}{\\left (\\theta \\right )}} e^{i \\phi - \\frac{r}{2 a}}$$"
      ],
      "text/plain": [
       "                                r  \n",
       "       ___    _________  ⅈ⋅φ - ─── \n",
       "      ╱ 1    ╱    2            2⋅a \n",
       "-r⋅  ╱  ─ ⋅╲╱  sin (θ) ⋅ℯ          \n",
       "   ╲╱   π                          \n",
       "───────────────────────────────────\n",
       "                  5/2              \n",
       "               8⋅a                 "
      ]
     },
     "metadata": {},
     "output_type": "display_data"
    },
    {
     "name": "stdout",
     "output_type": "stream",
     "text": [
      "\\psi211(r, theta, phi) = \n",
      " None\n",
      "\n"
     ]
    },
    {
     "data": {
      "image/png": "[encoded data removed]",
      "text/latex": [
       "$$\\frac{\\sqrt{3} \\sqrt{\\frac{1}{\\pi}}}{243 a^{\\frac{7}{2}}} \\left(27 a^{2} - 18 a r + 2 r^{2}\\right) e^{- \\frac{r}{3 a}}$$"
      ],
      "text/plain": [
       "                                    -r \n",
       "                               ___  ───\n",
       "   ⎛    2               2⎞    ╱ 1   3⋅a\n",
       "√3⋅⎝27⋅a  - 18⋅a⋅r + 2⋅r ⎠⋅  ╱  ─ ⋅ℯ   \n",
       "                           ╲╱   π      \n",
       "───────────────────────────────────────\n",
       "                     7/2               \n",
       "                243⋅a                  "
      ]
     },
     "metadata": {},
     "output_type": "display_data"
    },
    {
     "name": "stdout",
     "output_type": "stream",
     "text": [
      "\\psi300(r, theta, phi) = \n",
      " None\n",
      "\n"
     ]
    },
    {
     "data": {
      "image/png": "[encoded data removed]",
      "text/latex": [
       "$$\\frac{r \\sqrt{\\frac{1}{\\pi}}}{81 a^{\\frac{7}{2}}} \\left(6 a - r\\right) \\sqrt{\\sin^{2}{\\left (\\theta \\right )}} e^{- i \\phi - \\frac{r}{3 a}}$$"
      ],
      "text/plain": [
       "                                          r \n",
       "                ___    _________  -ⅈ⋅φ - ───\n",
       "               ╱ 1    ╱    2             3⋅a\n",
       "r⋅(6⋅a - r)⋅  ╱  ─ ⋅╲╱  sin (θ) ⋅ℯ          \n",
       "            ╲╱   π                          \n",
       "────────────────────────────────────────────\n",
       "                      7/2                   \n",
       "                  81⋅a                      "
      ]
     },
     "metadata": {},
     "output_type": "display_data"
    },
    {
     "name": "stdout",
     "output_type": "stream",
     "text": [
      "\\psi31-1(r, theta, phi) = \n",
      " None\n"
     ]
    },
    {
     "data": {
      "image/png": "[encoded data removed]",
      "text/latex": [
       "$$\\frac{\\sqrt{2} r \\sqrt{\\frac{1}{\\pi}}}{81 a^{\\frac{7}{2}}} \\left(6 a - r\\right) e^{- \\frac{r}{3 a}} \\cos{\\left (\\theta \\right )}$$"
      ],
      "text/plain": [
       "                        -r        \n",
       "                   ___  ───       \n",
       "                  ╱ 1   3⋅a       \n",
       "√2⋅r⋅(6⋅a - r)⋅  ╱  ─ ⋅ℯ   ⋅cos(θ)\n",
       "               ╲╱   π             \n",
       "──────────────────────────────────\n",
       "                 7/2              \n",
       "             81⋅a                 "
      ]
     },
     "metadata": {},
     "output_type": "display_data"
    },
    {
     "name": "stdout",
     "output_type": "stream",
     "text": [
      "\\psi310(r, theta, phi) = \n",
      " None\n"
     ]
    },
    {
     "data": {
      "image/png": "[encoded data removed]",
      "text/latex": [
       "$$\\frac{r \\sqrt{\\frac{1}{\\pi}}}{81 a^{\\frac{7}{2}}} \\left(- 6 a + r\\right) \\sqrt{\\sin^{2}{\\left (\\theta \\right )}} e^{i \\phi - \\frac{r}{3 a}}$$"
      ],
      "text/plain": [
       "                                          r \n",
       "                 ___    _________  ⅈ⋅φ - ───\n",
       "                ╱ 1    ╱    2            3⋅a\n",
       "r⋅(-6⋅a + r)⋅  ╱  ─ ⋅╲╱  sin (θ) ⋅ℯ         \n",
       "             ╲╱   π                         \n",
       "────────────────────────────────────────────\n",
       "                      7/2                   \n",
       "                  81⋅a                      "
      ]
     },
     "metadata": {},
     "output_type": "display_data"
    },
    {
     "name": "stdout",
     "output_type": "stream",
     "text": [
      "\\psi311(r, theta, phi) = \n",
      " None\n",
      "\n"
     ]
    },
    {
     "data": {
      "image/png": "[encoded data removed]",
      "text/latex": [
       "$$\\frac{r^{2} \\sqrt{\\frac{1}{\\pi}}}{162 a^{\\frac{7}{2}}} e^{- 2 i \\phi - \\frac{r}{3 a}} \\sin^{2}{\\left (\\theta \\right )}$$"
      ],
      "text/plain": [
       "                      r         \n",
       "       ___  -2⋅ⅈ⋅φ - ───        \n",
       " 2    ╱ 1            3⋅a    2   \n",
       "r ⋅  ╱  ─ ⋅ℯ            ⋅sin (θ)\n",
       "   ╲╱   π                       \n",
       "────────────────────────────────\n",
       "                 7/2            \n",
       "            162⋅a               "
      ]
     },
     "metadata": {},
     "output_type": "display_data"
    },
    {
     "name": "stdout",
     "output_type": "stream",
     "text": [
      "\\psi32-2(r, theta, phi) = \n",
      " None\n"
     ]
    },
    {
     "data": {
      "image/png": "[encoded data removed]",
      "text/latex": [
       "$$\\frac{r^{2} \\sqrt{\\frac{1}{\\pi}}}{81 a^{\\frac{7}{2}}} \\sqrt{\\sin^{2}{\\left (\\theta \\right )}} e^{- i \\phi - \\frac{r}{3 a}} \\cos{\\left (\\theta \\right )}$$"
      ],
      "text/plain": [
       "                                 r        \n",
       "       ___    _________  -ⅈ⋅φ - ───       \n",
       " 2    ╱ 1    ╱    2             3⋅a       \n",
       "r ⋅  ╱  ─ ⋅╲╱  sin (θ) ⋅ℯ          ⋅cos(θ)\n",
       "   ╲╱   π                                 \n",
       "──────────────────────────────────────────\n",
       "                     7/2                  \n",
       "                 81⋅a                     "
      ]
     },
     "metadata": {},
     "output_type": "display_data"
    },
    {
     "name": "stdout",
     "output_type": "stream",
     "text": [
      "\\psi32-1(r, theta, phi) = \n",
      " None\n"
     ]
    },
    {
     "data": {
      "image/png": "[encoded data removed]",
      "text/latex": [
       "$$\\frac{\\sqrt{6} r^{2} \\sqrt{\\frac{1}{\\pi}}}{486 a^{\\frac{7}{2}}} \\left(3 \\cos^{2}{\\left (\\theta \\right )} - 1\\right) e^{- \\frac{r}{3 a}}$$"
      ],
      "text/plain": [
       "                               -r \n",
       "                          ___  ───\n",
       "    2 ⎛     2       ⎞    ╱ 1   3⋅a\n",
       "√6⋅r ⋅⎝3⋅cos (θ) - 1⎠⋅  ╱  ─ ⋅ℯ   \n",
       "                      ╲╱   π      \n",
       "──────────────────────────────────\n",
       "                  7/2             \n",
       "             486⋅a                "
      ]
     },
     "metadata": {},
     "output_type": "display_data"
    },
    {
     "name": "stdout",
     "output_type": "stream",
     "text": [
      "\\psi320(r, theta, phi) = \n",
      " None\n"
     ]
    },
    {
     "data": {
      "image/png": "[encoded data removed]",
      "text/latex": [
       "$$- \\frac{r^{2} \\sqrt{\\frac{1}{\\pi}}}{81 a^{\\frac{7}{2}}} \\sqrt{\\sin^{2}{\\left (\\theta \\right )}} e^{i \\phi - \\frac{r}{3 a}} \\cos{\\left (\\theta \\right )}$$"
      ],
      "text/plain": [
       "                                 r         \n",
       "        ___    _________  ⅈ⋅φ - ───        \n",
       "  2    ╱ 1    ╱    2            3⋅a        \n",
       "-r ⋅  ╱  ─ ⋅╲╱  sin (θ) ⋅ℯ         ⋅cos(θ) \n",
       "    ╲╱   π                                 \n",
       "───────────────────────────────────────────\n",
       "                      7/2                  \n",
       "                  81⋅a                     "
      ]
     },
     "metadata": {},
     "output_type": "display_data"
    },
    {
     "name": "stdout",
     "output_type": "stream",
     "text": [
      "\\psi321(r, theta, phi) = \n",
      " None\n"
     ]
    },
    {
     "data": {
      "image/png": "[encoded data removed]",
      "text/latex": [
       "$$\\frac{r^{2} \\sqrt{\\frac{1}{\\pi}}}{162 a^{\\frac{7}{2}}} e^{2 i \\phi - \\frac{r}{3 a}} \\sin^{2}{\\left (\\theta \\right )}$$"
      ],
      "text/plain": [
       "                     r         \n",
       "       ___  2⋅ⅈ⋅φ - ───        \n",
       " 2    ╱ 1           3⋅a    2   \n",
       "r ⋅  ╱  ─ ⋅ℯ           ⋅sin (θ)\n",
       "   ╲╱   π                      \n",
       "───────────────────────────────\n",
       "                 7/2           \n",
       "            162⋅a              "
      ]
     },
     "metadata": {},
     "output_type": "display_data"
    },
    {
     "name": "stdout",
     "output_type": "stream",
     "text": [
      "\\psi322(r, theta, phi) = \n",
      " None\n",
      "\n"
     ]
    }
   ],
   "source": [
    "sym.init_printing()\n",
    "\n",
    "for n in range(1, 4):\n",
    "    for l in range(n):\n",
    "        for m in range(-l, l+1):\n",
    "            print('\\psi' + str(n) + str(l) + str(m) + '(r, theta, phi) = \\n', display(psi(n, l, m)))\n",
    "        print('')"
   ]
  },
  {
   "cell_type": "code",
   "execution_count": 19,
   "metadata": {},
   "outputs": [
    {
     "data": {
      "text/latex": [
       "$$\\frac{1}{a^{\\frac{3}{2}}}$$"
      ],
      "text/plain": [
       " 1  \n",
       "────\n",
       " 3/2\n",
       "a   "
      ]
     },
     "execution_count": 19,
     "metadata": {},
     "output_type": "execute_result"
    }
   ],
   "source": [
    "1/a**sym.Rational(3/2)"
   ]
  },
  {
   "cell_type": "code",
   "execution_count": 204,
   "metadata": {},
   "outputs": [
    {
     "data": {
      "image/png": "[encoded data removed]",
      "text/latex": [
       "$$\\sqrt{\\sin^{2}{\\left (\\theta \\right )}}$$"
      ],
      "text/plain": [
       "   _________\n",
       "  ╱    2    \n",
       "╲╱  sin (θ) "
      ]
     },
     "execution_count": 204,
     "metadata": {},
     "output_type": "execute_result"
    }
   ],
   "source": [
    "sym.simplify(sym.sqrt(1-(sym.cos(theta))**2))"
   ]
  },
  {
   "cell_type": "code",
   "execution_count": 54,
   "metadata": {},
   "outputs": [
    {
     "ename": "SyntaxError",
     "evalue": "keyword can't be an expression (<ipython-input-54-db3e760d8668>, line 6)",
     "output_type": "error",
     "traceback": [
      "\u001b[1;36m  File \u001b[1;32m\"<ipython-input-54-db3e760d8668>\"\u001b[1;36m, line \u001b[1;32m6\u001b[0m\n\u001b[1;33m    display('psi_' + str(n) + str(l) + str(m) + (r, theta, phi) = (psi(n, l, m)))\u001b[0m\n\u001b[1;37m           ^\u001b[0m\n\u001b[1;31mSyntaxError\u001b[0m\u001b[1;31m:\u001b[0m keyword can't be an expression\n"
     ]
    }
   ],
   "source": [
    "sym.init_printing()\n",
    "\n",
    "for n in range(1, 4):\n",
    "    for l in range(n):\n",
    "        for m in range(-l, l+1):\n",
    "            display('psi_' + str(n) + str(l) + str(m) + (r, theta, phi) = (psi(n, l, m)))\n",
    "        print('')"
   ]
  },
  {
   "cell_type": "code",
   "execution_count": 318,
   "metadata": {},
   "outputs": [
    {
     "data": {
      "text/plain": [
       "'$\\\\phi$10'"
      ]
     },
     "metadata": {},
     "output_type": "display_data"
    },
    {
     "data": {
      "text/plain": [
       "'$\\\\phi$20'"
      ]
     },
     "metadata": {},
     "output_type": "display_data"
    },
    {
     "data": {
      "text/plain": [
       "'$\\\\phi$21'"
      ]
     },
     "metadata": {},
     "output_type": "display_data"
    },
    {
     "data": {
      "text/plain": [
       "'$\\\\phi$30'"
      ]
     },
     "metadata": {},
     "output_type": "display_data"
    },
    {
     "data": {
      "text/plain": [
       "'$\\\\phi$31'"
      ]
     },
     "metadata": {},
     "output_type": "display_data"
    },
    {
     "data": {
      "text/plain": [
       "'$\\\\phi$32'"
      ]
     },
     "metadata": {},
     "output_type": "display_data"
    },
    {
     "data": {
      "text/plain": [
       "'$\\\\phi$40'"
      ]
     },
     "metadata": {},
     "output_type": "display_data"
    },
    {
     "data": {
      "text/plain": [
       "'$\\\\phi$41'"
      ]
     },
     "metadata": {},
     "output_type": "display_data"
    },
    {
     "data": {
      "text/plain": [
       "'$\\\\phi$42'"
      ]
     },
     "metadata": {},
     "output_type": "display_data"
    },
    {
     "data": {
      "text/plain": [
       "'$\\\\phi$43'"
      ]
     },
     "metadata": {},
     "output_type": "display_data"
    },
    {
     "name": "stdout",
     "output_type": "stream",
     "text": [
      "$\\\\rho$\n"
     ]
    }
   ],
   "source": [
    "\n",
    "\n",
    "import matplotlib\n",
    "from matplotlib import rc\n",
    "rc('text', usetex=True)\n",
    "\n",
    "\n",
    "for i in range(5):\n",
    "    for j in range(i):\n",
    "        display(r'$\\phi$' + str(i) + str(j))\n",
    "\n",
    "print(r'$\\\\rho$')"
   ]
  },
  {
   "cell_type": "code",
   "execution_count": 21,
   "metadata": {},
   "outputs": [
    {
     "data": {
      "text/latex": [
       "$$\\left ( r, \\quad \\theta, \\quad \\phi\\right )$$"
      ],
      "text/plain": [
       "(r, θ, φ)"
      ]
     },
     "metadata": {},
     "output_type": "display_data"
    }
   ],
   "source": [
    "display((r, theta, phi))"
   ]
  },
  {
   "cell_type": "code",
   "execution_count": 22,
   "metadata": {},
   "outputs": [
    {
     "data": {
      "text/latex": [
       "$$\\int \\sqrt{\\frac{1}{z}}\\, dz$$"
      ],
      "text/plain": [
       "⌠           \n",
       "⎮     ___   \n",
       "⎮    ╱ 1    \n",
       "⎮   ╱  ─  dz\n",
       "⎮ ╲╱   z    \n",
       "⌡           "
      ]
     },
     "execution_count": 22,
     "metadata": {},
     "output_type": "execute_result"
    }
   ],
   "source": [
    "sym.Integral(sym.sqrt(1/z))"
   ]
  },
  {
   "cell_type": "code",
   "execution_count": 52,
   "metadata": {},
   "outputs": [],
   "source": [
    "\n",
    "def left(n, l, m):\n",
    "    return r'$\\psi$'"
   ]
  },
  {
   "cell_type": "code",
   "execution_count": 53,
   "metadata": {},
   "outputs": [
    {
     "name": "stdout",
     "output_type": "stream",
     "text": [
      "$\\psi$\n"
     ]
    }
   ],
   "source": [
    "print(left(1,1,1))"
   ]
  },
  {
   "cell_type": "code",
   "execution_count": 65,
   "metadata": {},
   "outputs": [
    {
     "name": "stdout",
     "output_type": "stream",
     "text": [
      "ψ_100 = \n"
     ]
    },
    {
     "data": {
      "image/png": "[encoded data removed]",
      "text/latex": [
       "$$\\frac{\\sqrt{\\frac{1}{\\pi}}}{a^{\\frac{3}{2}}} e^{- \\frac{r}{a}}$$"
      ],
      "text/plain": [
       "         -r \n",
       "    ___  ───\n",
       "   ╱ 1    a \n",
       "  ╱  ─ ⋅ℯ   \n",
       "╲╱   π      \n",
       "────────────\n",
       "     3/2    \n",
       "    a       "
      ]
     },
     "metadata": {},
     "output_type": "display_data"
    }
   ],
   "source": [
    "print('ψ_' + str(1) + str(0) + str(0) + ' = '),\n",
    "display(psi(1,0,0))"
   ]
  },
  {
   "cell_type": "code",
   "execution_count": 2,
   "metadata": {},
   "outputs": [
    {
     "name": "stdout",
     "output_type": "stream",
     "text": [
      "ψ_100 (r, θ, φ) =\n"
     ]
    },
    {
     "data": {
      "image/png": "[encoded data removed]",
      "text/latex": [
       "$$\\frac{e^{- \\frac{r}{a}}}{\\sqrt{\\pi} a^{\\frac{3}{2}}}$$"
      ],
      "text/plain": [
       "   -r  \n",
       "   ─── \n",
       "    a  \n",
       "  ℯ    \n",
       "───────\n",
       "    3/2\n",
       "√π⋅a   "
      ]
     },
     "metadata": {},
     "output_type": "display_data"
    },
    {
     "name": "stdout",
     "output_type": "stream",
     "text": [
      "\n",
      "ψ_200 (r, θ, φ) =\n"
     ]
    },
    {
     "data": {
      "image/png": "[encoded data removed]",
      "text/latex": [
       "$$\\frac{\\sqrt{2} e^{- \\frac{r}{2 a}}}{8 \\sqrt{\\pi} a^{\\frac{5}{2}}} \\left(2 a - r\\right)$$"
      ],
      "text/plain": [
       "              -r \n",
       "              ───\n",
       "              2⋅a\n",
       "√2⋅(2⋅a - r)⋅ℯ   \n",
       "─────────────────\n",
       "          5/2    \n",
       "    8⋅√π⋅a       "
      ]
     },
     "metadata": {},
     "output_type": "display_data"
    },
    {
     "name": "stdout",
     "output_type": "stream",
     "text": [
      "\n",
      "ψ_21-1 (r, θ, φ) =\n"
     ]
    },
    {
     "data": {
      "image/png": "[encoded data removed]",
      "text/latex": [
       "$$\\frac{r \\sqrt{\\sin^{2}{\\left (\\theta \\right )}}}{8 \\sqrt{\\pi} a^{\\frac{5}{2}}} e^{- i \\phi - \\frac{r}{2 a}}$$"
      ],
      "text/plain": [
       "                        r \n",
       "     _________  -ⅈ⋅φ - ───\n",
       "    ╱    2             2⋅a\n",
       "r⋅╲╱  sin (θ) ⋅ℯ          \n",
       "──────────────────────────\n",
       "              5/2         \n",
       "        8⋅√π⋅a            "
      ]
     },
     "metadata": {},
     "output_type": "display_data"
    },
    {
     "name": "stdout",
     "output_type": "stream",
     "text": [
      "ψ_210 (r, θ, φ) =\n"
     ]
    },
    {
     "data": {
      "image/png": "[encoded data removed]",
      "text/latex": [
       "$$\\frac{\\sqrt{2} r \\cos{\\left (\\theta \\right )}}{8 \\sqrt{\\pi} a^{\\frac{5}{2}}} e^{- \\frac{r}{2 a}}$$"
      ],
      "text/plain": [
       "      -r        \n",
       "      ───       \n",
       "      2⋅a       \n",
       "√2⋅r⋅ℯ   ⋅cos(θ)\n",
       "────────────────\n",
       "         5/2    \n",
       "   8⋅√π⋅a       "
      ]
     },
     "metadata": {},
     "output_type": "display_data"
    },
    {
     "name": "stdout",
     "output_type": "stream",
     "text": [
      "ψ_211 (r, θ, φ) =\n"
     ]
    },
    {
     "data": {
      "image/png": "[encoded data removed]",
      "text/latex": [
       "$$- \\frac{r \\sqrt{\\sin^{2}{\\left (\\theta \\right )}}}{8 \\sqrt{\\pi} a^{\\frac{5}{2}}} e^{i \\phi - \\frac{r}{2 a}}$$"
      ],
      "text/plain": [
       "                        r  \n",
       "      _________  ⅈ⋅φ - ─── \n",
       "     ╱    2            2⋅a \n",
       "-r⋅╲╱  sin (θ) ⋅ℯ          \n",
       "───────────────────────────\n",
       "               5/2         \n",
       "         8⋅√π⋅a            "
      ]
     },
     "metadata": {},
     "output_type": "display_data"
    },
    {
     "name": "stdout",
     "output_type": "stream",
     "text": [
      "\n",
      "ψ_300 (r, θ, φ) =\n"
     ]
    },
    {
     "data": {
      "image/png": "[encoded data removed]",
      "text/latex": [
       "$$\\frac{\\sqrt{3} e^{- \\frac{r}{3 a}}}{243 \\sqrt{\\pi} a^{\\frac{7}{2}}} \\left(27 a^{2} - 18 a r + 2 r^{2}\\right)$$"
      ],
      "text/plain": [
       "                            -r \n",
       "                            ───\n",
       "   ⎛    2               2⎞  3⋅a\n",
       "√3⋅⎝27⋅a  - 18⋅a⋅r + 2⋅r ⎠⋅ℯ   \n",
       "───────────────────────────────\n",
       "                  7/2          \n",
       "          243⋅√π⋅a             "
      ]
     },
     "metadata": {},
     "output_type": "display_data"
    },
    {
     "name": "stdout",
     "output_type": "stream",
     "text": [
      "\n",
      "ψ_31-1 (r, θ, φ) =\n"
     ]
    },
    {
     "data": {
      "image/png": "[encoded data removed]",
      "text/latex": [
       "$$\\frac{r \\sqrt{\\sin^{2}{\\left (\\theta \\right )}}}{81 \\sqrt{\\pi} a^{\\frac{7}{2}}} \\left(6 a - r\\right) e^{- i \\phi - \\frac{r}{3 a}}$$"
      ],
      "text/plain": [
       "                                  r \n",
       "               _________  -ⅈ⋅φ - ───\n",
       "              ╱    2             3⋅a\n",
       "r⋅(6⋅a - r)⋅╲╱  sin (θ) ⋅ℯ          \n",
       "────────────────────────────────────\n",
       "                    7/2             \n",
       "             81⋅√π⋅a                "
      ]
     },
     "metadata": {},
     "output_type": "display_data"
    },
    {
     "name": "stdout",
     "output_type": "stream",
     "text": [
      "ψ_310 (r, θ, φ) =\n"
     ]
    },
    {
     "data": {
      "image/png": "[encoded data removed]",
      "text/latex": [
       "$$\\frac{\\sqrt{2} r \\cos{\\left (\\theta \\right )}}{81 \\sqrt{\\pi} a^{\\frac{7}{2}}} \\left(6 a - r\\right) e^{- \\frac{r}{3 a}}$$"
      ],
      "text/plain": [
       "                -r        \n",
       "                ───       \n",
       "                3⋅a       \n",
       "√2⋅r⋅(6⋅a - r)⋅ℯ   ⋅cos(θ)\n",
       "──────────────────────────\n",
       "               7/2        \n",
       "        81⋅√π⋅a           "
      ]
     },
     "metadata": {},
     "output_type": "display_data"
    },
    {
     "name": "stdout",
     "output_type": "stream",
     "text": [
      "ψ_311 (r, θ, φ) =\n"
     ]
    },
    {
     "data": {
      "image/png": "[encoded data removed]",
      "text/latex": [
       "$$\\frac{r \\sqrt{\\sin^{2}{\\left (\\theta \\right )}}}{81 \\sqrt{\\pi} a^{\\frac{7}{2}}} \\left(- 6 a + r\\right) e^{i \\phi - \\frac{r}{3 a}}$$"
      ],
      "text/plain": [
       "                                  r \n",
       "                _________  ⅈ⋅φ - ───\n",
       "               ╱    2            3⋅a\n",
       "r⋅(-6⋅a + r)⋅╲╱  sin (θ) ⋅ℯ         \n",
       "────────────────────────────────────\n",
       "                    7/2             \n",
       "             81⋅√π⋅a                "
      ]
     },
     "metadata": {},
     "output_type": "display_data"
    },
    {
     "name": "stdout",
     "output_type": "stream",
     "text": [
      "\n",
      "ψ_32-2 (r, θ, φ) =\n"
     ]
    },
    {
     "data": {
      "image/png": "[encoded data removed]",
      "text/latex": [
       "$$\\frac{r^{2} \\sin^{2}{\\left (\\theta \\right )}}{162 \\sqrt{\\pi} a^{\\frac{7}{2}}} e^{- 2 i \\phi - \\frac{r}{3 a}}$$"
      ],
      "text/plain": [
       "              r         \n",
       "    -2⋅ⅈ⋅φ - ───        \n",
       " 2           3⋅a    2   \n",
       "r ⋅ℯ            ⋅sin (θ)\n",
       "────────────────────────\n",
       "              7/2       \n",
       "      162⋅√π⋅a          "
      ]
     },
     "metadata": {},
     "output_type": "display_data"
    },
    {
     "name": "stdout",
     "output_type": "stream",
     "text": [
      "ψ_32-1 (r, θ, φ) =\n"
     ]
    },
    {
     "data": {
      "image/png": "[encoded data removed]",
      "text/latex": [
       "$$\\frac{r^{2} \\sqrt{\\sin^{2}{\\left (\\theta \\right )}}}{81 \\sqrt{\\pi} a^{\\frac{7}{2}}} e^{- i \\phi - \\frac{r}{3 a}} \\cos{\\left (\\theta \\right )}$$"
      ],
      "text/plain": [
       "                         r        \n",
       "      _________  -ⅈ⋅φ - ───       \n",
       " 2   ╱    2             3⋅a       \n",
       "r ⋅╲╱  sin (θ) ⋅ℯ          ⋅cos(θ)\n",
       "──────────────────────────────────\n",
       "                   7/2            \n",
       "            81⋅√π⋅a               "
      ]
     },
     "metadata": {},
     "output_type": "display_data"
    },
    {
     "name": "stdout",
     "output_type": "stream",
     "text": [
      "ψ_320 (r, θ, φ) =\n"
     ]
    },
    {
     "data": {
      "image/png": "[encoded data removed]",
      "text/latex": [
       "$$\\frac{\\sqrt{6} r^{2} e^{- \\frac{r}{3 a}}}{486 \\sqrt{\\pi} a^{\\frac{7}{2}}} \\left(3 \\cos^{2}{\\left (\\theta \\right )} - 1\\right)$$"
      ],
      "text/plain": [
       "                       -r \n",
       "                       ───\n",
       "    2 ⎛     2       ⎞  3⋅a\n",
       "√6⋅r ⋅⎝3⋅cos (θ) - 1⎠⋅ℯ   \n",
       "──────────────────────────\n",
       "               7/2        \n",
       "       486⋅√π⋅a           "
      ]
     },
     "metadata": {},
     "output_type": "display_data"
    },
    {
     "name": "stdout",
     "output_type": "stream",
     "text": [
      "ψ_321 (r, θ, φ) =\n"
     ]
    },
    {
     "data": {
      "image/png": "[encoded data removed]",
      "text/latex": [
       "$$- \\frac{r^{2} \\sqrt{\\sin^{2}{\\left (\\theta \\right )}}}{81 \\sqrt{\\pi} a^{\\frac{7}{2}}} e^{i \\phi - \\frac{r}{3 a}} \\cos{\\left (\\theta \\right )}$$"
      ],
      "text/plain": [
       "                         r         \n",
       "       _________  ⅈ⋅φ - ───        \n",
       "  2   ╱    2            3⋅a        \n",
       "-r ⋅╲╱  sin (θ) ⋅ℯ         ⋅cos(θ) \n",
       "───────────────────────────────────\n",
       "                    7/2            \n",
       "             81⋅√π⋅a               "
      ]
     },
     "metadata": {},
     "output_type": "display_data"
    },
    {
     "name": "stdout",
     "output_type": "stream",
     "text": [
      "ψ_322 (r, θ, φ) =\n"
     ]
    },
    {
     "data": {
      "image/png": "[encoded data removed]",
      "text/latex": [
       "$$\\frac{r^{2} \\sin^{2}{\\left (\\theta \\right )}}{162 \\sqrt{\\pi} a^{\\frac{7}{2}}} e^{2 i \\phi - \\frac{r}{3 a}}$$"
      ],
      "text/plain": [
       "             r         \n",
       "    2⋅ⅈ⋅φ - ───        \n",
       " 2          3⋅a    2   \n",
       "r ⋅ℯ           ⋅sin (θ)\n",
       "───────────────────────\n",
       "              7/2      \n",
       "      162⋅√π⋅a         "
      ]
     },
     "metadata": {},
     "output_type": "display_data"
    },
    {
     "name": "stdout",
     "output_type": "stream",
     "text": [
      "\n"
     ]
    }
   ],
   "source": [
    "import sympy as sym\n",
    "sym.init_printing()\n",
    "\n",
    "z = sym.Symbol('z')\n",
    "r = sym.Symbol('r')\n",
    "theta = sym.Symbol('theta')\n",
    "phi = sym.Symbol('phi')\n",
    "a = sym.Symbol('a')\n",
    "pi = sym.pi\n",
    "\n",
    "\n",
    "\n",
    "# Associated Laguerre polynomials\n",
    "def L(n, k):\n",
    "    f = (sym.exp(-z) * z**(n+k)) \n",
    "    \n",
    "    for i in range(n):\n",
    "        f = sym.diff(f)\n",
    "    \n",
    "    return sym.exp(z) / z**k * f * sym.Rational(sym.factorial(n+k) / sym.factorial(n))\n",
    "\n",
    "\n",
    "# F\n",
    "def F(n, l):\n",
    "    return z**l * sym.exp(-z/2) * L(n-l-1, 2*l+1)\n",
    "\n",
    "    \n",
    "# Associated Legendre polynomials\n",
    "def P(l, m):\n",
    "    f = (z**2 - 1) ** l\n",
    "    \n",
    "    for i in range(l+m):\n",
    "        f = sym.diff(f)\n",
    "    \n",
    "    return (1-z**2)**sym.Rational(m/2) * f / (2**l * sym.factorial(l))\n",
    "\n",
    "\n",
    "# Spherical harmonics\n",
    "def Y(l, m):\n",
    "    return sym.exp(sym.I*m*phi) * P(l, m).subs([(z, sym.cos(theta))]) \\\n",
    "                * (-1)**abs(m) * sym.sqrt((2*l+1)/(4*pi) * (sym.factorial(l-m))/(sym.factorial(l+m)))\n",
    "\n",
    "\n",
    "# Normalization constant\n",
    "def N(n, l):\n",
    "    return  sym.sqrt(sym.factorial(n-l-1)/(sym.factorial(n+l)**3)) * 2 / (n**2)\n",
    "\n",
    "\n",
    "# wave function\n",
    "def psi(n, l, m):\n",
    "    return sym.simplify( N(n, l) * F(n, l).subs([(z,  r/a * 2/n)]) * Y(l, m) * a**sym.Rational(-3/2))\n",
    "\n",
    "\n",
    "# display\n",
    "for n in range(1, 4):\n",
    "    for l in range(n):\n",
    "        for m in range(-l, l+1):\n",
    "            print('ψ_' + str(n) + str(l) + str(m) + ' (r, θ, φ) =' )\n",
    "            display(psi(n, l, m))\n",
    "        print('')\n",
    "\n"
   ]
  },
  {
   "cell_type": "code",
   "execution_count": 4,
   "metadata": {},
   "outputs": [
    {
     "name": "stdout",
     "output_type": "stream",
     "text": [
      "ψ_100 (r, θ, φ) = exp(-r/a)/(sqrt(pi)*a**(3/2))\n",
      "\n",
      "ψ_200 (r, θ, φ) = sqrt(2)*(2*a - r)*exp(-r/(2*a))/(8*sqrt(pi)*a**(5/2))\n",
      "\n",
      "ψ_21-1 (r, θ, φ) = r*sqrt(sin(theta)**2)*exp(-I*phi - r/(2*a))/(8*sqrt(pi)*a**(5/2))\n",
      "ψ_210 (r, θ, φ) = sqrt(2)*r*exp(-r/(2*a))*cos(theta)/(8*sqrt(pi)*a**(5/2))\n",
      "ψ_211 (r, θ, φ) = -r*sqrt(sin(theta)**2)*exp(I*phi - r/(2*a))/(8*sqrt(pi)*a**(5/2))\n",
      "\n",
      "ψ_300 (r, θ, φ) = sqrt(3)*(27*a**2 - 18*a*r + 2*r**2)*exp(-r/(3*a))/(243*sqrt(pi)*a**(7/2))\n",
      "\n",
      "ψ_31-1 (r, θ, φ) = r*(6*a - r)*sqrt(sin(theta)**2)*exp(-I*phi - r/(3*a))/(81*sqrt(pi)*a**(7/2))\n",
      "ψ_310 (r, θ, φ) = sqrt(2)*r*(6*a - r)*exp(-r/(3*a))*cos(theta)/(81*sqrt(pi)*a**(7/2))\n",
      "ψ_311 (r, θ, φ) = r*(-6*a + r)*sqrt(sin(theta)**2)*exp(I*phi - r/(3*a))/(81*sqrt(pi)*a**(7/2))\n",
      "\n",
      "ψ_32-2 (r, θ, φ) = r**2*exp(-2*I*phi - r/(3*a))*sin(theta)**2/(162*sqrt(pi)*a**(7/2))\n",
      "ψ_32-1 (r, θ, φ) = r**2*sqrt(sin(theta)**2)*exp(-I*phi - r/(3*a))*cos(theta)/(81*sqrt(pi)*a**(7/2))\n",
      "ψ_320 (r, θ, φ) = sqrt(6)*r**2*(3*cos(theta)**2 - 1)*exp(-r/(3*a))/(486*sqrt(pi)*a**(7/2))\n",
      "ψ_321 (r, θ, φ) = -r**2*sqrt(sin(theta)**2)*exp(I*phi - r/(3*a))*cos(theta)/(81*sqrt(pi)*a**(7/2))\n",
      "ψ_322 (r, θ, φ) = r**2*exp(2*I*phi - r/(3*a))*sin(theta)**2/(162*sqrt(pi)*a**(7/2))\n",
      "\n"
     ]
    }
   ],
   "source": [
    "import sympy as sym\n",
    "sym.init_printing()\n",
    "\n",
    "z = sym.Symbol('z')\n",
    "r = sym.Symbol('r')\n",
    "theta = sym.Symbol('theta')\n",
    "phi = sym.Symbol('phi')\n",
    "a = sym.Symbol('a')\n",
    "pi = sym.pi\n",
    "\n",
    "\n",
    "\n",
    "# Associated Laguerre polynomials\n",
    "def L(n, k):\n",
    "    f = (sym.exp(-z) * z**(n+k)) \n",
    "    \n",
    "    for i in range(n):\n",
    "        f = sym.diff(f)\n",
    "    \n",
    "    return sym.exp(z) / z**k * f * sym.Rational(sym.factorial(n+k) / sym.factorial(n))\n",
    "\n",
    "\n",
    "# F\n",
    "def F(n, l):\n",
    "    return z**l * sym.exp(-z/2) * L(n-l-1, 2*l+1)\n",
    "\n",
    "    \n",
    "# Associated Legendre polynomials\n",
    "def P(l, m):\n",
    "    f = (z**2 - 1) ** l\n",
    "    \n",
    "    for i in range(l+m):\n",
    "        f = sym.diff(f)\n",
    "    \n",
    "    return (1-z**2)**sym.Rational(m/2) * f / (2**l * sym.factorial(l))\n",
    "\n",
    "\n",
    "# Spherical harmonics\n",
    "def Y(l, m):\n",
    "    return sym.exp(sym.I*m*phi) * P(l, m).subs([(z, sym.cos(theta))]) \\\n",
    "                * (-1)**abs(m) * sym.sqrt((2*l+1)/(4*pi) * (sym.factorial(l-m))/(sym.factorial(l+m)))\n",
    "\n",
    "\n",
    "# Normalization constant\n",
    "def N(n, l):\n",
    "    return  sym.sqrt(sym.factorial(n-l-1)/(sym.factorial(n+l)**3)) * 2 / (n**2)\n",
    "\n",
    "\n",
    "# wave function\n",
    "def psi(n, l, m):\n",
    "    return sym.simplify( N(n, l) * F(n, l).subs([(z,  r/a * 2/n)]) * Y(l, m) * a**sym.Rational(-3/2))\n",
    "\n",
    "\n",
    "# print\n",
    "for n in range(1, 4):\n",
    "    for l in range(n):\n",
    "        for m in range(-l, l+1):\n",
    "            print('ψ_' + str(n) + str(l) + str(m) + ' (r, θ, φ) =' , psi(n, l, m))\n",
    "        print('')"
   ]
  },
  {
   "cell_type": "code",
   "execution_count": null,
   "metadata": {},
   "outputs": [],
   "source": []
  }
 ],
 "metadata": {
  "kernelspec": {
   "display_name": "Python 3",
   "language": "python",
   "name": "python3"
  },
  "language_info": {
   "codemirror_mode": {
    "name": "ipython",
    "version": 3
   },
   "file_extension": ".py",
   "mimetype": "text/x-python",
   "name": "python",
   "nbconvert_exporter": "python",
   "pygments_lexer": "ipython3",
   "version": "3.6.4"
  }
 },
 "nbformat": 4,
 "nbformat_minor": 2
}
