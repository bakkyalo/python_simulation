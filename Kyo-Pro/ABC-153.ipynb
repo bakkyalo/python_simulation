{
 "cells": [
  {
   "cell_type": "code",
   "execution_count": 1,
   "metadata": {},
   "outputs": [
    {
     "name": "stdout",
     "output_type": "stream",
     "text": [
      "5 3\n",
      "2\n"
     ]
    }
   ],
   "source": [
    "# H = int(input())\n",
    "# A = int(input())\n",
    " \n",
    "# if H%A == 0:\n",
    "#     ans = int(H/A)\n",
    "#     print(ans)\n",
    "# else:\n",
    "#     ans = int(H/A) + 1\n",
    "#     print(ans)\n",
    "\n",
    "H, A = map(int, input().split())\n",
    "if H%A == 0:\n",
    "    ans = int(H/A)\n",
    "    print(ans)\n",
    "else:\n",
    "    ans = int(H/A) + 1\n",
    "    print(ans)"
   ]
  },
  {
   "cell_type": "code",
   "execution_count": 5,
   "metadata": {},
   "outputs": [
    {
     "name": "stdout",
     "output_type": "stream",
     "text": [
      "210 5\n",
      "31 41 59 26 53\n",
      "Yes\n"
     ]
    }
   ],
   "source": [
    "H, N = map(int, input().split())\n",
    "\n",
    "# for i in range(N):\n",
    "#     A.append(int(input()))\n",
    "A = [int(s) for s in input().split()]\n",
    "\n",
    "if H<=sum(A): \n",
    "    print('Yes')\n",
    "else:\n",
    "    print('No')"
   ]
  },
  {
   "cell_type": "code",
   "execution_count": 10,
   "metadata": {},
   "outputs": [
    {
     "name": "stdout",
     "output_type": "stream",
     "text": [
      "3 1\n",
      "4 1 5\n",
      "5\n"
     ]
    }
   ],
   "source": [
    "N, K = map(int, input().split())\n",
    "H = [int(i) for i in input().split()]\n",
    "H.sort()\n",
    "\n",
    "wa=0\n",
    "for i in range(N-K):\n",
    "    wa += H[i]\n",
    "print(wa)"
   ]
  },
  {
   "cell_type": "code",
   "execution_count": null,
   "metadata": {},
   "outputs": [],
   "source": [
    "print('Hello')"
   ]
  },
  {
   "cell_type": "code",
   "execution_count": null,
   "metadata": {},
   "outputs": [],
   "source": []
  }
 ],
 "metadata": {
  "kernelspec": {
   "display_name": "Python 3",
   "language": "python",
   "name": "python3"
  },
  "language_info": {
   "codemirror_mode": {
    "name": "ipython",
    "version": 3
   },
   "file_extension": ".py",
   "mimetype": "text/x-python",
   "name": "python",
   "nbconvert_exporter": "python",
   "pygments_lexer": "ipython3",
   "version": "3.7.4"
  }
 },
 "nbformat": 4,
 "nbformat_minor": 2
}
