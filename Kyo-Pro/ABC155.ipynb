{
 "cells": [
  {
   "cell_type": "code",
   "execution_count": 26,
   "metadata": {},
   "outputs": [
    {
     "name": "stdout",
     "output_type": "stream",
     "text": [
      "4\n",
      "ushi\n",
      "tapu\n",
      "nichia\n",
      "kun\n",
      "kun\n",
      "nichia\n",
      "tapu\n",
      "ushi\n"
     ]
    }
   ],
   "source": [
    "# C\n",
    "\n",
    "from collections import Counter\n",
    "\n",
    "n = int(input())\n",
    "a = [input() for s in range(n)]\n",
    "\n",
    "c = Counter(a)\n",
    "list = c.most_common()\n",
    "max = list[0][1]\n",
    "\n",
    "ans = []\n",
    "for i, j in list:\n",
    "    if j == max:\n",
    "        ans.append(i)\n",
    "    else:\n",
    "        break\n",
    "\n",
    "ans.sort()\n",
    "for i in range(len(ans)):\n",
    "    print(ans[i])"
   ]
  },
  {
   "cell_type": "code",
   "execution_count": null,
   "metadata": {},
   "outputs": [],
   "source": []
  },
  {
   "cell_type": "code",
   "execution_count": null,
   "metadata": {},
   "outputs": [],
   "source": []
  }
 ],
 "metadata": {
  "kernelspec": {
   "display_name": "Python 3",
   "language": "python",
   "name": "python3"
  },
  "language_info": {
   "codemirror_mode": {
    "name": "ipython",
    "version": 3
   },
   "file_extension": ".py",
   "mimetype": "text/x-python",
   "name": "python",
   "nbconvert_exporter": "python",
   "pygments_lexer": "ipython3",
   "version": "3.7.4"
  }
 },
 "nbformat": 4,
 "nbformat_minor": 2
}
