{
 "cells": [
  {
   "cell_type": "code",
   "execution_count": 1,
   "metadata": {},
   "outputs": [
    {
     "name": "stderr",
     "output_type": "stream",
     "text": [
      "C:\\Users\\USER\\Anaconda3\\lib\\site-packages\\ipykernel_launcher.py:20: DeprecationWarning: `comb` is deprecated!\n",
      "Importing `comb` from scipy.misc is deprecated in scipy 1.0.0. Use `scipy.special.comb` instead.\n"
     ]
    },
    {
     "data": {
      "text/plain": [
       "([<matplotlib.axis.XTick at 0x9923780>,\n",
       "  <matplotlib.axis.XTick at 0x995af98>,\n",
       "  <matplotlib.axis.XTick at 0x9943208>,\n",
       "  <matplotlib.axis.XTick at 0x9b7d518>,\n",
       "  <matplotlib.axis.XTick at 0x9b7db70>,\n",
       "  <matplotlib.axis.XTick at 0x9b87240>,\n",
       "  <matplotlib.axis.XTick at 0x9b878d0>,\n",
       "  <matplotlib.axis.XTick at 0x9b87f60>,\n",
       "  <matplotlib.axis.XTick at 0x9b8a630>,\n",
       "  <matplotlib.axis.XTick at 0x9b8acc0>,\n",
       "  <matplotlib.axis.XTick at 0xab62390>],\n",
       " <a list of 11 Text xticklabel objects>)"
      ]
     },
     "execution_count": 1,
     "metadata": {},
     "output_type": "execute_result"
    },
    {
     "data": {
      "image/png": "[encoded data removed]",
      "text/plain": [
       "<matplotlib.figure.Figure at 0x5926a90>"
      ]
     },
     "metadata": {},
     "output_type": "display_data"
    }
   ],
   "source": [
    "# Jupyterでグラフをインライン表示するのに必要\n",
    "%matplotlib inline \n",
    " \n",
    "from scipy.misc import comb     # comb()は組み合わせを計算する関数\n",
    "import pandas as pd             # Series用。\n",
    "import matplotlib.pyplot as plt # グラフのプロット用\n",
    "import numpy as np              # arange()用\n",
    "import pylab                    # グラフサイズ変更するのに必要\n",
    " \n",
    "n=100 # 試行回数\n",
    "p=0.9 # ある事象が起こる確率\n",
    " \n",
    "# ------------------------------------------------------------\n",
    "# n回までベルヌーイ試行を繰り返してその確率を計算して、Seriesを作成する。\n",
    "# ------------------------------------------------------------\n",
    "# ポイント : 正しく計算するために変数nはfloatにキャストして使う。\n",
    "# **は累乗\n",
    "# 試行の計算は内包表記。書式⇒処理 for 変数 in リスト\n",
    "xList=pd.Series(\n",
    "    [comb(float(n), x)*p**x*(1-p)**(float(n)-x) for x in range(0, n+1)])\n",
    " \n",
    "# ------------------------------\n",
    "# 計算結果をグラフとしてプロットする。\n",
    "# ------------------------------\n",
    "pylab.figure(figsize=(10,4))    # グラフのサイズを変更。\n",
    "plt.bar(xList.index,xList)      # 棒グラフをプロット。引数にはX軸の値とY軸の値を指定。\n",
    "plt.xlim(0,100)                 # X軸の値の範囲を設定。\n",
    "plt.xticks(np.arange(0,n+1,10)) # X軸の目盛りを1から100まで10刻みに指定。"
   ]
  },
  {
   "cell_type": "code",
   "execution_count": null,
   "metadata": {},
   "outputs": [],
   "source": []
  }
 ],
 "metadata": {
  "kernelspec": {
   "display_name": "Python 3",
   "language": "python",
   "name": "python3"
  },
  "language_info": {
   "codemirror_mode": {
    "name": "ipython",
    "version": 3
   },
   "file_extension": ".py",
   "mimetype": "text/x-python",
   "name": "python",
   "nbconvert_exporter": "python",
   "pygments_lexer": "ipython3",
   "version": "3.6.4"
  }
 },
 "nbformat": 4,
 "nbformat_minor": 2
}
