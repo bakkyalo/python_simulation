{
 "cells": [
  {
   "cell_type": "code",
   "execution_count": 1,
   "metadata": {},
   "outputs": [
    {
     "name": "stdout",
     "output_type": "stream",
     "text": [
      "Hello, IDLE\n"
     ]
    }
   ],
   "source": [
    "print('Hello, IDLE')"
   ]
  },
  {
   "cell_type": "code",
   "execution_count": 7,
   "metadata": {},
   "outputs": [
    {
     "name": "stdout",
     "output_type": "stream",
     "text": [
      "8.5\n",
      "8\n",
      "1\n"
     ]
    }
   ],
   "source": [
    "print(17/2)   # 除算\n",
    "print(17//2) # 整除算\n",
    "print(17%2)  #剰余"
   ]
  },
  {
   "cell_type": "code",
   "execution_count": 12,
   "metadata": {},
   "outputs": [
    {
     "name": "stdout",
     "output_type": "stream",
     "text": [
      "<class 'float'>\n"
     ]
    },
    {
     "data": {
      "text/plain": [
       "3"
      ]
     },
     "execution_count": 12,
     "metadata": {},
     "output_type": "execute_result"
    }
   ],
   "source": [
    "print(type(3.5))\n",
    "int(3.5)"
   ]
  },
  {
   "cell_type": "code",
   "execution_count": 15,
   "metadata": {},
   "outputs": [
    {
     "data": {
      "text/plain": [
       "3.25"
      ]
     },
     "execution_count": 15,
     "metadata": {},
     "output_type": "execute_result"
    }
   ],
   "source": [
    "from fractions import Fraction\n",
    "f = Fraction(3, 4)\n",
    "f + 1 + 1.5"
   ]
  },
  {
   "cell_type": "code",
   "execution_count": 18,
   "metadata": {},
   "outputs": [
    {
     "name": "stdout",
     "output_type": "stream",
     "text": [
      "<class 'complex'>\n"
     ]
    }
   ],
   "source": [
    "# 複素数\n",
    "a = 2 + 3j\n",
    "print(type (a))"
   ]
  },
  {
   "cell_type": "code",
   "execution_count": 20,
   "metadata": {},
   "outputs": [
    {
     "name": "stdout",
     "output_type": "stream",
     "text": [
      "2.0\n",
      "3.0\n",
      "<built-in method conjugate of complex object at 0x0000000005B50710>\n",
      "(2-3j)\n"
     ]
    }
   ],
   "source": [
    "print(a.real)              # 実部\n",
    "print(a.imag)            # 虚部\n",
    "print(a.conjugate)   # 共役\n",
    "print(a.conjugate()  # 共役"
   ]
  },
  {
   "cell_type": "code",
   "execution_count": 24,
   "metadata": {},
   "outputs": [
    {
     "name": "stdout",
     "output_type": "stream",
     "text": [
      "東京工業大学\n"
     ]
    }
   ],
   "source": [
    "# input 関数は入力を文字列として返す\n",
    "a = input()"
   ]
  },
  {
   "cell_type": "code",
   "execution_count": 25,
   "metadata": {},
   "outputs": [
    {
     "ename": "ValueError",
     "evalue": "invalid literal for int() with base 10: '2.0'",
     "output_type": "error",
     "traceback": [
      "\u001b[1;31m---------------------------------------------------------------------------\u001b[0m",
      "\u001b[1;31mValueError\u001b[0m                                Traceback (most recent call last)",
      "\u001b[1;32m<ipython-input-25-89a500b9f236>\u001b[0m in \u001b[0;36m<module>\u001b[1;34m()\u001b[0m\n\u001b[0;32m      1\u001b[0m \u001b[1;31m# エラーが発生する\u001b[0m\u001b[1;33m\u001b[0m\u001b[1;33m\u001b[0m\u001b[0m\n\u001b[1;32m----> 2\u001b[1;33m \u001b[0mint\u001b[0m\u001b[1;33m(\u001b[0m\u001b[1;34m'2.0'\u001b[0m\u001b[1;33m)\u001b[0m\u001b[1;33m\u001b[0m\u001b[0m\n\u001b[0m",
      "\u001b[1;31mValueError\u001b[0m: invalid literal for int() with base 10: '2.0'"
     ]
    }
   ],
   "source": [
    "# エラーが発生する\n",
    "int('2.0')"
   ]
  },
  {
   "cell_type": "code",
   "execution_count": 28,
   "metadata": {},
   "outputs": [
    {
     "data": {
      "text/plain": [
       "2.0"
      ]
     },
     "execution_count": 28,
     "metadata": {},
     "output_type": "execute_result"
    }
   ],
   "source": [
    "# こっちはOK\n",
    "float('2.0')"
   ]
  },
  {
   "cell_type": "code",
   "execution_count": 38,
   "metadata": {},
   "outputs": [
    {
     "name": "stdout",
     "output_type": "stream",
     "text": [
      "Enter a numbar: 3/4\n",
      "You entered an invalid numbar\n"
     ]
    }
   ],
   "source": [
    "try:\n",
    "    a = float(input('Enter a numbar: '))\n",
    "except ValueError:\n",
    "    print('You entered an invalid numbar')"
   ]
  },
  {
   "cell_type": "code",
   "execution_count": 47,
   "metadata": {},
   "outputs": [
    {
     "name": "stdout",
     "output_type": "stream",
     "text": [
      "Input an integer: 5\n"
     ]
    }
   ],
   "source": [
    "# 浮動小数点数とかだとうまくいきませんね\n",
    "a = int(input('Input an integer: '))"
   ]
  },
  {
   "cell_type": "code",
   "execution_count": 50,
   "metadata": {},
   "outputs": [
    {
     "data": {
      "text/plain": [
       "False"
      ]
     },
     "execution_count": 50,
     "metadata": {},
     "output_type": "execute_result"
    }
   ],
   "source": [
    "# 整数かどうかの確認\n",
    "1.1.is_integer()"
   ]
  },
  {
   "cell_type": "code",
   "execution_count": 51,
   "metadata": {},
   "outputs": [
    {
     "data": {
      "text/plain": [
       "True"
      ]
     },
     "execution_count": 51,
     "metadata": {},
     "output_type": "execute_result"
    }
   ],
   "source": [
    "# 整数かどうかの確認\n",
    "1.0.is_integer()"
   ]
  },
  {
   "cell_type": "code",
   "execution_count": 58,
   "metadata": {},
   "outputs": [
    {
     "name": "stdout",
     "output_type": "stream",
     "text": [
      "Enter a fraction: 4/6\n",
      "2/3\n"
     ]
    },
    {
     "data": {
      "text/plain": [
       "Fraction(2, 3)"
      ]
     },
     "execution_count": 58,
     "metadata": {},
     "output_type": "execute_result"
    }
   ],
   "source": [
    "# 分数の入力\n",
    "try:\n",
    "    a = Fraction(input('Enter a fraction: '))\n",
    "except ZeroDivisionError:\n",
    "    print('Invalid fraction')\n",
    "\n",
    "print(a)\n",
    "a"
   ]
  },
  {
   "cell_type": "code",
   "execution_count": 62,
   "metadata": {},
   "outputs": [
    {
     "name": "stdout",
     "output_type": "stream",
     "text": [
      "Enter a complex number: 2+3J\n"
     ]
    },
    {
     "data": {
      "text/plain": [
       "(2+3j)"
      ]
     },
     "execution_count": 62,
     "metadata": {},
     "output_type": "execute_result"
    }
   ],
   "source": [
    "# 複素数の入力\n",
    "z = complex(input('Enter a complex number: '))\n",
    "z"
   ]
  },
  {
   "cell_type": "code",
   "execution_count": 66,
   "metadata": {},
   "outputs": [
    {
     "data": {
      "text/plain": [
       "True"
      ]
     },
     "execution_count": 66,
     "metadata": {},
     "output_type": "execute_result"
    }
   ],
   "source": [
    "# 整数の因数を計算する\n",
    "# aはbの因数か？\n",
    "def is_factor(a, b):\n",
    "    if b % a == 0:\n",
    "        return True\n",
    "    else:\n",
    "        return False\n",
    "    \n",
    "is_factor(4, 1024)"
   ]
  },
  {
   "cell_type": "code",
   "execution_count": 75,
   "metadata": {},
   "outputs": [
    {
     "name": "stdout",
     "output_type": "stream",
     "text": [
      "Your Number Please: 12\n",
      "1\n",
      "2\n",
      "3\n",
      "4\n",
      "6\n",
      "12\n"
     ]
    }
   ],
   "source": [
    "'''\n",
    "正の整数をの因数を見つけます\n",
    "Findthe factors of an integer\n",
    "'''\n",
    "\n",
    "def factors(b):\n",
    "    for i in range(1, b+1):\n",
    "        if b % i == 0:\n",
    "            print(i)\n",
    "        \n",
    "if __name__ == '__main__':\n",
    "    b = input('Your Number Please: ')\n",
    "    b = float(b)\n",
    "    \n",
    "    if b > 0 and b.is_integer():\n",
    "        factors(int(b))\n",
    "    else:\n",
    "        print('Please enter a positive integer')"
   ]
  },
  {
   "cell_type": "code",
   "execution_count": 76,
   "metadata": {},
   "outputs": [
    {
     "name": "stdout",
     "output_type": "stream",
     "text": [
      "At the grocery store, I bought some apples and bananas and grapes\n"
     ]
    }
   ],
   "source": [
    "# format()メソッド\n",
    "item1 = 'apples'\n",
    "item2 = 'bananas'\n",
    "item3 = 'grapes'\n",
    "\n",
    "print('At the grocery store, I bought some {0} and {1} and {2}' .format(item1, item2, item3))"
   ]
  },
  {
   "cell_type": "code",
   "execution_count": 77,
   "metadata": {},
   "outputs": [
    {
     "name": "stdout",
     "output_type": "stream",
     "text": [
      "Enter a number: 4\n",
      "4.0 x 1 = 4.0\n",
      "4.0 x 2 = 8.0\n",
      "4.0 x 3 = 12.0\n",
      "4.0 x 4 = 16.0\n",
      "4.0 x 5 = 20.0\n",
      "4.0 x 6 = 24.0\n",
      "4.0 x 7 = 28.0\n",
      "4.0 x 8 = 32.0\n",
      "4.0 x 9 = 36.0\n",
      "4.0 x 10 = 40.0\n"
     ]
    }
   ],
   "source": [
    "'''\n",
    "Multiplication table printer\n",
    "乗算表生成器\n",
    "'''\n",
    "\n",
    "def multi_table(a):\n",
    "    for i in range(1, 11):\n",
    "        print('{0} x {1} = {2}'.format(a, i, a*i))\n",
    "\n",
    "if __name__ == '__main__':\n",
    "    a = input('Enter a number: ')\n",
    "    multi_table(float(a))"
   ]
  },
  {
   "cell_type": "code",
   "execution_count": 78,
   "metadata": {},
   "outputs": [
    {
     "name": "stdout",
     "output_type": "stream",
     "text": [
      "3.14\n"
     ]
    }
   ],
   "source": [
    "# C言語で言う書式指定子\n",
    "print('{0:.2f}'.format(3.141592))"
   ]
  },
  {
   "cell_type": "code",
   "execution_count": 81,
   "metadata": {},
   "outputs": [
    {
     "name": "stdout",
     "output_type": "stream",
     "text": [
      "1. Kilometers to Miles\n",
      "2. Miles to Kilometers\n",
      "Which conversion would you like to do?: 1\n",
      "Enter distance in kilometers: 123\n",
      "Distance in miles: 76.44499689247981\n"
     ]
    }
   ],
   "source": [
    "'''\n",
    "Unit converter: Miles and Kilometers\n",
    "単位変換プログラム: マイルとキロメートル\n",
    "'''\n",
    "\n",
    "def print_menu():\n",
    "    print('1. Kilometers to Miles')\n",
    "    print('2. Miles to Kilometers')\n",
    "    \n",
    "def km_miles():\n",
    "    km = float(input('Enter distance in kilometers: '))\n",
    "    miles = km / 1.609\n",
    "    print('Distance in miles: {0}'.format(miles))\n",
    "    \n",
    "def miles_km():\n",
    "    miles = float(input('Enter distance in miles: '))\n",
    "    km = miles * 1.609\n",
    "    print('Distance in kilometers: {0}'.format(km))\n",
    "    \n",
    "if __name__ == '__main__':\n",
    "    print_menu()\n",
    "    choice = input('Which conversion would you like to do?: ')\n",
    "    if choice == '1':\n",
    "        km_miles()\n",
    "    if choice == '2':\n",
    "        miles_km()\n"
   ]
  },
  {
   "cell_type": "code",
   "execution_count": 1,
   "metadata": {},
   "outputs": [],
   "source": [
    "# 二次方程式\n",
    "a = 1\n",
    "b = 2\n",
    "c = 1\n",
    "\n",
    "D = (b**2 - 4*a*c) ** 0.5"
   ]
  },
  {
   "cell_type": "code",
   "execution_count": 8,
   "metadata": {},
   "outputs": [
    {
     "name": "stdout",
     "output_type": "stream",
     "text": [
      "Enter a: 1\n",
      "Enter b: 2\n",
      "Enter c: 1\n",
      "x1: -1.0\n",
      "x2: -1.0\n"
     ]
    }
   ],
   "source": [
    "'''\n",
    "Quadratic Equation root calculator\n",
    "# 2次方程式求解電卓\n",
    "'''\n",
    "\n",
    "def roots(a, b, c):\n",
    "    D = (b*b - 4*a*c)**0.5\n",
    "    x_1 = (-b + D) / (2*a)\n",
    "    x_2 = (-b - D) / (2*a)\n",
    "    print('x1: {0}'.format(x_1))\n",
    "    print('x2: {0}'.format(x_2))\n",
    "\n",
    "if __name__ == '__main__':\n",
    "    a = input('Enter a: ')\n",
    "    b = input('Enter b: ')\n",
    "    c = input('Enter c: ')\n",
    "    roots(float(a), float(b), float(c))"
   ]
  },
  {
   "cell_type": "code",
   "execution_count": 19,
   "metadata": {},
   "outputs": [
    {
     "name": "stdout",
     "output_type": "stream",
     "text": [
      "Enter an integer: 2.3\n",
      "4.3\n",
      "6.3\n",
      "8.3\n",
      "10.3\n",
      "12.3\n",
      "14.3\n",
      "16.3\n",
      "18.3\n",
      "20.3\n"
     ]
    }
   ],
   "source": [
    "'''\n",
    "奇数偶数自動判別プログラム\n",
    "'''\n",
    "\n",
    "\n",
    "try:\n",
    "    a = float((input('Enter an integer: ')))\n",
    "except ValueError:\n",
    "    print('Enter an INTEGER!!!')\n",
    "except (a.is_integer() == 0):\n",
    "    print('Enter an INTEGER!!!') \n",
    "\n",
    "    \n",
    "if (a % 2 == 0):\n",
    "    print('{0} is even number.'.format(a))\n",
    "if (a % 2 == 1):\n",
    "    print('{0} is odd number.'.format(a))\n",
    "\n",
    "for i in range(1, 10):\n",
    "    print('{0}'.format(a + 2*i))"
   ]
  },
  {
   "cell_type": "code",
   "execution_count": 23,
   "metadata": {},
   "outputs": [
    {
     "name": "stdout",
     "output_type": "stream",
     "text": [
      "何の倍数が欲しいですか: 9\n",
      "最初の何個欲しいですか: 15\n",
      "9.0 x 1 = 9.0\n",
      "9.0 x 2 = 18.0\n",
      "9.0 x 3 = 27.0\n",
      "9.0 x 4 = 36.0\n",
      "9.0 x 5 = 45.0\n",
      "9.0 x 6 = 54.0\n",
      "9.0 x 7 = 63.0\n",
      "9.0 x 8 = 72.0\n",
      "9.0 x 9 = 81.0\n",
      "9.0 x 10 = 90.0\n",
      "9.0 x 11 = 99.0\n",
      "9.0 x 12 = 108.0\n",
      "9.0 x 13 = 117.0\n",
      "9.0 x 14 = 126.0\n",
      "9.0 x 15 = 135.0\n"
     ]
    }
   ],
   "source": [
    "'''\n",
    "乗算表生成器の拡張\n",
    "'''\n",
    "\n",
    "def extensed_multi_table(m, n):\n",
    "    for i in range(1, n+1):\n",
    "        print('{0} x {1} = {2}'.format(m, i, m*i))\n",
    "        \n",
    "if __name__ == '__main__':\n",
    "    m = float(input('何の倍数が欲しいですか: '))\n",
    "    n = int(input('最初の何個欲しいですか: '))\n",
    "    extensed_multi_table(m, n)\n",
    "    "
   ]
  },
  {
   "cell_type": "code",
   "execution_count": 27,
   "metadata": {},
   "outputs": [
    {
     "name": "stdout",
     "output_type": "stream",
     "text": [
      "1. Kilometers to Miles\n",
      "2. Miles to Kilometers\n",
      "3. Celsius to Fahrenheit\n",
      "4. Fahrenheit to Celsius\n",
      "Which conversion would you like to do?: 3\n",
      "Enter temperature in celsius: 123\n",
      "Temperature in celsius: 253.40\n"
     ]
    }
   ],
   "source": [
    "'''\n",
    "Unit converter: Miles and Kilometers\n",
    "単位変換プログラム: マイルとキロメートル\n",
    "拡張版: セ氏と華氏\n",
    "'''\n",
    "\n",
    "def print_menu():\n",
    "    print('1. Kilometers to Miles')\n",
    "    print('2. Miles to Kilometers')\n",
    "    print('3. Celsius to Fahrenheit')\n",
    "    print('4. Fahrenheit to Celsius')\n",
    "    \n",
    "def km_miles():\n",
    "    km = float(input('Enter distance in kilometers: '))\n",
    "    miles = km / 1.609\n",
    "    print('Distance in miles: {0}'.format(miles))\n",
    "    \n",
    "def miles_km():\n",
    "    miles = float(input('Enter distance in miles: '))\n",
    "    km = miles * 1.609\n",
    "    print('Distance in kilometers: {0}'.format(km))\n",
    "    \n",
    "def C_F():\n",
    "    celsius = float(input('Enter temperature in celsius: '))\n",
    "    fahrenheit = celsius * (9/ 5) + 32\n",
    "    print('Temperature in celsius: {0:.2f}'.format(fahrenheit))\n",
    "\n",
    "def F_C():\n",
    "    fahrenheit = float(input('Enter temperature in fahrenheit: '))\n",
    "    celsius = (fahrenheit - 32) * (5 / 9)\n",
    "    print('Temperature in celsius: {0:.2f}'.format(celsius))\n",
    "    \n",
    "    \n",
    "if __name__ == '__main__':\n",
    "    print_menu()\n",
    "    choice = input('Which conversion would you like to do?: ')\n",
    "    if choice == '1':\n",
    "        km_miles()\n",
    "    if choice == '2':\n",
    "        miles_km()\n",
    "    if choice == '3':\n",
    "        C_F()\n",
    "    if choice == '4':\n",
    "        F_C()\n",
    "        \n",
    "        "
   ]
  },
  {
   "cell_type": "code",
   "execution_count": 10,
   "metadata": {},
   "outputs": [
    {
     "name": "stdout",
     "output_type": "stream",
     "text": [
      "Enter first fraction: 1/4\n",
      "Enter second fraction: 3/4\n",
      "Operation to perform - Add, Subtract, Divide, Multiply: Subtract\n",
      "Result of Addition: -1/2\n"
     ]
    }
   ],
   "source": [
    "'''\n",
    "分数電卓\n",
    "'''\n",
    "\n",
    "from fractions import Fraction\n",
    "\n",
    "def add(a, b):\n",
    "    print('Result of Addition: {0}'.format(a+b))\n",
    "\n",
    "def sub(a, b):\n",
    "    print('Result of Subtraction: {0}'.format(a-b))\n",
    "\n",
    "def div(a, b):\n",
    "    print('Result of Division: {0}'.format(a/b))\n",
    "    \n",
    "def mul(a, b):\n",
    "    print('Result of Multiplication: {0}'.format(a*b))\n",
    "    \n",
    "if __name__ == '__main__':\n",
    "    try:\n",
    "        a = Fraction(input('Enter first fraction: '))\n",
    "        b = Fraction(input('Enter second fraction: '))\n",
    "        op = input('Operation to perform - Add, Subtract, Divide, Multiply: ')\n",
    "        if op == 'Add':\n",
    "            add(a, b)\n",
    "        if op == 'Subtract':\n",
    "            sub(a, b)\n",
    "        if op == 'Divide':\n",
    "            div(a, b)\n",
    "        if op == 'Multiply':\n",
    "            mul(a,b)\n",
    "    except ValueError:\n",
    "        print('You entered an invalid numbar')"
   ]
  },
  {
   "cell_type": "code",
   "execution_count": 11,
   "metadata": {},
   "outputs": [
    {
     "name": "stdout",
     "output_type": "stream",
     "text": [
      "I am in an endless loop\n",
      "Do you want to exit? (y) for yes: n\n",
      "I am in an endless loop\n",
      "Do you want to exit? (y) for yes: m\n",
      "I am in an endless loop\n",
      "Do you want to exit? (y) for yes: m\n",
      "I am in an endless loop\n",
      "Do you want to exit? (y) for yes: m\n",
      "I am in an endless loop\n",
      "Do you want to exit? (y) for yes: m\n",
      "I am in an endless loop\n",
      "Do you want to exit? (y) for yes: m\n",
      "I am in an endless loop\n",
      "Do you want to exit? (y) for yes: as\n",
      "I am in an endless loop\n",
      "Do you want to exit? (y) for yes: f asfasf\n",
      "I am in an endless loop\n",
      "Do you want to exit? (y) for yes: sdf asdfsd\n",
      "I am in an endless loop\n",
      "Do you want to exit? (y) for yes: fsdfs\n",
      "I am in an endless loop\n",
      "Do you want to exit? (y) for yes:  \n",
      "I am in an endless loop\n",
      "Do you want to exit? (y) for yes:  \n",
      "I am in an endless loop\n",
      "Do you want to exit? (y) for yes:  \n",
      "I am in an endless loop\n",
      "Do you want to exit? (y) for yes: \n",
      "I am in an endless loop\n",
      "Do you want to exit? (y) for yes: \n",
      "I am in an endless loop\n",
      "Do you want to exit? (y) for yes: \n",
      "I am in an endless loop\n",
      "Do you want to exit? (y) for yes: \n",
      "I am in an endless loop\n",
      "Do you want to exit? (y) for yes: \n",
      "I am in an endless loop\n",
      "Do you want to exit? (y) for yes: \n",
      "I am in an endless loop\n",
      "Do you want to exit? (y) for yes: \n",
      "I am in an endless loop\n",
      "Do you want to exit? (y) for yes: \n",
      "I am in an endless loop\n",
      "Do you want to exit? (y) for yes: \n",
      "I am in an endless loop\n",
      "Do you want to exit? (y) for yes: y\n"
     ]
    }
   ],
   "source": [
    "'''\n",
    "Run until exit layout\n",
    "'''\n",
    "\n",
    "def fun():\n",
    "    print('I am in an endless loop')\n",
    "    \n",
    "if __name__ == '__main__':\n",
    "    while True:\n",
    "        fun()\n",
    "        answer = input('Do you want to exit? (y) for yes: ')\n",
    "        if answer == 'y':\n",
    "            break\n",
    "            "
   ]
  },
  {
   "cell_type": "code",
   "execution_count": null,
   "metadata": {},
   "outputs": [],
   "source": []
  }
 ],
 "metadata": {
  "kernelspec": {
   "display_name": "Python 3",
   "language": "python",
   "name": "python3"
  },
  "language_info": {
   "codemirror_mode": {
    "name": "ipython",
    "version": 3
   },
   "file_extension": ".py",
   "mimetype": "text/x-python",
   "name": "python",
   "nbconvert_exporter": "python",
   "pygments_lexer": "ipython3",
   "version": "3.6.4"
  }
 },
 "nbformat": 4,
 "nbformat_minor": 2
}
