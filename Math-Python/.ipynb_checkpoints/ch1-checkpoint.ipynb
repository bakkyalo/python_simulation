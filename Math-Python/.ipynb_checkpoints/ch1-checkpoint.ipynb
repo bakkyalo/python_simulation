{
 "cells": [
  {
   "cell_type": "code",
   "execution_count": 1,
   "metadata": {},
   "outputs": [
    {
     "name": "stdout",
     "output_type": "stream",
     "text": [
      "Hello, IDLE\n"
     ]
    }
   ],
   "source": [
    "print('Hello, IDLE')"
   ]
  },
  {
   "cell_type": "code",
   "execution_count": 7,
   "metadata": {},
   "outputs": [
    {
     "name": "stdout",
     "output_type": "stream",
     "text": [
      "8.5\n",
      "8\n",
      "1\n"
     ]
    }
   ],
   "source": [
    "print(17/2)   # 除算\n",
    "print(17//2) # 整除算\n",
    "print(17%2)  #剰余"
   ]
  },
  {
   "cell_type": "code",
   "execution_count": 12,
   "metadata": {},
   "outputs": [
    {
     "name": "stdout",
     "output_type": "stream",
     "text": [
      "<class 'float'>\n"
     ]
    },
    {
     "data": {
      "text/plain": [
       "3"
      ]
     },
     "execution_count": 12,
     "metadata": {},
     "output_type": "execute_result"
    }
   ],
   "source": [
    "print(type(3.5))\n",
    "int(3.5)"
   ]
  },
  {
   "cell_type": "code",
   "execution_count": 15,
   "metadata": {},
   "outputs": [
    {
     "data": {
      "text/plain": [
       "3.25"
      ]
     },
     "execution_count": 15,
     "metadata": {},
     "output_type": "execute_result"
    }
   ],
   "source": [
    "from fractions import Fraction\n",
    "f = Fraction(3, 4)\n",
    "f + 1 + 1.5"
   ]
  },
  {
   "cell_type": "code",
   "execution_count": 18,
   "metadata": {},
   "outputs": [
    {
     "name": "stdout",
     "output_type": "stream",
     "text": [
      "<class 'complex'>\n"
     ]
    }
   ],
   "source": [
    "# 複素数\n",
    "a = 2 + 3j\n",
    "print(type (a))"
   ]
  },
  {
   "cell_type": "code",
   "execution_count": 20,
   "metadata": {},
   "outputs": [
    {
     "name": "stdout",
     "output_type": "stream",
     "text": [
      "2.0\n",
      "3.0\n",
      "<built-in method conjugate of complex object at 0x0000000005B50710>\n",
      "(2-3j)\n"
     ]
    }
   ],
   "source": [
    "print(a.real)              # 実部\n",
    "print(a.imag)            # 虚部\n",
    "print(a.conjugate)   # 共役\n",
    "print(a.conjugate()  # 共役"
   ]
  },
  {
   "cell_type": "code",
   "execution_count": 24,
   "metadata": {},
   "outputs": [
    {
     "name": "stdout",
     "output_type": "stream",
     "text": [
      "東京工業大学\n"
     ]
    }
   ],
   "source": [
    "# input 関数は入力を文字列として返す\n",
    "a = input()"
   ]
  },
  {
   "cell_type": "code",
   "execution_count": 25,
   "metadata": {},
   "outputs": [
    {
     "ename": "ValueError",
     "evalue": "invalid literal for int() with base 10: '2.0'",
     "output_type": "error",
     "traceback": [
      "\u001b[1;31m---------------------------------------------------------------------------\u001b[0m",
      "\u001b[1;31mValueError\u001b[0m                                Traceback (most recent call last)",
      "\u001b[1;32m<ipython-input-25-89a500b9f236>\u001b[0m in \u001b[0;36m<module>\u001b[1;34m()\u001b[0m\n\u001b[0;32m      1\u001b[0m \u001b[1;31m# エラーが発生する\u001b[0m\u001b[1;33m\u001b[0m\u001b[1;33m\u001b[0m\u001b[0m\n\u001b[1;32m----> 2\u001b[1;33m \u001b[0mint\u001b[0m\u001b[1;33m(\u001b[0m\u001b[1;34m'2.0'\u001b[0m\u001b[1;33m)\u001b[0m\u001b[1;33m\u001b[0m\u001b[0m\n\u001b[0m",
      "\u001b[1;31mValueError\u001b[0m: invalid literal for int() with base 10: '2.0'"
     ]
    }
   ],
   "source": [
    "# エラーが発生する\n",
    "int('2.0')"
   ]
  },
  {
   "cell_type": "code",
   "execution_count": 28,
   "metadata": {},
   "outputs": [
    {
     "data": {
      "text/plain": [
       "2.0"
      ]
     },
     "execution_count": 28,
     "metadata": {},
     "output_type": "execute_result"
    }
   ],
   "source": [
    "# こっちはOK\n",
    "float('2.0')"
   ]
  },
  {
   "cell_type": "code",
   "execution_count": 38,
   "metadata": {},
   "outputs": [
    {
     "name": "stdout",
     "output_type": "stream",
     "text": [
      "Enter a numbar: 3/4\n",
      "You entered an invalid numbar\n"
     ]
    }
   ],
   "source": [
    "try:\n",
    "    a = float(input('Enter a numbar: '))\n",
    "except ValueError:\n",
    "    print('You entered an invalid numbar')"
   ]
  },
  {
   "cell_type": "code",
   "execution_count": 47,
   "metadata": {},
   "outputs": [
    {
     "name": "stdout",
     "output_type": "stream",
     "text": [
      "Input an integer: 5\n"
     ]
    }
   ],
   "source": [
    "# 浮動小数点数とかだとうまくいきませんね\n",
    "a = int(input('Input an integer: '))"
   ]
  },
  {
   "cell_type": "code",
   "execution_count": 50,
   "metadata": {},
   "outputs": [
    {
     "data": {
      "text/plain": [
       "False"
      ]
     },
     "execution_count": 50,
     "metadata": {},
     "output_type": "execute_result"
    }
   ],
   "source": [
    "# 整数かどうかの確認\n",
    "1.1.is_integer()"
   ]
  },
  {
   "cell_type": "code",
   "execution_count": 51,
   "metadata": {},
   "outputs": [
    {
     "data": {
      "text/plain": [
       "True"
      ]
     },
     "execution_count": 51,
     "metadata": {},
     "output_type": "execute_result"
    }
   ],
   "source": [
    "# 整数かどうかの確認\n",
    "1.0.is_integer()"
   ]
  },
  {
   "cell_type": "code",
   "execution_count": 58,
   "metadata": {},
   "outputs": [
    {
     "name": "stdout",
     "output_type": "stream",
     "text": [
      "Enter a fraction: 4/6\n",
      "2/3\n"
     ]
    },
    {
     "data": {
      "text/plain": [
       "Fraction(2, 3)"
      ]
     },
     "execution_count": 58,
     "metadata": {},
     "output_type": "execute_result"
    }
   ],
   "source": [
    "# 分数の入力\n",
    "try:\n",
    "    a = Fraction(input('Enter a fraction: '))\n",
    "except ZeroDivisionError:\n",
    "    print('Invalid fraction')\n",
    "\n",
    "print(a)\n",
    "a"
   ]
  },
  {
   "cell_type": "code",
   "execution_count": 62,
   "metadata": {},
   "outputs": [
    {
     "name": "stdout",
     "output_type": "stream",
     "text": [
      "Enter a complex number: 2+3J\n"
     ]
    },
    {
     "data": {
      "text/plain": [
       "(2+3j)"
      ]
     },
     "execution_count": 62,
     "metadata": {},
     "output_type": "execute_result"
    }
   ],
   "source": [
    "# 複素数の入力\n",
    "z = complex(input('Enter a complex number: '))\n",
    "z"
   ]
  },
  {
   "cell_type": "code",
   "execution_count": 66,
   "metadata": {},
   "outputs": [
    {
     "data": {
      "text/plain": [
       "True"
      ]
     },
     "execution_count": 66,
     "metadata": {},
     "output_type": "execute_result"
    }
   ],
   "source": [
    "# 整数の因数を計算する\n",
    "# aはbの因数か？\n",
    "def is_factor(a, b):\n",
    "    if b % a == 0:\n",
    "        return True\n",
    "    else:\n",
    "        return False\n",
    "    \n",
    "is_factor(4, 1024)"
   ]
  },
  {
   "cell_type": "code",
   "execution_count": 75,
   "metadata": {},
   "outputs": [
    {
     "name": "stdout",
     "output_type": "stream",
     "text": [
      "Your Number Please: 12\n",
      "1\n",
      "2\n",
      "3\n",
      "4\n",
      "6\n",
      "12\n"
     ]
    }
   ],
   "source": [
    "'''\n",
    "正の整数をの因数を見つけます\n",
    "Findthe factors of an integer\n",
    "'''\n",
    "\n",
    "def factors(b):\n",
    "    for i in range(1, b+1):\n",
    "        if b % i == 0:\n",
    "            print(i)\n",
    "        \n",
    "if __name__ == '__main__':\n",
    "    b = input('Your Number Please: ')\n",
    "    b = float(b)\n",
    "    \n",
    "    if b > 0 and b.is_integer():\n",
    "        factors(int(b))\n",
    "    else:\n",
    "        print('Please enter a positive integer')"
   ]
  },
  {
   "cell_type": "code",
   "execution_count": 76,
   "metadata": {},
   "outputs": [
    {
     "name": "stdout",
     "output_type": "stream",
     "text": [
      "At the grocery store, I bought some apples and bananas and grapes\n"
     ]
    }
   ],
   "source": [
    "# format()メソッド\n",
    "item1 = 'apples'\n",
    "item2 = 'bananas'\n",
    "item3 = 'grapes'\n",
    "\n",
    "print('At the grocery store, I bought some {0} and {1} and {2}' .format(item1, item2, item3))"
   ]
  },
  {
   "cell_type": "code",
   "execution_count": 77,
   "metadata": {},
   "outputs": [
    {
     "name": "stdout",
     "output_type": "stream",
     "text": [
      "Enter a number: 4\n",
      "4.0 x 1 = 4.0\n",
      "4.0 x 2 = 8.0\n",
      "4.0 x 3 = 12.0\n",
      "4.0 x 4 = 16.0\n",
      "4.0 x 5 = 20.0\n",
      "4.0 x 6 = 24.0\n",
      "4.0 x 7 = 28.0\n",
      "4.0 x 8 = 32.0\n",
      "4.0 x 9 = 36.0\n",
      "4.0 x 10 = 40.0\n"
     ]
    }
   ],
   "source": [
    "'''\n",
    "Multiplication table printer\n",
    "乗算表生成器\n",
    "'''\n",
    "\n",
    "def multi_table(a):\n",
    "    for i in range(1, 11):\n",
    "        print('{0} x {1} = {2}'.format(a, i, a*i))\n",
    "\n",
    "if __name__ == '__main__':\n",
    "    a = input('Enter a number: ')\n",
    "    multi_table(float(a))"
   ]
  },
  {
   "cell_type": "code",
   "execution_count": 78,
   "metadata": {},
   "outputs": [
    {
     "name": "stdout",
     "output_type": "stream",
     "text": [
      "3.14\n"
     ]
    }
   ],
   "source": [
    "# C言語で言う書式指定子\n",
    "print('{0:.2f}'.format(3.141592))"
   ]
  },
  {
   "cell_type": "code",
   "execution_count": 81,
   "metadata": {},
   "outputs": [
    {
     "name": "stdout",
     "output_type": "stream",
     "text": [
      "1. Kilometers to Miles\n",
      "2. Miles to Kilometers\n",
      "Which conversion would you like to do?: 1\n",
      "Enter distance in kilometers: 123\n",
      "Distance in miles: 76.44499689247981\n"
     ]
    }
   ],
   "source": [
    "'''\n",
    "Unit converter: Miles and Kilometers\n",
    "単位変換プログラム: マイルとキロメートル\n",
    "'''\n",
    "\n",
    "def print_menu():\n",
    "    print('1. Kilometers to Miles')\n",
    "    print('2. Miles to Kilometers')\n",
    "    \n",
    "def km_miles():\n",
    "    km = float(input('Enter distance in kilometers: '))\n",
    "    miles = km / 1.609\n",
    "    print('Distance in miles: {0}'.format(miles))\n",
    "    \n",
    "def miles_km():\n",
    "    miles = float(input('Enter distance in miles: '))\n",
    "    km = miles * 1.609\n",
    "    print('Distance in kilometers: {0}'.format(km))\n",
    "    \n",
    "if __name__ == '__main__':\n",
    "    print_menu()\n",
    "    choice = input('Which conversion would you like to do?: ')\n",
    "    if choice == '1':\n",
    "        km_miles()\n",
    "    if choice == '2':\n",
    "        miles_km()\n"
   ]
  },
  {
   "cell_type": "code",
   "execution_count": null,
   "metadata": {},
   "outputs": [],
   "source": [
    "a = 1\n",
    "b = 2\n",
    "c = 1\n",
    "\n",
    "D = (b**2 -4*a*c)"
   ]
  }
 ],
 "metadata": {
  "kernelspec": {
   "display_name": "Python 3",
   "language": "python",
   "name": "python3"
  },
  "language_info": {
   "codemirror_mode": {
    "name": "ipython",
    "version": 3
   },
   "file_extension": ".py",
   "mimetype": "text/x-python",
   "name": "python",
   "nbconvert_exporter": "python",
   "pygments_lexer": "ipython3",
   "version": "3.6.4"
  }
 },
 "nbformat": 4,
 "nbformat_minor": 2
}
