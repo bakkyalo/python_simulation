{
 "cells": [
  {
   "cell_type": "code",
   "execution_count": 5,
   "metadata": {},
   "outputs": [
    {
     "name": "stdout",
     "output_type": "stream",
     "text": [
      "sum:  6\n",
      "len:  3\n"
     ]
    }
   ],
   "source": [
    "shortlist = [1, 2, 3]\n",
    "print('sum: ' , sum(shortlist))\n",
    "print('len: ', len(shortlist))"
   ]
  },
  {
   "cell_type": "code",
   "execution_count": 7,
   "metadata": {},
   "outputs": [
    {
     "name": "stdout",
     "output_type": "stream",
     "text": [
      "Mean donation over the last 12 days is 477.75\n"
     ]
    }
   ],
   "source": [
    "'''\n",
    "Calculating the mean\n",
    "'''\n",
    "\n",
    "def calculate_mean(numbers):\n",
    "    s = sum(numbers)\n",
    "    N = len(numbers)\n",
    "    # calculate the mean\n",
    "    mean = s/N\n",
    "    return mean\n",
    "\n",
    "if __name__ == '__main__':\n",
    "    donations = [100, 60, 70, 900, 100, 200, 500, 500, 503, 600, 1000, 1200]\n",
    "    mean = calculate_mean(donations)\n",
    "    N = len(donations)\n",
    "    print('Mean donation over the last {0} days is {1}'.format(N, mean))"
   ]
  },
  {
   "cell_type": "code",
   "execution_count": 8,
   "metadata": {},
   "outputs": [
    {
     "data": {
      "text/plain": [
       "[1, 3, 4]"
      ]
     },
     "execution_count": 8,
     "metadata": {},
     "output_type": "execute_result"
    }
   ],
   "source": [
    "# sort()メソッド\n",
    "samplelist = [4, 1, 3]\n",
    "samplelist.sort()\n",
    "samplelist"
   ]
  },
  {
   "cell_type": "code",
   "execution_count": 10,
   "metadata": {},
   "outputs": [
    {
     "name": "stdout",
     "output_type": "stream",
     "text": [
      "Median donation over the last 12 day is 500.0\n"
     ]
    }
   ],
   "source": [
    "'''\n",
    "Calculating the median\n",
    "'''\n",
    "\n",
    "def calculate_median(numbers):\n",
    "    N = len(numbers)\n",
    "    numbers.sort()\n",
    "    \n",
    "    # find the median\n",
    "    if N%2 == 0:\n",
    "        # if N is even\n",
    "        m1 = (N/2)\n",
    "        m2 = (N/2) + 1\n",
    "        # convert to integer, match position\n",
    "        m1 = int(m1) - 1\n",
    "        m2 = int(m2) - 1\n",
    "        median = (numbers[m1] + numbers[m2])/2\n",
    "    else:\n",
    "        m = (N+1)/2\n",
    "        # convert to integer, match position\n",
    "        m = int(m) - 1\n",
    "        median = number[m]\n",
    "    return median\n",
    "\n",
    "if __name__ == '__main__':\n",
    "    donations = [100, 60, 70, 900, 100, 200, 500, 500, 503, 600, 1000, 1200]\n",
    "    median = calculate_median(donations)\n",
    "    N = len(donations)\n",
    "    print('Median donation over the last {0} day is {1}'.format(N, median))"
   ]
  },
  {
   "cell_type": "code",
   "execution_count": 14,
   "metadata": {},
   "outputs": [
    {
     "data": {
      "text/plain": [
       "Counter({1: 1, 2: 1, 3: 1, 4: 2})"
      ]
     },
     "execution_count": 14,
     "metadata": {},
     "output_type": "execute_result"
    }
   ],
   "source": [
    "from collections import Counter\n",
    "simplelist = [4, 2, 1, 3, 4]\n",
    "c = Counter(simplelist)\n",
    "c"
   ]
  },
  {
   "cell_type": "code",
   "execution_count": 15,
   "metadata": {},
   "outputs": [
    {
     "data": {
      "text/plain": [
       "[(4, 2), (2, 1), (1, 1), (3, 1)]"
      ]
     },
     "execution_count": 15,
     "metadata": {},
     "output_type": "execute_result"
    }
   ],
   "source": [
    "# most_common() メソッド\n",
    "from collections import Counter\n",
    "simplelist = [4, 2, 1, 3, 4]\n",
    "c = Counter(simplelist)\n",
    "c.most_common()"
   ]
  },
  {
   "cell_type": "code",
   "execution_count": 18,
   "metadata": {},
   "outputs": [
    {
     "data": {
      "text/plain": [
       "4"
      ]
     },
     "execution_count": 18,
     "metadata": {},
     "output_type": "execute_result"
    }
   ],
   "source": [
    "from collections import Counter\n",
    "simplelist = [4, 2, 1, 3, 4]\n",
    "c = Counter(simplelist)\n",
    "mode = c.most_common(1)\n",
    "mode[0][0]"
   ]
  },
  {
   "cell_type": "code",
   "execution_count": 19,
   "metadata": {},
   "outputs": [
    {
     "name": "stdout",
     "output_type": "stream",
     "text": [
      "The mode of the list of numbers is: 9\n"
     ]
    }
   ],
   "source": [
    "'''\n",
    "Calculating the mode\n",
    "'''\n",
    "from collections import Counter\n",
    "\n",
    "def calculate_mode(numbers):\n",
    "    c = Counter(numbers)\n",
    "    mode = c.most_common(1)\n",
    "    return mode[0][0]\n",
    "\n",
    "if __name__ == '__main__':\n",
    "    scores = [7, 8, 9, 2, 10, 9, 9, 9, 9, 4, 5, 6, 1, 5, 6, 7, 8, 6, 1, 10]\n",
    "    mode = calculate_mode(scores)\n",
    "    \n",
    "    print('The mode of the list of numbers is: {0}'. format(mode))"
   ]
  },
  {
   "cell_type": "code",
   "execution_count": 20,
   "metadata": {},
   "outputs": [
    {
     "name": "stdout",
     "output_type": "stream",
     "text": [
      "The mode(s) of the lost of numbers are:\n",
      "5\n",
      "4\n"
     ]
    }
   ],
   "source": [
    "'''\n",
    "Calculating the mode when the list of numbers may\n",
    "have multiple modes\n",
    "'''\n",
    "from collections import Counter\n",
    "\n",
    "def calculate_mode(numbers):\n",
    "    c = Counter(numbers)\n",
    "    numbers_freq = c.most_common()\n",
    "    max_count = numbers_freq[0][1]\n",
    "    \n",
    "    modes = []\n",
    "    for num in numbers_freq:\n",
    "        if num[1] == max_count:\n",
    "            modes.append(num[0])\n",
    "    return modes\n",
    "\n",
    "if __name__ == '__main__':\n",
    "    scores = [5, 5, 5, 4, 4, 4, 9, 1, 3]\n",
    "    modes = calculate_mode(scores)\n",
    "    print('The mode(s) of the lost of numbers are:')\n",
    "    for mode in modes:\n",
    "        print(mode)"
   ]
  },
  {
   "cell_type": "code",
   "execution_count": 22,
   "metadata": {},
   "outputs": [
    {
     "name": "stdout",
     "output_type": "stream",
     "text": [
      "Number\tFrequency\n",
      "9\t\t5\n",
      "6\t\t3\n",
      "7\t\t2\n",
      "8\t\t2\n",
      "10\t\t2\n",
      "5\t\t2\n",
      "1\t\t2\n",
      "2\t\t1\n",
      "4\t\t1\n"
     ]
    }
   ],
   "source": [
    "'''\n",
    "Frequency table for a list of numbers\n",
    "'''\n",
    "from collections import Counter\n",
    "def frequency_table(numbers):\n",
    "    table = Counter(numbers)\n",
    "    print('Number\\tFrequency')\n",
    "    for number in table.most_common():\n",
    "        print('{0}\\t\\t{1}'. format(number[0], number[1]))\n",
    "        \n",
    "if __name__ == '__main__':\n",
    "    scores = [7, 8, 9, 2, 10, 9, 9, 9, 9, 4, 5, 6, 1, 5, 6, 7, 8, 6, 1, 10]\n",
    "    frequency_table(scores)"
   ]
  },
  {
   "cell_type": "code",
   "execution_count": 24,
   "metadata": {},
   "outputs": [
    {
     "name": "stdout",
     "output_type": "stream",
     "text": [
      "Number\tFrequency\n",
      "1\t\t2\n",
      "2\t\t1\n",
      "4\t\t1\n",
      "5\t\t2\n",
      "6\t\t3\n",
      "7\t\t2\n",
      "8\t\t2\n",
      "9\t\t5\n",
      "10\t\t2\n"
     ]
    }
   ],
   "source": [
    "'''\n",
    "Frequency table for a list of numbers\n",
    "Enhanced to display the table sorted by the numbers\n",
    "'''\n",
    "from collections import Counter\n",
    "def frequency_table(numbers):\n",
    "    table = Counter(numbers)\n",
    "    # ~~~~~~~~~~~~~~~~~~~~~~~~~~~\n",
    "    numbers_freq = table.most_common()\n",
    "    numbers_freq.sort()\n",
    "    # ~~~~~~~~~~~~~~~~~~~~~~~~~~~\n",
    "    print('Number\\tFrequency')\n",
    "    #\n",
    "    for number in numbers_freq:\n",
    "        print('{0}\\t\\t{1}'. format(number[0], number[1]))\n",
    "        \n",
    "if __name__ == '__main__':\n",
    "    scores = [7, 8, 9, 2, 10, 9, 9, 9, 9, 4, 5, 6, 1, 5, 6, 7, 8, 6, 1, 10]\n",
    "    frequency_table(scores)"
   ]
  },
  {
   "cell_type": "code",
   "execution_count": 28,
   "metadata": {},
   "outputs": [
    {
     "name": "stdout",
     "output_type": "stream",
     "text": [
      "Lowest: 60  Highest: 1200  Range:1140\n"
     ]
    }
   ],
   "source": [
    "'''\n",
    "Find the range\n",
    "'''\n",
    "\n",
    "def find_range(numbers):\n",
    "    lowest = min(numbers)\n",
    "    highest = max(numbers)\n",
    "    # find the range\n",
    "    r = highest - lowest\n",
    "    return lowest, highest, r     # Python では複数 return できる!!!\n",
    "\n",
    "if __name__ == '__main__':\n",
    "    donations = [100, 60, 70, 900, 100, 200, 500, 500, 503, 600, 1000, 1200]\n",
    "    lowest, highest, r = find_range(donations)\n",
    "    print('Lowest: {0}  Highest: {1}  Range:{2}'. format(lowest, highest, r))"
   ]
  },
  {
   "cell_type": "code",
   "execution_count": 30,
   "metadata": {},
   "outputs": [
    {
     "name": "stdout",
     "output_type": "stream",
     "text": [
      "The variance of the list of numbers is 141047.35416666666\n",
      "The standard deviation of the list of numbers is 375.5627166887931\n"
     ]
    }
   ],
   "source": [
    "'''\n",
    "Find the variance and standard deviation of a list of numbers\n",
    "'''\n",
    "\n",
    "def calculate_mean(numbers):\n",
    "    s = sum(numbers)\n",
    "    N = len(numbers)\n",
    "    # calculate the mean\n",
    "    mean = s/N\n",
    "    return mean\n",
    "\n",
    "def find_differences(numbers):\n",
    "    # find the mean\n",
    "    mean = calculate_mean(numbers)\n",
    "    diff = []\n",
    "    \n",
    "    for num in numbers:\n",
    "        diff.append(num-mean)\n",
    "    return diff\n",
    "\n",
    "def calculate_variance(numbers):\n",
    "    # find the list of differences\n",
    "    diff = find_differences(numbers)\n",
    "    # find the squared differences\n",
    "    squared_diff = []\n",
    "    for d in diff:\n",
    "        squared_diff.append(d**2)\n",
    "    # find the variance\n",
    "    sum_squared_diff = sum(squared_diff)\n",
    "    variance = sum_squared_diff / len(numbers)\n",
    "    return variance\n",
    "\n",
    "if __name__ == '__main__':\n",
    "    donations = [100, 60, 70, 900, 100, 200, 500, 500, 503, 600, 1000, 1200]\n",
    "    variance = calculate_variance(donations)\n",
    "    print('The variance of the list of numbers is {0}'. format(variance))\n",
    "    \n",
    "    std = variance**0.5\n",
    "    print('The standard deviation of the list of numbers is {0}'. format(std))"
   ]
  },
  {
   "cell_type": "code",
   "execution_count": 6,
   "metadata": {},
   "outputs": [
    {
     "name": "stdout",
     "output_type": "stream",
     "text": [
      "1 4\n",
      "2 5\n",
      "3 6\n"
     ]
    }
   ],
   "source": [
    "simple_list1 = [1, 2, 3]\n",
    "simple_list2 = [4, 5, 6]\n",
    "for x, y in zip(simple_list1, simple_list2):\n",
    "    print(x, y)"
   ]
  },
  {
   "cell_type": "code",
   "execution_count": 16,
   "metadata": {},
   "outputs": [],
   "source": [
    "def find_corr_x_y(x, y):\n",
    "    n = len(x)\n",
    "    # find the sum of the products\n",
    "    prod = []\n",
    "    for xi, yi in zip(x, y):\n",
    "        prod.append(xi*yi)\n",
    "    sum_prod_x_y = sum(prod)\n",
    "    sum_x = sum(x)\n",
    "    sum_y = sum(y)\n",
    "    squared_sum_x = sum_x**2\n",
    "    squared_sum_y = sum_y**2\n",
    "    \n",
    "    x_square = []\n",
    "    for xi in x:\n",
    "        x_square.append(xi**2)\n",
    "    # find the sum\n",
    "    x_square_sum = sum(x_square)\n",
    "    \n",
    "    y_square = []\n",
    "    for yi in y:\n",
    "        y_square.append(yi**2)\n",
    "    # find the sum\n",
    "    y_square_sum = sum(y_square)\n",
    "    \n",
    "    # use formula to calculate correlation\n",
    "    numerator = n * sum_prod_x_y - sum_x * sum_y\n",
    "    denominator_term1 = n*x_square_sum - squared_sum_x\n",
    "    denominator_term2 = n*y_square_sum - squared_sum_y\n",
    "    denominator = (denominator_term1 * denominator_term2) ** 0.5\n",
    "    correlation = numerator / denominator\n",
    "    \n",
    "    return correlation"
   ]
  },
  {
   "cell_type": "code",
   "execution_count": 10,
   "metadata": {},
   "outputs": [
    {
     "data": {
      "text/plain": [
       "<matplotlib.collections.PathCollection at 0x88e96d8>"
      ]
     },
     "execution_count": 10,
     "metadata": {},
     "output_type": "execute_result"
    },
    {
     "data": {
      "image/png": "[encoded data removed]",
      "text/plain": [
       "<matplotlib.figure.Figure at 0x88527b8>"
      ]
     },
     "metadata": {},
     "output_type": "display_data"
    }
   ],
   "source": [
    "import matplotlib.pyplot as plt\n",
    "\n",
    "HighSchool = [90, 92, 95, 96, 87, 87, 90, 95, 98, 96]\n",
    "College =[85, 87, 86, 97, 96, 88, 89, 98, 98, 87]\n",
    "\n",
    "plt.scatter(HighSchool, College)\n",
    "# fig = plt.figure()"
   ]
  },
  {
   "cell_type": "code",
   "execution_count": 5,
   "metadata": {},
   "outputs": [
    {
     "data": {
      "text/plain": [
       "[1, 4, 9]"
      ]
     },
     "execution_count": 5,
     "metadata": {},
     "output_type": "execute_result"
    }
   ],
   "source": [
    "A = [1, 2, 3]\n",
    "A_square =[]\n",
    "for a in A:\n",
    "    A_square.append(a**2) \n",
    "A_square"
   ]
  },
  {
   "cell_type": "code",
   "execution_count": 3,
   "metadata": {},
   "outputs": [
    {
     "data": {
      "image/png": "[encoded data removed]",
      "text/plain": [
       "<matplotlib.figure.Figure at 0x8c6b208>"
      ]
     },
     "metadata": {},
     "output_type": "display_data"
    }
   ],
   "source": [
    "import matplotlib.pyplot as plt\n",
    "x = [1, 2, 3, 4]\n",
    "y = [2, 4, 6, 8]\n",
    "plt.scatter(x, y)\n",
    "plt.show()"
   ]
  },
  {
   "cell_type": "code",
   "execution_count": 5,
   "metadata": {},
   "outputs": [
    {
     "name": "stdout",
     "output_type": "stream",
     "text": [
      "Sum of the numbers: 5733.0\n"
     ]
    }
   ],
   "source": [
    "# find the sum of numbers stored in a file\n",
    "def sum_data(filename):\n",
    "    s = 0\n",
    "    with open(filename) as f:\n",
    "        for line in f:\n",
    "            s = s + float(line)\n",
    "    print('Sum of the numbers: {0}'. format(s))\n",
    "\n",
    "if __name__ == '__main__':\n",
    "    sum_data('mydata.txt')"
   ]
  },
  {
   "cell_type": "code",
   "execution_count": 6,
   "metadata": {},
   "outputs": [
    {
     "name": "stdout",
     "output_type": "stream",
     "text": [
      "Mean: 477.75\n"
     ]
    }
   ],
   "source": [
    "'''\n",
    "Calculating the mean of numbers stored in a file\n",
    "'''\n",
    "\n",
    "def read_data(filename):\n",
    "    numbers = []\n",
    "    with open(filename) as f:\n",
    "        for line in f:\n",
    "            numbers.append(float(line))\n",
    "    return numbers\n",
    "\n",
    "def calculate_mean(numbers):\n",
    "    s = sum(numbers)\n",
    "    N = len(numbers)\n",
    "    mean = s/N\n",
    "    return mean\n",
    "\n",
    "if __name__ == '__main__':\n",
    "    data = read_data('mydata.txt')\n",
    "    mean = calculate_mean(data)\n",
    "    print('Mean: {0}'. format(mean))"
   ]
  },
  {
   "cell_type": "code",
   "execution_count": 9,
   "metadata": {},
   "outputs": [
    {
     "data": {
      "image/png": "[encoded data removed]",
      "text/plain": [
       "<matplotlib.figure.Figure at 0x7e71550>"
      ]
     },
     "metadata": {},
     "output_type": "display_data"
    }
   ],
   "source": [
    "import csv\n",
    "import matplotlib.pyplot as plt\n",
    "\n",
    "def scatter_plot(x, y):\n",
    "    plt.scatter(x, y)\n",
    "    plt.xlabel('Number')\n",
    "    plt.ylabel('Square')\n",
    "    plt.show()\n",
    "    \n",
    "def read_csv(filename):\n",
    "    numbers = []\n",
    "    squared = []\n",
    "    with open(filename) as f:\n",
    "        reader = csv.reader(f)    # CSVファイルの第１行へのポインタ\n",
    "        next(reader)\n",
    "        for row in reader:\n",
    "            numbers.append(int(row[0]))\n",
    "            squared.append(int(row[1]))\n",
    "    return numbers, squared\n",
    "\n",
    "if __name__ == '__main__':\n",
    "    numbers, squared = read_csv('numbers.csv')\n",
    "    scatter_plot(numbers, squared)"
   ]
  },
  {
   "cell_type": "code",
   "execution_count": null,
   "metadata": {},
   "outputs": [],
   "source": []
  },
  {
   "cell_type": "code",
   "execution_count": 23,
   "metadata": {},
   "outputs": [
    {
     "name": "stdout",
     "output_type": "stream",
     "text": [
      "correlation coefficient: cannot calculate correlation.\n"
     ]
    }
   ],
   "source": [
    "# 問題3-1\n",
    "def find_corr_x_y(x, y):\n",
    "    n = len(x)\n",
    "    m = len(y)\n",
    "    if n!=m:\n",
    "        # print('cannot calculate correlation.')\n",
    "        return 'cannot calculate correlation.'\n",
    "    # find the sum of the products\n",
    "    prod = []\n",
    "    for xi, yi in zip(x, y):\n",
    "        prod.append(xi*yi)\n",
    "    sum_prod_x_y = sum(prod)\n",
    "    sum_x = sum(x)\n",
    "    sum_y = sum(y)\n",
    "    squared_sum_x = sum_x**2\n",
    "    squared_sum_y = sum_y**2\n",
    "    \n",
    "    x_square = []\n",
    "    for xi in x:\n",
    "        x_square.append(xi**2)\n",
    "    # find the sum\n",
    "    x_square_sum = sum(x_square)\n",
    "    \n",
    "    y_square = []\n",
    "    for yi in y:\n",
    "        y_square.append(yi**2)\n",
    "    # find the sum\n",
    "    y_square_sum = sum(y_square)\n",
    "    \n",
    "    # use formula to calculate correlation\n",
    "    numerator = n * sum_prod_x_y - sum_x * sum_y\n",
    "    denominator_term1 = n*x_square_sum - squared_sum_x\n",
    "    denominator_term2 = n*y_square_sum - squared_sum_y\n",
    "    denominator = (denominator_term1 * denominator_term2) ** 0.5\n",
    "    correlation = numerator / denominator\n",
    "    \n",
    "    return correlation\n",
    "\n",
    "if __name__ == '__main__':\n",
    "    x = [1, 2, 3]\n",
    "    y = [10, 8, 7, 1]\n",
    "    r = find_corr_x_y(x, y)\n",
    "    print('correlation coefficient: {0}'. format(r))"
   ]
  },
  {
   "cell_type": "code",
   "execution_count": null,
   "metadata": {},
   "outputs": [],
   "source": []
  },
  {
   "cell_type": "code",
   "execution_count": null,
   "metadata": {},
   "outputs": [],
   "source": []
  },
  {
   "cell_type": "code",
   "execution_count": null,
   "metadata": {},
   "outputs": [],
   "source": [
    "# 問題3-4 百分位\n",
    "def read_file(filename):\n",
    "    numbers = []\n",
    "    with open(filename) as f:\n",
    "        for line in f:\n",
    "            numbers.append(float(line))\n",
    "    return numbers\n",
    "\n",
    "def calc_percentile(numbers):\n",
    "    numbers.sort()\n",
    "    n = len(numbers)"
   ]
  }
 ],
 "metadata": {
  "kernelspec": {
   "display_name": "Python 3",
   "language": "python",
   "name": "python3"
  },
  "language_info": {
   "codemirror_mode": {
    "name": "ipython",
    "version": 3
   },
   "file_extension": ".py",
   "mimetype": "text/x-python",
   "name": "python",
   "nbconvert_exporter": "python",
   "pygments_lexer": "ipython3",
   "version": "3.7.4"
  }
 },
 "nbformat": 4,
 "nbformat_minor": 2
}
